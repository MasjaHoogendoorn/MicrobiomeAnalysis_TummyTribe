{
 "cells": [
  {
   "cell_type": "markdown",
   "metadata": {
    "id": "kDMyChsNiNRV"
   },
   "source": [
    "# TummyTribe Microbiome Analysis\n",
    "**Authors:** Laura Nieba, Julia Frank, and Masja Hoogendoorn\n",
    "\n",
    "\n",
    "---\n",
    "\n",
    "## Project Overview\n",
    "\n",
    "The TummyTribe project investigates how infant gut microbiome composition changes with age, diet type (breastfed vs formula-fed), and treatment exposure.  \n",
    "Using 16S rRNA sequencing data (V4 region), the goal is to identify key microbial patterns and potential biological implications for infant health.\n",
    "\n",
    "**Main research questions:**\n",
    "1. How do microbiome profiles differ across infant ages and geolocations?  \n",
    "2. What constitutes the core microbiota of breastfed versus formula-fed infants?  \n",
    "3. Does treatment exposure alter gut microbial composition or diversity?\n",
    "\n",
    "---\n",
    "\n",
    "## Analysis Workflow\n",
    "\n",
    "The analysis proceeds through the following stages:\n",
    "\n",
    "1. **Data import**  \n",
    "   Load demultiplexed paired-end sequences and sample metadata into QIIME2.\n",
    "\n",
    "2. **Quality control and denoising**  \n",
    "   Filter low-quality reads, merge forward/reverse pairs, remove chimeras, and generate an ASV table.  \n",
    "   *Tool:* QIIME2 (DADA2)\n",
    "\n",
    "3. **Taxonomic classification**  \n",
    "   Assign taxonomy using a SILVA v4 pre-trained classifier.  \n",
    "   *Tool:* QIIME2\n",
    "\n",
    "4. **Phylogenetic tree construction**  \n",
    "   Build multiple sequence alignment and a rooted tree for diversity metrics.  \n",
    "   *Tools:* QIIME2 (MAFFT, FastTree)\n",
    "\n",
    "5. **Diversity analysis**  \n",
    "   Compute alpha and beta diversity metrics and test for group differences.  \n",
    "   *Tool:* QIIME2\n",
    "\n",
    "6. **Differential abundance analysis**  \n",
    "   Identify taxa differing between groups such as diet or treatment.  \n",
    "   *Tool:* R (DESeq2)\n",
    "\n",
    "7. **Visualization and interpretation**  \n",
    "   Summarize and visualise key results.  \n",
    "   *Tools:* Python / R\n"
   ]
  }
 ],
 "metadata": {
  "colab": {
   "provenance": []
  },
  "kernelspec": {
   "display_name": "QIIME 2",
   "language": "python",
   "name": "python3"
  },
  "language_info": {
   "codemirror_mode": {
    "name": "ipython",
    "version": 3
   },
   "file_extension": ".py",
   "mimetype": "text/x-python",
   "name": "python",
   "nbconvert_exporter": "python",
   "pygments_lexer": "ipython3",
   "version": "3.10.14"
  }
 },
 "nbformat": 4,
 "nbformat_minor": 4
}
