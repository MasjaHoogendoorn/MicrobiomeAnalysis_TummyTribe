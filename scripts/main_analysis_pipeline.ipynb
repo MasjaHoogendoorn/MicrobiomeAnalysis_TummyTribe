{
  "nbformat": 4,
  "nbformat_minor": 0,
  "metadata": {
    "colab": {
      "provenance": []
    },
    "kernelspec": {
      "name": "python3",
      "display_name": "Python 3"
    },
    "language_info": {
      "name": "python"
    }
  },
  "cells": [
    {
      "cell_type": "markdown",
      "source": [
        "# TummyTribe Microbiome Analysis\n",
        "**Authors:** Laura Nieba, Julia Frank, and Masja Hoogendoorn\n",
        "\n",
        "\n",
        "---\n",
        "\n",
        "## Project Overview\n",
        "\n",
        "The TummyTribe project investigates how infant gut microbiome composition changes with age, diet type (breastfed vs formula-fed), and treatment exposure.  \n",
        "Using 16S rRNA sequencing data (V4 region), the goal is to identify key microbial patterns and potential biological implications for infant health.\n",
        "\n",
        "**Main research questions:**\n",
        "1. How do microbiome profiles differ across infant ages and geolocations?  \n",
        "2. What constitutes the core microbiota of breastfed versus formula-fed infants?  \n",
        "3. Does treatment exposure alter gut microbial composition or diversity?\n",
        "\n",
        "---\n",
        "\n",
        "## Analysis Workflow\n",
        "\n",
        "The analysis proceeds through the following stages:\n",
        "\n",
        "1. **Data import**  \n",
        "   Load demultiplexed paired-end sequences and sample metadata into QIIME2.\n",
        "\n",
        "2. **Quality control and denoising**  \n",
        "   Filter low-quality reads, merge forward/reverse pairs, remove chimeras, and generate an ASV table.  \n",
        "   *Tool:* QIIME2 (DADA2)\n",
        "\n",
        "3. **Taxonomic classification**  \n",
        "   Assign taxonomy using a SILVA v4 pre-trained classifier.  \n",
        "   *Tool:* QIIME2\n",
        "\n",
        "4. **Phylogenetic tree construction**  \n",
        "   Build multiple sequence alignment and a rooted tree for diversity metrics.  \n",
        "   *Tools:* QIIME2 (MAFFT, FastTree)\n",
        "\n",
        "5. **Diversity analysis**  \n",
        "   Compute alpha and beta diversity metrics and test for group differences.  \n",
        "   *Tool:* QIIME2\n",
        "\n",
        "6. **Differential abundance analysis**  \n",
        "   Identify taxa differing between groups such as diet or treatment.  \n",
        "   *Tool:* R (DESeq2)\n",
        "\n",
        "7. **Visualization and interpretation**  \n",
        "   Summarize and visualise key results.  \n",
        "   *Tools:* Python / R\n"
      ],
      "metadata": {
        "id": "kDMyChsNiNRV"
      }
    },
    {
      "cell_type": "code",
      "source": [
        "import pandas as pd\n",
        "import numpy as np\n",
        "import matplotlib.pyplot as plt\n",
        "import seaborn as sns\n",
        "import os\n",
        "\n",
        "pd.set_option('display.max_columns', 50)\n",
        "plt.style.use('seaborn-v0_8-whitegrid')\n",
        "sns.set_context(\"talk\")\n",
        "\n",
        "!qiime --version"
      ],
      "metadata": {
        "colab": {
          "base_uri": "https://localhost:8080/"
        },
        "id": "NkaOBAV1iRjG",
        "outputId": "14c015e4-ca2a-4975-ace0-a606b6d5dc90"
      },
      "execution_count": 2,
      "outputs": [
        {
          "output_type": "stream",
          "name": "stdout",
          "text": [
            "/bin/bash: line 1: qiime: command not found\n"
          ]
        }
      ]
    }
  ]
}