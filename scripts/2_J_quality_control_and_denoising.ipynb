{
 "cells": [
  {
   "cell_type": "markdown",
   "id": "fa79d3b6-5fb9-48af-a810-2384ef4e7745",
   "metadata": {},
   "source": [
    "# 2. Quality control and denoising\n",
    "## Import Data & Packages"
   ]
  },
  {
   "cell_type": "code",
   "execution_count": 2,
   "id": "251c63e3-9eb3-4fe2-995b-fa10eede6b7f",
   "metadata": {
    "tags": []
   },
   "outputs": [],
   "source": [
    "# 1 - Import all packages\n",
    "import IPython\n",
    "import pandas as pd\n",
    "from qiime2 import Visualization\n",
    "import matplotlib.pyplot as plt\n",
    "import os\n",
    "\n",
    "%matplotlib inline"
   ]
  },
  {
   "cell_type": "code",
   "execution_count": 3,
   "id": "18216a17-0bc5-4294-b98e-c14f4673f57d",
   "metadata": {
    "tags": []
   },
   "outputs": [
    {
     "name": "stdout",
     "output_type": "stream",
     "text": [
      "Current working directory: /home/jovyan/MicrobiomeAnalysis_TummyTribe\n"
     ]
    }
   ],
   "source": [
    "# 2 - Set working directory --> change this so it matches your path to the project folder\n",
    "os.chdir(\"/home/jovyan/MicrobiomeAnalysis_TummyTribe/\")\n",
    "\n",
    "# Verify that your wroking directory is the overall project folder (.../MicrobiomeAnalysis_TummyTribe)\n",
    "print(\"Current working directory:\", os.getcwd())"
   ]
  },
  {
   "cell_type": "code",
   "execution_count": 4,
   "id": "c6675378-4108-4e2a-81ea-1cf063f9d63d",
   "metadata": {
    "tags": []
   },
   "outputs": [],
   "source": [
    "# 3 - Data directories\n",
    "data_in = \"data/raw\"\n",
    "data_out = \"data/preprocessing\"\n",
    "results_dir = \"results/preprocessing\""
   ]
  },
  {
   "cell_type": "code",
   "execution_count": 4,
   "id": "3bc1e9ae-0fac-4d42-b72a-81bb566b258c",
   "metadata": {
    "tags": []
   },
   "outputs": [
    {
     "name": "stdout",
     "output_type": "stream",
     "text": [
      "\u001b[32mUUID\u001b[0m:        b4782ab7-550b-41f5-b906-ca2cda29ca9b\n",
      "\u001b[32mType\u001b[0m:        SampleData[PairedEndSequencesWithQuality]\n",
      "\u001b[32mData format\u001b[0m: SingleLanePerSamplePairedEndFastqDirFmt\n"
     ]
    }
   ],
   "source": [
    "# 4 - Have a look at the sequencing data\n",
    "! qiime tools peek $data_in/sequences-demux-paired.qza"
   ]
  },
  {
   "cell_type": "markdown",
   "id": "95325824-7930-4e89-af28-6d72dc22b2ce",
   "metadata": {},
   "source": [
    "## Quality Control"
   ]
  },
  {
   "cell_type": "code",
   "execution_count": 5,
   "id": "8c0992e6-5a06-450d-b061-dbc161ce5716",
   "metadata": {
    "tags": []
   },
   "outputs": [
    {
     "name": "stdout",
     "output_type": "stream",
     "text": [
      "/opt/conda/lib/python3.10/site-packages/unifrac/__init__.py:9: UserWarning: pkg_resources is deprecated as an API. See https://setuptools.pypa.io/en/latest/pkg_resources.html. The pkg_resources package is slated for removal as early as 2025-11-30. Refrain from using this package or pin to Setuptools<81.\n",
      "  import pkg_resources\n",
      "\u001b[32mSaved Visualization to: results/preprocessing/raw-QC.qzv\u001b[0m\n",
      "\u001b[0m\u001b[?25h"
     ]
    }
   ],
   "source": [
    "! qiime demux summarize \\\n",
    "    --i-data $data_in/sequences-demux-paired.qza \\\n",
    "    --o-visualization $results_dir/raw-QC.qzv"
   ]
  },
  {
   "cell_type": "code",
   "execution_count": 5,
   "id": "b655f4b9-ece5-45c3-8ae5-199118eb1334",
   "metadata": {
    "tags": []
   },
   "outputs": [
    {
     "data": {
      "text/html": [
       "<div><img onload=\"(function(div, url){\n",
       "if (typeof require !== 'undefined') {\n",
       "    var baseURL = require.toUrl('').split('/').slice(0, -2).join('/');\n",
       "} else {\n",
       "    var baseURL = JSON.parse(\n",
       "        document.getElementById('jupyter-config-data').innerHTML\n",
       "    ).baseUrl.slice(0, -1);\n",
       "}\n",
       "url = baseURL + url;\n",
       "fetch(url).then(function(res) {\n",
       "    if (res.status === 404) {\n",
       "        div.innerHTML = 'Install QIIME 2 Jupyter extension with:<br />' +\n",
       "                        '<code>jupyter server extension enable --py qiime2' +\n",
       "                        ' --sys-prefix</code><br />then restart your server.' +\n",
       "                        '<br /><br />(Interactive output not available on ' +\n",
       "                        'static notebook viewer services like nbviewer.)';\n",
       "    } else if (res.status === 409) {\n",
       "        div.innerHTML = 'Visualization no longer in scope. Re-run this cell' +\n",
       "                        ' to see the visualization.';\n",
       "    } else if (res.ok) {\n",
       "        url = res.url;\n",
       "        div.innerHTML = '<iframe src=\\'' + url + '\\' style=\\'' +\n",
       "                        'width: 100%; height: 700px; border: 0;\\'>' +\n",
       "                        '</iframe><hr />Open in a: <a href=\\'' + url + '\\'' +\n",
       "                        ' target=\\'_blank\\'>new window</a>'\n",
       "    } else {\n",
       "        div.innerHTML = 'Something has gone wrong. Check notebook server for' +\n",
       "                        ' errors.';\n",
       "    }\n",
       "});\n",
       "})(this.parentElement, '/qiime2/redirect?location=/tmp/qiime2/jovyan/data/88f9e06a-4fad-4400-a14d-323466ec9373')\" src=\"data:image/gif;base64,R0lGODlhAQABAIAAAP///wAAACH5BAEAAAAALAAAAAABAAEAAAICRAEAOw==\" /></div>"
      ],
      "text/plain": [
       "<visualization: Visualization uuid: 88f9e06a-4fad-4400-a14d-323466ec9373>"
      ]
     },
     "execution_count": 5,
     "metadata": {},
     "output_type": "execute_result"
    }
   ],
   "source": [
    "Visualization.load(f\"{results_dir}/raw-QC.qzv\")"
   ]
  },
  {
   "cell_type": "markdown",
   "id": "f273ae6e-198f-498e-84e0-526e5cf0e326",
   "metadata": {},
   "source": [
    "## Denoising - Amplicon Sequence Variants"
   ]
  },
  {
   "cell_type": "code",
   "execution_count": 7,
   "id": "4358dfb2-fe26-4498-af05-4f98bf8a702e",
   "metadata": {
    "tags": []
   },
   "outputs": [
    {
     "name": "stdout",
     "output_type": "stream",
     "text": [
      "Usage: \u001b[94mqiime dada2 denoise-paired\u001b[0m [OPTIONS]\n",
      "\n",
      "  This method denoises paired-end sequences, dereplicates them, and filters\n",
      "  chimeras.\n",
      "\n",
      "\u001b[1mInputs\u001b[0m:\n",
      "  \u001b[94m\u001b[4m--i-demultiplexed-seqs\u001b[0m ARTIFACT \u001b[32mSampleData[PairedEndSequencesWithQuality]\u001b[0m\n",
      "                          The paired-end demultiplexed sequences to be\n",
      "                          denoised.                                 \u001b[35m[required]\u001b[0m\n",
      "\u001b[1mParameters\u001b[0m:\n",
      "  \u001b[94m\u001b[4m--p-trunc-len-f\u001b[0m INTEGER Position at which forward read sequences should be\n",
      "                          truncated due to decrease in quality. This truncates\n",
      "                          the 3' end of the of the input sequences, which will\n",
      "                          be the bases that were sequenced in the last cycles.\n",
      "                          Reads that are shorter than this value will be\n",
      "                          discarded. After this parameter is applied there\n",
      "                          must still be at least a 12 nucleotide overlap\n",
      "                          between the forward and reverse reads. If 0 is\n",
      "                          provided, no truncation or length filtering will be\n",
      "                          performed                                 \u001b[35m[required]\u001b[0m\n",
      "  \u001b[94m\u001b[4m--p-trunc-len-r\u001b[0m INTEGER Position at which reverse read sequences should be\n",
      "                          truncated due to decrease in quality. This truncates\n",
      "                          the 3' end of the of the input sequences, which will\n",
      "                          be the bases that were sequenced in the last cycles.\n",
      "                          Reads that are shorter than this value will be\n",
      "                          discarded. After this parameter is applied there\n",
      "                          must still be at least a 12 nucleotide overlap\n",
      "                          between the forward and reverse reads. If 0 is\n",
      "                          provided, no truncation or length filtering will be\n",
      "                          performed                                 \u001b[35m[required]\u001b[0m\n",
      "  \u001b[94m--p-trim-left-f\u001b[0m INTEGER Position at which forward read sequences should be\n",
      "                          trimmed due to low quality. This trims the 5' end of\n",
      "                          the input sequences, which will be the bases that\n",
      "                          were sequenced in the first cycles.     \u001b[35m[default: 0]\u001b[0m\n",
      "  \u001b[94m--p-trim-left-r\u001b[0m INTEGER Position at which reverse read sequences should be\n",
      "                          trimmed due to low quality. This trims the 5' end of\n",
      "                          the input sequences, which will be the bases that\n",
      "                          were sequenced in the first cycles.     \u001b[35m[default: 0]\u001b[0m\n",
      "  \u001b[94m--p-max-ee-f\u001b[0m NUMBER     Forward reads with number of expected errors higher\n",
      "                          than this value will be discarded.    \u001b[35m[default: 2.0]\u001b[0m\n",
      "  \u001b[94m--p-max-ee-r\u001b[0m NUMBER     Reverse reads with number of expected errors higher\n",
      "                          than this value will be discarded.    \u001b[35m[default: 2.0]\u001b[0m\n",
      "  \u001b[94m--p-trunc-q\u001b[0m INTEGER     Reads are truncated at the first instance of a\n",
      "                          quality score less than or equal to this value. If\n",
      "                          the resulting read is then shorter than\n",
      "                          `\u001b[4mtrunc-len-f\u001b[0m` or `\u001b[4mtrunc-len-r\u001b[0m` (depending on the\n",
      "                          direction of the read) it is discarded. \u001b[35m[default: 2]\u001b[0m\n",
      "  \u001b[94m--p-min-overlap\u001b[0m INTEGER The minimum length of the overlap required for\n",
      "    \u001b[32mRange(4, None)\u001b[0m        merging the forward and reverse reads. \u001b[35m[default: 12]\u001b[0m\n",
      "  \u001b[94m--p-max-merge-mismatch\u001b[0m INTEGER\n",
      "                          The maximum number of mismatches allowed in the\n",
      "                          overlap region when merging reads. If 0, only exact\n",
      "                          overlaps are allowed.                   \u001b[35m[default: 0]\u001b[0m\n",
      "  \u001b[94m--p-trim-overhang\u001b[0m / \u001b[94m--p-no-trim-overhang\u001b[0m\n",
      "                          If TRUE, \"overhangs\" in the alignment after merging\n",
      "                          are trimmed off. \"Overhangs\" are when the reverse\n",
      "                          read extends past the start of the forward read, and\n",
      "                          vice-versa, as can happen when reads are longer than\n",
      "                          the amplicon and read into the other-direction\n",
      "                          primer region.                      \u001b[35m[default: False]\u001b[0m\n",
      "  \u001b[94m--p-pooling-method\u001b[0m TEXT \u001b[32mChoices('independent', 'pseudo')\u001b[0m\n",
      "                          The method used to pool samples for denoising.\n",
      "                          \"independent\": Samples are denoised indpendently.\n",
      "                          \"pseudo\": The pseudo-pooling method is used to\n",
      "                          approximate pooling of samples. In short, samples\n",
      "                          are denoised independently once, ASVs detected in at\n",
      "                          least 2 samples are recorded, and samples are\n",
      "                          denoised independently a second time, but this time\n",
      "                          with prior knowledge of the recorded ASVs and thus\n",
      "                          higher sensitivity to those ASVs.\n",
      "                                                      \u001b[35m[default: 'independent']\u001b[0m\n",
      "  \u001b[94m--p-chimera-method\u001b[0m TEXT \u001b[32mChoices('consensus', 'none')\u001b[0m\n",
      "                          The method used to remove chimeras. \"none\": No\n",
      "                          chimera removal is performed. \"consensus\": Chimeras\n",
      "                          are detected in samples individually, and sequences\n",
      "                          found chimeric in a sufficient fraction of samples\n",
      "                          are removed.                  \u001b[35m[default: 'consensus']\u001b[0m\n",
      "  \u001b[94m--p-min-fold-parent-over-abundance\u001b[0m NUMBER\n",
      "                          The minimum abundance of potential parents of a\n",
      "                          sequence being tested as chimeric, expressed as a\n",
      "                          fold-change versus the abundance of the sequence\n",
      "                          being tested. Values should be greater than or equal\n",
      "                          to 1 (i.e. parents should be more abundant than the\n",
      "                          sequence being tested). This parameter has no effect\n",
      "                          if \u001b[4mchimera-method\u001b[0m is \"none\".          \u001b[35m[default: 1.0]\u001b[0m\n",
      "  \u001b[94m--p-allow-one-off\u001b[0m / \u001b[94m--p-no-allow-one-off\u001b[0m\n",
      "                          Bimeras that are one-off from exact are also\n",
      "                          identified if the `\u001b[4mallow-one-off\u001b[0m` argument is TrueIf\n",
      "                          True, a sequence will be identified as bimera if it\n",
      "                          is one mismatch or indel away from an exact bimera.\n",
      "                                                              \u001b[35m[default: False]\u001b[0m\n",
      "  \u001b[94m--p-n-threads\u001b[0m NTHREADS  The number of threads to use for multithreaded\n",
      "                          processing. If 0 is provided, all available cores\n",
      "                          will be used.                           \u001b[35m[default: 1]\u001b[0m\n",
      "  \u001b[94m--p-n-reads-learn\u001b[0m INTEGER\n",
      "                          The number of reads to use when training the error\n",
      "                          model. Smaller numbers will result in a shorter run\n",
      "                          time but a less reliable error model.\n",
      "                                                            \u001b[35m[default: 1000000]\u001b[0m\n",
      "  \u001b[94m--p-hashed-feature-ids\u001b[0m / \u001b[94m--p-no-hashed-feature-ids\u001b[0m\n",
      "                          If true, the feature ids in the resulting table\n",
      "                          will be presented as hashes of the sequences\n",
      "                          defining each feature. The hash will always be the\n",
      "                          same for the same sequence so this allows feature\n",
      "                          tables to be merged across runs of this method. You\n",
      "                          should only merge tables if the exact same\n",
      "                          parameters are used for each run.    \u001b[35m[default: True]\u001b[0m\n",
      "  \u001b[94m--p-retain-all-samples\u001b[0m / \u001b[94m--p-no-retain-all-samples\u001b[0m\n",
      "                          If True all samples input to dada2 will be retained\n",
      "                          in the output of dada2, if false samples with zero\n",
      "                          total frequency are removed from the table.\n",
      "                                                               \u001b[35m[default: True]\u001b[0m\n",
      "\u001b[1mOutputs\u001b[0m:\n",
      "  \u001b[94m\u001b[4m--o-table\u001b[0m ARTIFACT \u001b[32mFeatureTable[Frequency]\u001b[0m\n",
      "                          The resulting feature table.              \u001b[35m[required]\u001b[0m\n",
      "  \u001b[94m\u001b[4m--o-representative-sequences\u001b[0m ARTIFACT \u001b[32mFeatureData[Sequence]\u001b[0m\n",
      "                          The resulting feature sequences. Each feature in\n",
      "                          the feature table will be represented by exactly one\n",
      "                          sequence, and these sequences will be the joined\n",
      "                          paired-end sequences.                     \u001b[35m[required]\u001b[0m\n",
      "  \u001b[94m\u001b[4m--o-denoising-stats\u001b[0m ARTIFACT \u001b[32mSampleData[DADA2Stats]\u001b[0m\n",
      "                                                                    \u001b[35m[required]\u001b[0m\n",
      "\u001b[1mMiscellaneous\u001b[0m:\n",
      "  \u001b[94m--output-dir\u001b[0m PATH       Output unspecified results to a directory\n",
      "  \u001b[94m--verbose\u001b[0m / \u001b[94m--quiet\u001b[0m     Display verbose output to stdout and/or stderr\n",
      "                          during execution of this action. Or silence output\n",
      "                          if execution is successful (silence is golden).\n",
      "  \u001b[94m--example-data\u001b[0m PATH     Write example data and exit.\n",
      "  \u001b[94m--citations\u001b[0m             Show citations and exit.\n",
      "  \u001b[94m--use-cache\u001b[0m DIRECTORY   Specify the cache to be used for the intermediate\n",
      "                          work of this action. If not provided, the default\n",
      "                          cache under $TMP/qiime2/<uname> will be used.\n",
      "                          IMPORTANT FOR HPC USERS: If you are on an HPC system\n",
      "                          and are using parallel execution it is important to\n",
      "                          set this to a location that is globally accessible\n",
      "                          to all nodes in the cluster.\n",
      "  \u001b[94m--help\u001b[0m                  Show this message and exit.\n",
      "\n",
      "\u001b[1mExamples\u001b[0m:\n",
      "  # ### example: denoise paired\n",
      "  qiime dada2 denoise-paired \\\n",
      "    --i-demultiplexed-seqs demux-paired.qza \\\n",
      "    --p-trunc-len-f 150 \\\n",
      "    --p-trunc-len-r 140 \\\n",
      "    --o-representative-sequences representative-sequences.qza \\\n",
      "    --o-table table.qza \\\n",
      "    --o-denoising-stats denoising-stats.qza\n",
      "  \n",
      "\n",
      "\u001b[33m                  There were some problems with the command:                  \u001b[0m\n",
      "\u001b[31m\u001b[1m (1/7) Missing option '--i-demultiplexed-seqs'.\u001b[0m\n",
      "\u001b[31m\u001b[1m (2/7) Missing option '--p-trunc-len-f'.\u001b[0m\n",
      "\u001b[31m\u001b[1m (3/7) Missing option '--p-trunc-len-r'.\u001b[0m\n",
      "\u001b[31m\u001b[1m (4/7) Missing option '--o-table'. (\"--output-dir\" may also be used)\u001b[0m\n",
      "\u001b[31m\u001b[1m (5/7) Missing option '--o-representative-sequences'. (\"--output-dir\" may also\n",
      "  be used)\u001b[0m\n",
      "\u001b[31m\u001b[1m (6/7) Missing option '--o-denoising-stats'. (\"--output-dir\" may also be used)\u001b[0m\n",
      "\u001b[31m\u001b[1m (7/7) Got unexpected extra argument (!help)\u001b[0m\n"
     ]
    }
   ],
   "source": [
    "! qiime dada2 denoise-paired !help"
   ]
  },
  {
   "cell_type": "code",
   "execution_count": 8,
   "id": "a540b97e-37b5-4c6f-afe3-36b81d18f2ca",
   "metadata": {
    "tags": []
   },
   "outputs": [
    {
     "name": "stdout",
     "output_type": "stream",
     "text": [
      "/opt/conda/lib/python3.10/site-packages/unifrac/__init__.py:9: UserWarning: pkg_resources is deprecated as an API. See https://setuptools.pypa.io/en/latest/pkg_resources.html. The pkg_resources package is slated for removal as early as 2025-11-30. Refrain from using this package or pin to Setuptools<81.\n",
      "  import pkg_resources\n",
      "\u001b[32mSaved FeatureTable[Frequency] to: data/preprocessing/dada2_table.qza\u001b[0m\n",
      "\u001b[32mSaved FeatureData[Sequence] to: data/preprocessing/dada2_rep_seq.qza\u001b[0m\n",
      "\u001b[32mSaved SampleData[DADA2Stats] to: data/preprocessing/dada2_stats.qza\u001b[0m\n",
      "\u001b[0m\u001b[?25h"
     ]
    }
   ],
   "source": [
    "! qiime dada2 denoise-paired \\\n",
    "    --i-demultiplexed-seqs $data_in/sequences-demux-paired.qza \\\n",
    "    --p-trunc-len-f 140 \\\n",
    "    --p-trunc-len-r 140 \\\n",
    "    --p-n-threads 3 \\\n",
    "    --o-table $data_out/dada2_table.qza \\\n",
    "    --o-representative-sequences $data_out/dada2_rep_seq.qza \\\n",
    "    --o-denoising-stats $data_out/dada2_stats.qza"
   ]
  },
  {
   "cell_type": "code",
   "execution_count": 9,
   "id": "5359b014-1656-4357-9658-d5eff9911484",
   "metadata": {
    "tags": []
   },
   "outputs": [
    {
     "name": "stdout",
     "output_type": "stream",
     "text": [
      "/opt/conda/lib/python3.10/site-packages/unifrac/__init__.py:9: UserWarning: pkg_resources is deprecated as an API. See https://setuptools.pypa.io/en/latest/pkg_resources.html. The pkg_resources package is slated for removal as early as 2025-11-30. Refrain from using this package or pin to Setuptools<81.\n",
      "  import pkg_resources\n",
      "\u001b[32mSaved Visualization to: results/preprocessing/dada2_stats.qzv\u001b[0m\n",
      "\u001b[0m\u001b[?25h"
     ]
    }
   ],
   "source": [
    "! qiime metadata tabulate \\\n",
    "    --m-input-file $data_out/dada2_stats.qza \\\n",
    "    --o-visualization $results_dir/dada2_stats.qzv"
   ]
  },
  {
   "cell_type": "code",
   "execution_count": 10,
   "id": "baeb6f44-417b-4345-9e19-2bc8f58eced4",
   "metadata": {
    "tags": []
   },
   "outputs": [
    {
     "data": {
      "text/html": [
       "<div><img onload=\"(function(div, url){\n",
       "if (typeof require !== 'undefined') {\n",
       "    var baseURL = require.toUrl('').split('/').slice(0, -2).join('/');\n",
       "} else {\n",
       "    var baseURL = JSON.parse(\n",
       "        document.getElementById('jupyter-config-data').innerHTML\n",
       "    ).baseUrl.slice(0, -1);\n",
       "}\n",
       "url = baseURL + url;\n",
       "fetch(url).then(function(res) {\n",
       "    if (res.status === 404) {\n",
       "        div.innerHTML = 'Install QIIME 2 Jupyter extension with:<br />' +\n",
       "                        '<code>jupyter server extension enable --py qiime2' +\n",
       "                        ' --sys-prefix</code><br />then restart your server.' +\n",
       "                        '<br /><br />(Interactive output not available on ' +\n",
       "                        'static notebook viewer services like nbviewer.)';\n",
       "    } else if (res.status === 409) {\n",
       "        div.innerHTML = 'Visualization no longer in scope. Re-run this cell' +\n",
       "                        ' to see the visualization.';\n",
       "    } else if (res.ok) {\n",
       "        url = res.url;\n",
       "        div.innerHTML = '<iframe src=\\'' + url + '\\' style=\\'' +\n",
       "                        'width: 100%; height: 700px; border: 0;\\'>' +\n",
       "                        '</iframe><hr />Open in a: <a href=\\'' + url + '\\'' +\n",
       "                        ' target=\\'_blank\\'>new window</a>'\n",
       "    } else {\n",
       "        div.innerHTML = 'Something has gone wrong. Check notebook server for' +\n",
       "                        ' errors.';\n",
       "    }\n",
       "});\n",
       "})(this.parentElement, '/qiime2/redirect?location=/tmp/qiime2/jovyan/data/384abd05-5545-48db-ac84-eafc6cae8516')\" src=\"data:image/gif;base64,R0lGODlhAQABAIAAAP///wAAACH5BAEAAAAALAAAAAABAAEAAAICRAEAOw==\" /></div>"
      ],
      "text/plain": [
       "<visualization: Visualization uuid: 384abd05-5545-48db-ac84-eafc6cae8516>"
      ]
     },
     "execution_count": 10,
     "metadata": {},
     "output_type": "execute_result"
    }
   ],
   "source": [
    "Visualization.load(f\"{results_dir}/dada2_stats.qzv\")"
   ]
  },
  {
   "cell_type": "markdown",
   "id": "de9d294a-c47b-40ed-aa70-3058fbde1e2b",
   "metadata": {},
   "source": [
    "### Feature Table"
   ]
  },
  {
   "cell_type": "code",
   "execution_count": 13,
   "id": "c45c8f48-ed0a-4a19-baee-1315698e3071",
   "metadata": {
    "tags": []
   },
   "outputs": [
    {
     "name": "stdout",
     "output_type": "stream",
     "text": [
      "/opt/conda/lib/python3.10/site-packages/unifrac/__init__.py:9: UserWarning: pkg_resources is deprecated as an API. See https://setuptools.pypa.io/en/latest/pkg_resources.html. The pkg_resources package is slated for removal as early as 2025-11-30. Refrain from using this package or pin to Setuptools<81.\n",
      "  import pkg_resources\n",
      "\u001b[32mSaved Visualization to: results/preprocessing/dada2_table.qzv\u001b[0m\n",
      "\u001b[0m\u001b[?25h"
     ]
    }
   ],
   "source": [
    "! qiime feature-table summarize \\\n",
    "    --i-table $data_out/dada2_table.qza \\\n",
    "    --m-sample-metadata-file $data_in/metadata.tsv \\\n",
    "    --o-visualization $results_dir/dada2_table.qzv"
   ]
  },
  {
   "cell_type": "code",
   "execution_count": 12,
   "id": "d2360af1-0de0-456e-be0a-54eeeddd60e1",
   "metadata": {
    "tags": []
   },
   "outputs": [
    {
     "data": {
      "text/html": [
       "<div><img onload=\"(function(div, url){\n",
       "if (typeof require !== 'undefined') {\n",
       "    var baseURL = require.toUrl('').split('/').slice(0, -2).join('/');\n",
       "} else {\n",
       "    var baseURL = JSON.parse(\n",
       "        document.getElementById('jupyter-config-data').innerHTML\n",
       "    ).baseUrl.slice(0, -1);\n",
       "}\n",
       "url = baseURL + url;\n",
       "fetch(url).then(function(res) {\n",
       "    if (res.status === 404) {\n",
       "        div.innerHTML = 'Install QIIME 2 Jupyter extension with:<br />' +\n",
       "                        '<code>jupyter server extension enable --py qiime2' +\n",
       "                        ' --sys-prefix</code><br />then restart your server.' +\n",
       "                        '<br /><br />(Interactive output not available on ' +\n",
       "                        'static notebook viewer services like nbviewer.)';\n",
       "    } else if (res.status === 409) {\n",
       "        div.innerHTML = 'Visualization no longer in scope. Re-run this cell' +\n",
       "                        ' to see the visualization.';\n",
       "    } else if (res.ok) {\n",
       "        url = res.url;\n",
       "        div.innerHTML = '<iframe src=\\'' + url + '\\' style=\\'' +\n",
       "                        'width: 100%; height: 700px; border: 0;\\'>' +\n",
       "                        '</iframe><hr />Open in a: <a href=\\'' + url + '\\'' +\n",
       "                        ' target=\\'_blank\\'>new window</a>'\n",
       "    } else {\n",
       "        div.innerHTML = 'Something has gone wrong. Check notebook server for' +\n",
       "                        ' errors.';\n",
       "    }\n",
       "});\n",
       "})(this.parentElement, '/qiime2/redirect?location=/tmp/qiime2/jovyan/data/d00aac93-8318-4029-9692-6b0cebaa1c6a')\" src=\"data:image/gif;base64,R0lGODlhAQABAIAAAP///wAAACH5BAEAAAAALAAAAAABAAEAAAICRAEAOw==\" /></div>"
      ],
      "text/plain": [
       "<visualization: Visualization uuid: d00aac93-8318-4029-9692-6b0cebaa1c6a>"
      ]
     },
     "execution_count": 12,
     "metadata": {},
     "output_type": "execute_result"
    }
   ],
   "source": [
    "Visualization.load(f\"{results_dir}/dada2_table.qzv\")"
   ]
  },
  {
   "cell_type": "markdown",
   "id": "ca1313f0-0d06-4016-8b2d-d126a735c7c5",
   "metadata": {},
   "source": [
    "### With trunc 150"
   ]
  },
  {
   "cell_type": "code",
   "execution_count": null,
   "id": "3f9a175b-3d20-402b-905f-90465dee3903",
   "metadata": {},
   "outputs": [],
   "source": [
    "! qiime dada2 denoise-paired \\\n",
    "    --i-demultiplexed-seqs $data_in/sequences-demux-paired.qza \\\n",
    "    --p-trunc-len-f 150 \\\n",
    "    --p-trunc-len-r 150 \\\n",
    "    --p-n-threads 3 \\\n",
    "    --o-table $data_out/dada2_table_150.qza \\\n",
    "    --o-representative-sequences $data_out/dada2_rep_seq_150.qza \\\n",
    "    --o-denoising-stats $data_out/dada2_stats_150.qza"
   ]
  },
  {
   "cell_type": "code",
   "execution_count": null,
   "id": "fd3dff33-bd4f-49f0-8b68-a0933dcdc4d5",
   "metadata": {},
   "outputs": [],
   "source": [
    "! qiime metadata tabulate \\\n",
    "    --m-input-file $data_out/dada2_stats_150.qza \\\n",
    "    --o-visualization $results_dir/dada2_stats_150.qzv"
   ]
  },
  {
   "cell_type": "code",
   "execution_count": null,
   "id": "03016e27-dd44-40ad-a0de-ecfb5057c96e",
   "metadata": {},
   "outputs": [],
   "source": [
    "Visualization.load(f\"{results_dir}/dada2_stats_150.qzv\")"
   ]
  },
  {
   "cell_type": "code",
   "execution_count": null,
   "id": "59d2e085-2776-4c1f-a3c7-5573ecc0d961",
   "metadata": {},
   "outputs": [],
   "source": [
    "! qiime feature-table summarize \\\n",
    "    --i-table $data_out/dada2_table_150.qza \\\n",
    "    --m-sample-metadata-file $data_in/metadata_150.tsv \\\n",
    "    --o-visualization $results_dir/dada2_table_150.qzv"
   ]
  },
  {
   "cell_type": "code",
   "execution_count": null,
   "id": "399e4841-2972-42e0-8060-7f55c639afe4",
   "metadata": {},
   "outputs": [],
   "source": [
    "Visualization.load(f\"{results_dir}/dada2_table_150.qzv\")"
   ]
  },
  {
   "cell_type": "markdown",
   "id": "79948053-4023-4a9f-b771-61231653e487",
   "metadata": {},
   "source": [
    "### with trunc 160/130"
   ]
  },
  {
   "cell_type": "code",
   "execution_count": null,
   "id": "85cbfd0c-e526-434d-b989-4aacc034f2aa",
   "metadata": {},
   "outputs": [],
   "source": [
    "! qiime dada2 denoise-paired \\\n",
    "    --i-demultiplexed-seqs $data_in/sequences-demux-paired.qza \\\n",
    "    --p-trunc-len-f 160 \\\n",
    "    --p-trunc-len-r 130 \\\n",
    "    --p-n-threads 3 \\\n",
    "    --o-table $data_out/dada2_table_160_130.qza \\\n",
    "    --o-representative-sequences $data_out/dada2_rep_seq_160_130.qza \\\n",
    "    --o-denoising-stats $data_out/dada2_stats_160_130.qza"
   ]
  },
  {
   "cell_type": "code",
   "execution_count": null,
   "id": "e0798f70-c2c7-4f7e-abc7-4b720ef9d284",
   "metadata": {},
   "outputs": [],
   "source": [
    "! qiime metadata tabulate \\\n",
    "    --m-input-file $data_out/dada2_stats_160_130.qza \\\n",
    "    --o-visualization $results_dir/dada2_stats_160_130.qzv"
   ]
  },
  {
   "cell_type": "code",
   "execution_count": null,
   "id": "4fa5781e-3e04-4368-87fd-1e62c3ca6b42",
   "metadata": {},
   "outputs": [],
   "source": [
    "Visualization.load(f\"{results_dir}/dada2_stats_160_130.qzv\")"
   ]
  },
  {
   "cell_type": "code",
   "execution_count": null,
   "id": "a4e39c2f-d8dd-4aa2-9d5d-9233f769fd32",
   "metadata": {},
   "outputs": [],
   "source": [
    "! qiime feature-table summarize \\\n",
    "    --i-table $data_out/dada2_table_160_130.qza \\\n",
    "    --m-sample-metadata-file $data_in/metadata_160_130.tsv \\\n",
    "    --o-visualization $results_dir/dada2_table_160_130.qzv"
   ]
  },
  {
   "cell_type": "code",
   "execution_count": null,
   "id": "52395a52-6ffc-4e30-ba7d-31beefc31e6f",
   "metadata": {},
   "outputs": [],
   "source": [
    "Visualization.load(f\"{results_dir}/dada2_table_160_130.qzv\")"
   ]
  },
  {
   "cell_type": "markdown",
   "id": "9fb7ab91-1cbf-4289-beb4-4419fd4aed7a",
   "metadata": {},
   "source": [
    "### with trunc 135"
   ]
  },
  {
   "cell_type": "code",
   "execution_count": null,
   "id": "2a0e494b-b3a9-4d27-86e6-e2386182c1b2",
   "metadata": {},
   "outputs": [],
   "source": [
    "! qiime dada2 denoise-paired \\\n",
    "    --i-demultiplexed-seqs $data_in/sequences-demux-paired.qza \\\n",
    "    --p-trunc-len-f 135 \\\n",
    "    --p-trunc-len-r 135 \\\n",
    "    --p-n-threads 3 \\\n",
    "    --o-table $data_out/dada2_table_135.qza \\\n",
    "    --o-representative-sequences $data_out/dada2_rep_seq_135.qza \\\n",
    "    --o-denoising-stats $data_out/dada2_stats_135.qza"
   ]
  },
  {
   "cell_type": "code",
   "execution_count": null,
   "id": "87d18a0d-d2b2-4452-9fdf-afdd29225265",
   "metadata": {},
   "outputs": [],
   "source": [
    "! qiime metadata tabulate \\\n",
    "    --m-input-file $data_out/dada2_stats_135.qza \\\n",
    "    --o-visualization $results_dir/dada2_stats_135.qzv"
   ]
  },
  {
   "cell_type": "code",
   "execution_count": null,
   "id": "0bfd7874-8942-4a48-bad2-8157b0383b43",
   "metadata": {},
   "outputs": [],
   "source": [
    "Visualization.load(f\"{results_dir}/dada2_stats_135.qzv\")"
   ]
  },
  {
   "cell_type": "code",
   "execution_count": null,
   "id": "d4fe1749-37bf-4bbb-908b-91d6658f922f",
   "metadata": {},
   "outputs": [],
   "source": [
    "! qiime feature-table summarize \\\n",
    "    --i-table $data_out/dada2_table_135.qza \\\n",
    "    --m-sample-metadata-file $data_in/metadata_135.tsv \\\n",
    "    --o-visualization $results_dir/dada2_table_135.qzv"
   ]
  },
  {
   "cell_type": "code",
   "execution_count": null,
   "id": "bc2ee545-2266-47e0-8122-1bd8d375b22b",
   "metadata": {},
   "outputs": [],
   "source": [
    "Visualization.load(f\"{results_dir}/dada2_table_135.qzv\")"
   ]
  },
  {
   "cell_type": "code",
   "execution_count": null,
   "id": "7620ace0-9ee0-4ad1-a9cf-cba53378bbfa",
   "metadata": {},
   "outputs": [],
   "source": []
  }
 ],
 "metadata": {
  "kernelspec": {
   "display_name": "QIIME 2",
   "language": "python",
   "name": "python3"
  },
  "language_info": {
   "codemirror_mode": {
    "name": "ipython",
    "version": 3
   },
   "file_extension": ".py",
   "mimetype": "text/x-python",
   "name": "python",
   "nbconvert_exporter": "python",
   "pygments_lexer": "ipython3",
   "version": "3.10.14"
  }
 },
 "nbformat": 4,
 "nbformat_minor": 5
}
