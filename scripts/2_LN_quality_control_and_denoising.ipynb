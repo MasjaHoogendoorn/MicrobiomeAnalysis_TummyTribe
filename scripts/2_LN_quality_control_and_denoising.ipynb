{
 "cells": [
  {
   "cell_type": "markdown",
   "id": "1924214e",
   "metadata": {},
   "source": [
    "# 2. Quality Control and Denoising\n",
    "## Import data & packages"
   ]
  },
  {
   "cell_type": "code",
   "execution_count": 4,
   "id": "79951fc2",
   "metadata": {
    "tags": []
   },
   "outputs": [],
   "source": [
    "#Import all necessary packages\n",
    "import IPython\n",
    "import pandas as pd\n",
    "import matplotlib.pyplot as plt\n",
    "import os\n",
    "import qiime2 as q2\n",
    "from qiime2 import Visualization\n",
    "\n",
    "%matplotlib inline"
   ]
  },
  {
   "cell_type": "code",
   "execution_count": 5,
   "id": "446cdda6",
   "metadata": {
    "tags": []
   },
   "outputs": [
    {
     "name": "stdout",
     "output_type": "stream",
     "text": [
      "Current working directory: /home/jovyan/Project/MicrobiomeAnalysis_TummyTribe\n"
     ]
    }
   ],
   "source": [
    "#Set working directory\n",
    "os.chdir(\"/home/jovyan/Project/MicrobiomeAnalysis_TummyTribe/\")\n",
    "\n",
    "# Verify that your wroking directory is the overall project folder (.../MicrobiomeAnalysis_TummyTribe)\n",
    "print(\"Current working directory:\", os.getcwd())"
   ]
  },
  {
   "cell_type": "code",
   "execution_count": 6,
   "id": "eccbd3fe",
   "metadata": {
    "tags": []
   },
   "outputs": [],
   "source": [
    "#Data directory for the raw data\n",
    "data_dir = \"data/raw\"\n",
    "processed_data_dir = \"data/processed\""
   ]
  },
  {
   "cell_type": "markdown",
   "id": "150d1882",
   "metadata": {},
   "source": [
    "## Quality Control"
   ]
  },
  {
   "cell_type": "code",
   "execution_count": 5,
   "id": "f35cbfd9",
   "metadata": {
    "tags": []
   },
   "outputs": [
    {
     "name": "stdout",
     "output_type": "stream",
     "text": [
      "\u001b[32mUUID\u001b[0m:        b4782ab7-550b-41f5-b906-ca2cda29ca9b\n",
      "\u001b[32mType\u001b[0m:        SampleData[PairedEndSequencesWithQuality]\n",
      "\u001b[32mData format\u001b[0m: SingleLanePerSamplePairedEndFastqDirFmt\n"
     ]
    }
   ],
   "source": [
    "! qiime tools peek $data_dir/sequences-demux-paired.qza"
   ]
  },
  {
   "cell_type": "code",
   "execution_count": 6,
   "id": "a17289c6",
   "metadata": {
    "tags": []
   },
   "outputs": [
    {
     "name": "stdout",
     "output_type": "stream",
     "text": [
      "/opt/conda/lib/python3.10/site-packages/unifrac/__init__.py:9: UserWarning: pkg_resources is deprecated as an API. See https://setuptools.pypa.io/en/latest/pkg_resources.html. The pkg_resources package is slated for removal as early as 2025-11-30. Refrain from using this package or pin to Setuptools<81.\n",
      "  import pkg_resources\n",
      "\u001b[32mSaved Visualization to: data/raw/sequences-demux-paired.qzv\u001b[0m\n",
      "\u001b[0m\u001b[?25h"
     ]
    }
   ],
   "source": [
    "! qiime demux summarize \\\n",
    "    --i-data $data_dir/sequences-demux-paired.qza \\\n",
    "    --o-visualization $data_dir/sequences-demux-paired.qzv"
   ]
  },
  {
   "cell_type": "code",
   "execution_count": 7,
   "id": "f7bd848b",
   "metadata": {
    "tags": []
   },
   "outputs": [
    {
     "data": {
      "text/html": [
       "<div><img onload=\"(function(div, url){\n",
       "if (typeof require !== 'undefined') {\n",
       "    var baseURL = require.toUrl('').split('/').slice(0, -2).join('/');\n",
       "} else {\n",
       "    var baseURL = JSON.parse(\n",
       "        document.getElementById('jupyter-config-data').innerHTML\n",
       "    ).baseUrl.slice(0, -1);\n",
       "}\n",
       "url = baseURL + url;\n",
       "fetch(url).then(function(res) {\n",
       "    if (res.status === 404) {\n",
       "        div.innerHTML = 'Install QIIME 2 Jupyter extension with:<br />' +\n",
       "                        '<code>jupyter server extension enable --py qiime2' +\n",
       "                        ' --sys-prefix</code><br />then restart your server.' +\n",
       "                        '<br /><br />(Interactive output not available on ' +\n",
       "                        'static notebook viewer services like nbviewer.)';\n",
       "    } else if (res.status === 409) {\n",
       "        div.innerHTML = 'Visualization no longer in scope. Re-run this cell' +\n",
       "                        ' to see the visualization.';\n",
       "    } else if (res.ok) {\n",
       "        url = res.url;\n",
       "        div.innerHTML = '<iframe src=\\'' + url + '\\' style=\\'' +\n",
       "                        'width: 100%; height: 700px; border: 0;\\'>' +\n",
       "                        '</iframe><hr />Open in a: <a href=\\'' + url + '\\'' +\n",
       "                        ' target=\\'_blank\\'>new window</a>'\n",
       "    } else {\n",
       "        div.innerHTML = 'Something has gone wrong. Check notebook server for' +\n",
       "                        ' errors.';\n",
       "    }\n",
       "});\n",
       "})(this.parentElement, '/qiime2/redirect?location=/tmp/qiime2/jovyan/data/650559c3-7827-44de-8306-b2b5afadbd8f')\" src=\"data:image/gif;base64,R0lGODlhAQABAIAAAP///wAAACH5BAEAAAAALAAAAAABAAEAAAICRAEAOw==\" /></div>"
      ],
      "text/plain": [
       "<visualization: Visualization uuid: 650559c3-7827-44de-8306-b2b5afadbd8f>"
      ]
     },
     "execution_count": 7,
     "metadata": {},
     "output_type": "execute_result"
    }
   ],
   "source": [
    "Visualization.load(f\"{data_dir}/sequences-demux-paired.qzv\")"
   ]
  },
  {
   "cell_type": "markdown",
   "id": "84ba4e1f",
   "metadata": {},
   "source": [
    "## Denoising and merging"
   ]
  },
  {
   "cell_type": "markdown",
   "id": "9562e6c8",
   "metadata": {},
   "source": [
    "Parameters\n",
    "- `p-trunc-len` - we will truncate the reads to 130 bp (sequences shorter than this will be removed automatically)\n",
    "- `p-n-threads` - if we have more than 1 CPU available, we can specify the number here to make the processing faster\n",
    "- `o-table` - this will be our ASVs feature table\n",
    "- `o-representative-sequences` - this will be a list of all the denoised features (DNA sequences)\n",
    "- `o-denoising-stats` - this will be some stats from the denoising process"
   ]
  },
  {
   "cell_type": "markdown",
   "id": "d75d01df",
   "metadata": {},
   "source": [
    "Information on parameters and function: https://docs.qiime2.org/2024.10/plugins/available/dada2/denoise-paired/\n",
    "Example tutorial of paired read analysis: https://docs.qiime2.org/2024.10/tutorials/atacama-soils/"
   ]
  },
  {
   "cell_type": "markdown",
   "id": "8b7fd94c",
   "metadata": {},
   "source": [
    "Even though the forward reads look good, we still need sufficient overlap for merging the paired reads into one continuous sequence. Using a truncation length of 140 for both the forward and reverse reads allows us to get less chimeras and lose less reads in the denoising than if we keep a longer part of the forward read. "
   ]
  },
  {
   "cell_type": "markdown",
   "id": "25df48c0",
   "metadata": {},
   "source": [
    "So we shorten both reads to balance:\n",
    "- High-quality bases (for denoising)\n",
    "- Enough overlap (for merging)"
   ]
  },
  {
   "cell_type": "code",
   "execution_count": 8,
   "id": "5f2d729f",
   "metadata": {
    "tags": []
   },
   "outputs": [
    {
     "name": "stdout",
     "output_type": "stream",
     "text": [
      "Usage: \u001b[94mqiime dada2 denoise-paired\u001b[0m [OPTIONS]\n",
      "\n",
      "  This method denoises paired-end sequences, dereplicates them, and filters\n",
      "  chimeras.\n",
      "\n",
      "\u001b[1mInputs\u001b[0m:\n",
      "  \u001b[94m\u001b[4m--i-demultiplexed-seqs\u001b[0m ARTIFACT \u001b[32mSampleData[PairedEndSequencesWithQuality]\u001b[0m\n",
      "                          The paired-end demultiplexed sequences to be\n",
      "                          denoised.                                 \u001b[35m[required]\u001b[0m\n",
      "\u001b[1mParameters\u001b[0m:\n",
      "  \u001b[94m\u001b[4m--p-trunc-len-f\u001b[0m INTEGER Position at which forward read sequences should be\n",
      "                          truncated due to decrease in quality. This truncates\n",
      "                          the 3' end of the of the input sequences, which will\n",
      "                          be the bases that were sequenced in the last cycles.\n",
      "                          Reads that are shorter than this value will be\n",
      "                          discarded. After this parameter is applied there\n",
      "                          must still be at least a 12 nucleotide overlap\n",
      "                          between the forward and reverse reads. If 0 is\n",
      "                          provided, no truncation or length filtering will be\n",
      "                          performed                                 \u001b[35m[required]\u001b[0m\n",
      "  \u001b[94m\u001b[4m--p-trunc-len-r\u001b[0m INTEGER Position at which reverse read sequences should be\n",
      "                          truncated due to decrease in quality. This truncates\n",
      "                          the 3' end of the of the input sequences, which will\n",
      "                          be the bases that were sequenced in the last cycles.\n",
      "                          Reads that are shorter than this value will be\n",
      "                          discarded. After this parameter is applied there\n",
      "                          must still be at least a 12 nucleotide overlap\n",
      "                          between the forward and reverse reads. If 0 is\n",
      "                          provided, no truncation or length filtering will be\n",
      "                          performed                                 \u001b[35m[required]\u001b[0m\n",
      "  \u001b[94m--p-trim-left-f\u001b[0m INTEGER Position at which forward read sequences should be\n",
      "                          trimmed due to low quality. This trims the 5' end of\n",
      "                          the input sequences, which will be the bases that\n",
      "                          were sequenced in the first cycles.     \u001b[35m[default: 0]\u001b[0m\n",
      "  \u001b[94m--p-trim-left-r\u001b[0m INTEGER Position at which reverse read sequences should be\n",
      "                          trimmed due to low quality. This trims the 5' end of\n",
      "                          the input sequences, which will be the bases that\n",
      "                          were sequenced in the first cycles.     \u001b[35m[default: 0]\u001b[0m\n",
      "  \u001b[94m--p-max-ee-f\u001b[0m NUMBER     Forward reads with number of expected errors higher\n",
      "                          than this value will be discarded.    \u001b[35m[default: 2.0]\u001b[0m\n",
      "  \u001b[94m--p-max-ee-r\u001b[0m NUMBER     Reverse reads with number of expected errors higher\n",
      "                          than this value will be discarded.    \u001b[35m[default: 2.0]\u001b[0m\n",
      "  \u001b[94m--p-trunc-q\u001b[0m INTEGER     Reads are truncated at the first instance of a\n",
      "                          quality score less than or equal to this value. If\n",
      "                          the resulting read is then shorter than\n",
      "                          `\u001b[4mtrunc-len-f\u001b[0m` or `\u001b[4mtrunc-len-r\u001b[0m` (depending on the\n",
      "                          direction of the read) it is discarded. \u001b[35m[default: 2]\u001b[0m\n",
      "  \u001b[94m--p-min-overlap\u001b[0m INTEGER The minimum length of the overlap required for\n",
      "    \u001b[32mRange(4, None)\u001b[0m        merging the forward and reverse reads. \u001b[35m[default: 12]\u001b[0m\n",
      "  \u001b[94m--p-max-merge-mismatch\u001b[0m INTEGER\n",
      "                          The maximum number of mismatches allowed in the\n",
      "                          overlap region when merging reads. If 0, only exact\n",
      "                          overlaps are allowed.                   \u001b[35m[default: 0]\u001b[0m\n",
      "  \u001b[94m--p-trim-overhang\u001b[0m / \u001b[94m--p-no-trim-overhang\u001b[0m\n",
      "                          If TRUE, \"overhangs\" in the alignment after merging\n",
      "                          are trimmed off. \"Overhangs\" are when the reverse\n",
      "                          read extends past the start of the forward read, and\n",
      "                          vice-versa, as can happen when reads are longer than\n",
      "                          the amplicon and read into the other-direction\n",
      "                          primer region.                      \u001b[35m[default: False]\u001b[0m\n",
      "  \u001b[94m--p-pooling-method\u001b[0m TEXT \u001b[32mChoices('independent', 'pseudo')\u001b[0m\n",
      "                          The method used to pool samples for denoising.\n",
      "                          \"independent\": Samples are denoised indpendently.\n",
      "                          \"pseudo\": The pseudo-pooling method is used to\n",
      "                          approximate pooling of samples. In short, samples\n",
      "                          are denoised independently once, ASVs detected in at\n",
      "                          least 2 samples are recorded, and samples are\n",
      "                          denoised independently a second time, but this time\n",
      "                          with prior knowledge of the recorded ASVs and thus\n",
      "                          higher sensitivity to those ASVs.\n",
      "                                                      \u001b[35m[default: 'independent']\u001b[0m\n",
      "  \u001b[94m--p-chimera-method\u001b[0m TEXT \u001b[32mChoices('consensus', 'none')\u001b[0m\n",
      "                          The method used to remove chimeras. \"none\": No\n",
      "                          chimera removal is performed. \"consensus\": Chimeras\n",
      "                          are detected in samples individually, and sequences\n",
      "                          found chimeric in a sufficient fraction of samples\n",
      "                          are removed.                  \u001b[35m[default: 'consensus']\u001b[0m\n",
      "  \u001b[94m--p-min-fold-parent-over-abundance\u001b[0m NUMBER\n",
      "                          The minimum abundance of potential parents of a\n",
      "                          sequence being tested as chimeric, expressed as a\n",
      "                          fold-change versus the abundance of the sequence\n",
      "                          being tested. Values should be greater than or equal\n",
      "                          to 1 (i.e. parents should be more abundant than the\n",
      "                          sequence being tested). This parameter has no effect\n",
      "                          if \u001b[4mchimera-method\u001b[0m is \"none\".          \u001b[35m[default: 1.0]\u001b[0m\n",
      "  \u001b[94m--p-allow-one-off\u001b[0m / \u001b[94m--p-no-allow-one-off\u001b[0m\n",
      "                          Bimeras that are one-off from exact are also\n",
      "                          identified if the `\u001b[4mallow-one-off\u001b[0m` argument is TrueIf\n",
      "                          True, a sequence will be identified as bimera if it\n",
      "                          is one mismatch or indel away from an exact bimera.\n",
      "                                                              \u001b[35m[default: False]\u001b[0m\n",
      "  \u001b[94m--p-n-threads\u001b[0m NTHREADS  The number of threads to use for multithreaded\n",
      "                          processing. If 0 is provided, all available cores\n",
      "                          will be used.                           \u001b[35m[default: 1]\u001b[0m\n",
      "  \u001b[94m--p-n-reads-learn\u001b[0m INTEGER\n",
      "                          The number of reads to use when training the error\n",
      "                          model. Smaller numbers will result in a shorter run\n",
      "                          time but a less reliable error model.\n",
      "                                                            \u001b[35m[default: 1000000]\u001b[0m\n",
      "  \u001b[94m--p-hashed-feature-ids\u001b[0m / \u001b[94m--p-no-hashed-feature-ids\u001b[0m\n",
      "                          If true, the feature ids in the resulting table\n",
      "                          will be presented as hashes of the sequences\n",
      "                          defining each feature. The hash will always be the\n",
      "                          same for the same sequence so this allows feature\n",
      "                          tables to be merged across runs of this method. You\n",
      "                          should only merge tables if the exact same\n",
      "                          parameters are used for each run.    \u001b[35m[default: True]\u001b[0m\n",
      "  \u001b[94m--p-retain-all-samples\u001b[0m / \u001b[94m--p-no-retain-all-samples\u001b[0m\n",
      "                          If True all samples input to dada2 will be retained\n",
      "                          in the output of dada2, if false samples with zero\n",
      "                          total frequency are removed from the table.\n",
      "                                                               \u001b[35m[default: True]\u001b[0m\n",
      "\u001b[1mOutputs\u001b[0m:\n",
      "  \u001b[94m\u001b[4m--o-table\u001b[0m ARTIFACT \u001b[32mFeatureTable[Frequency]\u001b[0m\n",
      "                          The resulting feature table.              \u001b[35m[required]\u001b[0m\n",
      "  \u001b[94m\u001b[4m--o-representative-sequences\u001b[0m ARTIFACT \u001b[32mFeatureData[Sequence]\u001b[0m\n",
      "                          The resulting feature sequences. Each feature in\n",
      "                          the feature table will be represented by exactly one\n",
      "                          sequence, and these sequences will be the joined\n",
      "                          paired-end sequences.                     \u001b[35m[required]\u001b[0m\n",
      "  \u001b[94m\u001b[4m--o-denoising-stats\u001b[0m ARTIFACT \u001b[32mSampleData[DADA2Stats]\u001b[0m\n",
      "                                                                    \u001b[35m[required]\u001b[0m\n",
      "\u001b[1mMiscellaneous\u001b[0m:\n",
      "  \u001b[94m--output-dir\u001b[0m PATH       Output unspecified results to a directory\n",
      "  \u001b[94m--verbose\u001b[0m / \u001b[94m--quiet\u001b[0m     Display verbose output to stdout and/or stderr\n",
      "                          during execution of this action. Or silence output\n",
      "                          if execution is successful (silence is golden).\n",
      "  \u001b[94m--example-data\u001b[0m PATH     Write example data and exit.\n",
      "  \u001b[94m--citations\u001b[0m             Show citations and exit.\n",
      "  \u001b[94m--use-cache\u001b[0m DIRECTORY   Specify the cache to be used for the intermediate\n",
      "                          work of this action. If not provided, the default\n",
      "                          cache under $TMP/qiime2/<uname> will be used.\n",
      "                          IMPORTANT FOR HPC USERS: If you are on an HPC system\n",
      "                          and are using parallel execution it is important to\n",
      "                          set this to a location that is globally accessible\n",
      "                          to all nodes in the cluster.\n",
      "  \u001b[94m--help\u001b[0m                  Show this message and exit.\n",
      "\n",
      "\u001b[1mExamples\u001b[0m:\n",
      "  # ### example: denoise paired\n",
      "  qiime dada2 denoise-paired \\\n",
      "    --i-demultiplexed-seqs demux-paired.qza \\\n",
      "    --p-trunc-len-f 150 \\\n",
      "    --p-trunc-len-r 140 \\\n",
      "    --o-representative-sequences representative-sequences.qza \\\n",
      "    --o-table table.qza \\\n",
      "    --o-denoising-stats denoising-stats.qza\n",
      "  \n",
      "\n",
      "\u001b[33m                    There was a problem with the command:                     \u001b[0m\n",
      "\u001b[31m\u001b[1m (1/1?) No such option: --p-min-frequency\u001b[0m\n"
     ]
    }
   ],
   "source": [
    "# this cell takes a loooong time to run. Time for coffee? \n",
    "# Or a cool video? https://www.youtube.com/watch?v=-z4gNr7mN3U\n",
    "# Or a pull-up!\n",
    "# Nvm that last one, too difficult\n",
    "# Find Laura's long lost dads\n",
    "\n",
    "! qiime dada2 denoise-paired \\\n",
    "    --i-demultiplexed-seqs $data_dir/sequences-demux-paired.qza \\\n",
    "    --p-trunc-len-f 140 \\\n",
    "    --p-trunc-len-r 140 \\\n",
    "    --p-n-threads 3 \\\n",
    "    --o-table $processed_data_dir/dada2_table_140.qza \\\n",
    "    --o-representative-sequences $processed_data_dir/dada2_rep_set_140.qza \\\n",
    "    --o-denoising-stats $processed_data_dir/dada2_stats_140.qza \\\n",
    "    --verbose"
   ]
  },
  {
   "cell_type": "code",
   "execution_count": 9,
   "id": "a0f2c18d",
   "metadata": {
    "tags": []
   },
   "outputs": [
    {
     "name": "stdout",
     "output_type": "stream",
     "text": [
      "/opt/conda/lib/python3.10/site-packages/unifrac/__init__.py:9: UserWarning: pkg_resources is deprecated as an API. See https://setuptools.pypa.io/en/latest/pkg_resources.html. The pkg_resources package is slated for removal as early as 2025-11-30. Refrain from using this package or pin to Setuptools<81.\n",
      "  import pkg_resources\n",
      "\u001b[32mSaved Visualization to: data/processed/dada2_stats_140.qzv\u001b[0m\n",
      "\u001b[0m\u001b[?25h"
     ]
    }
   ],
   "source": [
    "! qiime metadata tabulate \\\n",
    "    --m-input-file $processed_data_dir/dada2_stats_140.qza \\\n",
    "    --o-visualization $processed_data_dir/dada2_stats_140.qzv"
   ]
  },
  {
   "cell_type": "code",
   "execution_count": 10,
   "id": "7ff2dc43",
   "metadata": {
    "tags": []
   },
   "outputs": [
    {
     "data": {
      "text/html": [
       "<div><img onload=\"(function(div, url){\n",
       "if (typeof require !== 'undefined') {\n",
       "    var baseURL = require.toUrl('').split('/').slice(0, -2).join('/');\n",
       "} else {\n",
       "    var baseURL = JSON.parse(\n",
       "        document.getElementById('jupyter-config-data').innerHTML\n",
       "    ).baseUrl.slice(0, -1);\n",
       "}\n",
       "url = baseURL + url;\n",
       "fetch(url).then(function(res) {\n",
       "    if (res.status === 404) {\n",
       "        div.innerHTML = 'Install QIIME 2 Jupyter extension with:<br />' +\n",
       "                        '<code>jupyter server extension enable --py qiime2' +\n",
       "                        ' --sys-prefix</code><br />then restart your server.' +\n",
       "                        '<br /><br />(Interactive output not available on ' +\n",
       "                        'static notebook viewer services like nbviewer.)';\n",
       "    } else if (res.status === 409) {\n",
       "        div.innerHTML = 'Visualization no longer in scope. Re-run this cell' +\n",
       "                        ' to see the visualization.';\n",
       "    } else if (res.ok) {\n",
       "        url = res.url;\n",
       "        div.innerHTML = '<iframe src=\\'' + url + '\\' style=\\'' +\n",
       "                        'width: 100%; height: 700px; border: 0;\\'>' +\n",
       "                        '</iframe><hr />Open in a: <a href=\\'' + url + '\\'' +\n",
       "                        ' target=\\'_blank\\'>new window</a>'\n",
       "    } else {\n",
       "        div.innerHTML = 'Something has gone wrong. Check notebook server for' +\n",
       "                        ' errors.';\n",
       "    }\n",
       "});\n",
       "})(this.parentElement, '/qiime2/redirect?location=/tmp/qiime2/jovyan/data/05c2b5d4-0ee1-464b-9663-5cd74ab04f46')\" src=\"data:image/gif;base64,R0lGODlhAQABAIAAAP///wAAACH5BAEAAAAALAAAAAABAAEAAAICRAEAOw==\" /></div>"
      ],
      "text/plain": [
       "<visualization: Visualization uuid: 05c2b5d4-0ee1-464b-9663-5cd74ab04f46>"
      ]
     },
     "execution_count": 10,
     "metadata": {},
     "output_type": "execute_result"
    }
   ],
   "source": [
    "Visualization.load(f\"{processed_data_dir}/dada2_stats_140.qzv\")"
   ]
  },
  {
   "cell_type": "code",
   "execution_count": 11,
   "id": "7956939d",
   "metadata": {
    "tags": []
   },
   "outputs": [
    {
     "name": "stdout",
     "output_type": "stream",
     "text": [
      "/opt/conda/lib/python3.10/site-packages/unifrac/__init__.py:9: UserWarning: pkg_resources is deprecated as an API. See https://setuptools.pypa.io/en/latest/pkg_resources.html. The pkg_resources package is slated for removal as early as 2025-11-30. Refrain from using this package or pin to Setuptools<81.\n",
      "  import pkg_resources\n",
      "\u001b[32mSaved Visualization to: data/processed/dada2_table_140.qzv\u001b[0m\n",
      "\u001b[0m\u001b[?25h"
     ]
    }
   ],
   "source": [
    "! qiime feature-table summarize \\\n",
    "    --i-table $processed_data_dir/dada2_table_140.qza \\\n",
    "    --m-sample-metadata-file $data_dir/metadata.tsv \\\n",
    "    --o-visualization $processed_data_dir/dada2_table_140.qzv"
   ]
  },
  {
   "cell_type": "code",
   "execution_count": 12,
   "id": "0d2d5659",
   "metadata": {
    "tags": []
   },
   "outputs": [
    {
     "data": {
      "text/html": [
       "<div><img onload=\"(function(div, url){\n",
       "if (typeof require !== 'undefined') {\n",
       "    var baseURL = require.toUrl('').split('/').slice(0, -2).join('/');\n",
       "} else {\n",
       "    var baseURL = JSON.parse(\n",
       "        document.getElementById('jupyter-config-data').innerHTML\n",
       "    ).baseUrl.slice(0, -1);\n",
       "}\n",
       "url = baseURL + url;\n",
       "fetch(url).then(function(res) {\n",
       "    if (res.status === 404) {\n",
       "        div.innerHTML = 'Install QIIME 2 Jupyter extension with:<br />' +\n",
       "                        '<code>jupyter server extension enable --py qiime2' +\n",
       "                        ' --sys-prefix</code><br />then restart your server.' +\n",
       "                        '<br /><br />(Interactive output not available on ' +\n",
       "                        'static notebook viewer services like nbviewer.)';\n",
       "    } else if (res.status === 409) {\n",
       "        div.innerHTML = 'Visualization no longer in scope. Re-run this cell' +\n",
       "                        ' to see the visualization.';\n",
       "    } else if (res.ok) {\n",
       "        url = res.url;\n",
       "        div.innerHTML = '<iframe src=\\'' + url + '\\' style=\\'' +\n",
       "                        'width: 100%; height: 700px; border: 0;\\'>' +\n",
       "                        '</iframe><hr />Open in a: <a href=\\'' + url + '\\'' +\n",
       "                        ' target=\\'_blank\\'>new window</a>'\n",
       "    } else {\n",
       "        div.innerHTML = 'Something has gone wrong. Check notebook server for' +\n",
       "                        ' errors.';\n",
       "    }\n",
       "});\n",
       "})(this.parentElement, '/qiime2/redirect?location=/tmp/qiime2/jovyan/data/e6efd4a3-e6de-4072-8f58-f73fef4dff9b')\" src=\"data:image/gif;base64,R0lGODlhAQABAIAAAP///wAAACH5BAEAAAAALAAAAAABAAEAAAICRAEAOw==\" /></div>"
      ],
      "text/plain": [
       "<visualization: Visualization uuid: e6efd4a3-e6de-4072-8f58-f73fef4dff9b>"
      ]
     },
     "execution_count": 12,
     "metadata": {},
     "output_type": "execute_result"
    }
   ],
   "source": [
    "Visualization.load(f\"{processed_data_dir}/dada2_table_140.qzv\")"
   ]
  },
  {
   "cell_type": "markdown",
   "id": "f8029746",
   "metadata": {},
   "source": [
    "We end up with 3'358 unique features (number of unique ASVs) and roughly 16 million reads. So we have overall good microbial richness and sequencing depth. "
   ]
  },
  {
   "cell_type": "markdown",
   "id": "6ec15243",
   "metadata": {},
   "source": [
    "Before rarefaction we might need to exclude the samples with very low read counts (below 5'000). Also the mean is higher than the median → distribution is right-skewed due to a few high-depth samples. This skewed distribution is common in amplicon data but means we’ll need to rarefy carefully to balance retention of samples and features."
   ]
  },
  {
   "cell_type": "code",
   "execution_count": 7,
   "id": "21b9a0aa-8558-4d6d-a3bb-b393211e5a2d",
   "metadata": {
    "tags": []
   },
   "outputs": [
    {
     "name": "stdout",
     "output_type": "stream",
     "text": [
      "/opt/conda/lib/python3.10/site-packages/unifrac/__init__.py:9: UserWarning: pkg_resources is deprecated as an API. See https://setuptools.pypa.io/en/latest/pkg_resources.html. The pkg_resources package is slated for removal as early as 2025-11-30. Refrain from using this package or pin to Setuptools<81.\n",
      "  import pkg_resources\n",
      "\u001b[32mSaved FeatureTable[Frequency] to: data/processed/sample_frequency_filtered_table.qza\u001b[0m\n",
      "\u001b[0m\u001b[?25h"
     ]
    }
   ],
   "source": [
    "! qiime feature-table filter-samples \\\n",
    "      --i-table $processed_data_dir/dada2_table_140.qza \\\n",
    "      --p-min-frequency 5000 \\\n",
    "      --o-filtered-table $processed_data_dir/sample_frequency_filtered_table.qza"
   ]
  },
  {
   "cell_type": "code",
   "execution_count": 8,
   "id": "3658bcb6-60ed-4276-af5e-8ad2caf1cd75",
   "metadata": {
    "tags": []
   },
   "outputs": [
    {
     "name": "stdout",
     "output_type": "stream",
     "text": [
      "/opt/conda/lib/python3.10/site-packages/unifrac/__init__.py:9: UserWarning: pkg_resources is deprecated as an API. See https://setuptools.pypa.io/en/latest/pkg_resources.html. The pkg_resources package is slated for removal as early as 2025-11-30. Refrain from using this package or pin to Setuptools<81.\n",
      "  import pkg_resources\n",
      "\u001b[32mSaved Visualization to: data/processed/sample_frequency_filtered_table.qzv\u001b[0m\n",
      "\u001b[0m\u001b[?25h"
     ]
    }
   ],
   "source": [
    "! qiime feature-table summarize \\\n",
    "    --i-table $processed_data_dir/sample_frequency_filtered_table.qza \\\n",
    "    --m-sample-metadata-file $data_dir/metadata.tsv \\\n",
    "    --o-visualization $processed_data_dir/sample_frequency_filtered_table.qzv"
   ]
  },
  {
   "cell_type": "code",
   "execution_count": 9,
   "id": "bcf9cebf-4498-4593-a4d7-88d1769aeec0",
   "metadata": {
    "tags": []
   },
   "outputs": [
    {
     "data": {
      "text/html": [
       "<div><img onload=\"(function(div, url){\n",
       "if (typeof require !== 'undefined') {\n",
       "    var baseURL = require.toUrl('').split('/').slice(0, -2).join('/');\n",
       "} else {\n",
       "    var baseURL = JSON.parse(\n",
       "        document.getElementById('jupyter-config-data').innerHTML\n",
       "    ).baseUrl.slice(0, -1);\n",
       "}\n",
       "url = baseURL + url;\n",
       "fetch(url).then(function(res) {\n",
       "    if (res.status === 404) {\n",
       "        div.innerHTML = 'Install QIIME 2 Jupyter extension with:<br />' +\n",
       "                        '<code>jupyter server extension enable --py qiime2' +\n",
       "                        ' --sys-prefix</code><br />then restart your server.' +\n",
       "                        '<br /><br />(Interactive output not available on ' +\n",
       "                        'static notebook viewer services like nbviewer.)';\n",
       "    } else if (res.status === 409) {\n",
       "        div.innerHTML = 'Visualization no longer in scope. Re-run this cell' +\n",
       "                        ' to see the visualization.';\n",
       "    } else if (res.ok) {\n",
       "        url = res.url;\n",
       "        div.innerHTML = '<iframe src=\\'' + url + '\\' style=\\'' +\n",
       "                        'width: 100%; height: 700px; border: 0;\\'>' +\n",
       "                        '</iframe><hr />Open in a: <a href=\\'' + url + '\\'' +\n",
       "                        ' target=\\'_blank\\'>new window</a>'\n",
       "    } else {\n",
       "        div.innerHTML = 'Something has gone wrong. Check notebook server for' +\n",
       "                        ' errors.';\n",
       "    }\n",
       "});\n",
       "})(this.parentElement, '/qiime2/redirect?location=/tmp/qiime2/jovyan/data/15ad76fb-0ade-48fd-9207-b304e0eecc6b')\" src=\"data:image/gif;base64,R0lGODlhAQABAIAAAP///wAAACH5BAEAAAAALAAAAAABAAEAAAICRAEAOw==\" /></div>"
      ],
      "text/plain": [
       "<visualization: Visualization uuid: 15ad76fb-0ade-48fd-9207-b304e0eecc6b>"
      ]
     },
     "execution_count": 9,
     "metadata": {},
     "output_type": "execute_result"
    }
   ],
   "source": [
    "Visualization.load(f\"{processed_data_dir}/sample_frequency_filtered_table.qzv\")"
   ]
  },
  {
   "cell_type": "code",
   "execution_count": null,
   "id": "b4f92ef7-83e9-4710-908e-5925fdbed912",
   "metadata": {},
   "outputs": [],
   "source": []
  }
 ],
 "metadata": {
  "kernelspec": {
   "display_name": "QIIME 2",
   "language": "python",
   "name": "python3"
  },
  "language_info": {
   "codemirror_mode": {
    "name": "ipython",
    "version": 3
   },
   "file_extension": ".py",
   "mimetype": "text/x-python",
   "name": "python",
   "nbconvert_exporter": "python",
   "pygments_lexer": "ipython3",
   "version": "3.10.14"
  }
 },
 "nbformat": 4,
 "nbformat_minor": 5
}
