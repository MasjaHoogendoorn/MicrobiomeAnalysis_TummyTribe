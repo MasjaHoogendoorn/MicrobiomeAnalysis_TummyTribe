{
 "cells": [
  {
   "cell_type": "markdown",
   "id": "10f7a4f1-7bfe-4c1d-938f-02c520a471b9",
   "metadata": {},
   "source": [
    "# 2. Quality Control and Denoising\n",
    "## Import data & packages"
   ]
  },
  {
   "cell_type": "code",
   "execution_count": 1,
   "id": "69762c81-6132-418c-a788-4e24284a7c19",
   "metadata": {
    "tags": []
   },
   "outputs": [],
   "source": [
    "# 1 - Import all packages\n",
    "import IPython\n",
    "import pandas as pd\n",
    "import matplotlib.pyplot as plt\n",
    "import os\n",
    "import qiime2 as q2\n",
    "from qiime2 import Visualization\n",
    "\n",
    "%matplotlib inline"
   ]
  },
  {
   "cell_type": "code",
   "execution_count": 12,
   "id": "ee7b2b65-2453-41ad-b6fc-1c40fb90f7bb",
   "metadata": {
    "tags": []
   },
   "outputs": [
    {
     "name": "stdout",
     "output_type": "stream",
     "text": [
      "Current working directory: /home/jovyan/Project/MicrobiomeAnalysis_TummyTribe\n"
     ]
    }
   ],
   "source": [
    "# 2 - Set working directory\n",
    "os.chdir(\"/home/jovyan/Project/MicrobiomeAnalysis_TummyTribe\")\n",
    "\n",
    "# Verify that your wroking directory is the overall project folder (.../MicrobiomeAnalysis_TummyTribe)\n",
    "print(\"Current working directory:\", os.getcwd())"
   ]
  },
  {
   "cell_type": "code",
   "execution_count": 13,
   "id": "20f7eadf-99d1-40e9-aa37-fd3197f11658",
   "metadata": {
    "tags": []
   },
   "outputs": [],
   "source": [
    "# 3 - Data directory for the raw data\n",
    "data_dir = \"data/raw\"\n",
    "processed_data_dir = \"data/processed\""
   ]
  },
  {
   "cell_type": "markdown",
   "id": "360f1b28-4497-4557-a1f1-6a58882a00d2",
   "metadata": {},
   "source": [
    "## Quality Control"
   ]
  },
  {
   "cell_type": "code",
   "execution_count": 14,
   "id": "88cd8a35-3ad8-4109-ab2a-12143ab533ee",
   "metadata": {
    "tags": []
   },
   "outputs": [
    {
     "name": "stdout",
     "output_type": "stream",
     "text": [
      "Usage: \u001b[94mqiime tools peek\u001b[0m [OPTIONS] ARTIFACT/VISUALIZATION\n",
      "\n",
      "  Display basic information about a QIIME 2 Artifact or Visualization,\n",
      "  including its UUID and type.\n",
      "\n",
      "\u001b[1mOptions\u001b[0m:\n",
      "  \u001b[94m--tsv\u001b[0m / \u001b[94m--no-tsv\u001b[0m  Print as machine-readable tab-separated values.\n",
      "  \u001b[94m--help\u001b[0m            Show this message and exit.\n",
      "\n",
      "\u001b[33m                    There was a problem with the command:                     \u001b[0m\n",
      "\u001b[31m\u001b[1m (1/1) Invalid value for 'ARTIFACT/VISUALIZATION': File 'data/raw/sequences-\n",
      "  demux-paired.qza' does not exist.\u001b[0m\n"
     ]
    }
   ],
   "source": [
    "! qiime tools peek $data_dir/sequences-demux-paired.qza"
   ]
  },
  {
   "cell_type": "code",
   "execution_count": 21,
   "id": "a3b13fcd-ab49-416b-af2f-12b189876b58",
   "metadata": {
    "tags": []
   },
   "outputs": [
    {
     "name": "stdout",
     "output_type": "stream",
     "text": [
      "/opt/conda/lib/python3.10/site-packages/unifrac/__init__.py:9: UserWarning: pkg_resources is deprecated as an API. See https://setuptools.pypa.io/en/latest/pkg_resources.html. The pkg_resources package is slated for removal as early as 2025-11-30. Refrain from using this package or pin to Setuptools<81.\n",
      "  import pkg_resources\n",
      "\u001b[32mSaved Visualization to: data/raw/sequences-demux-paired.qzv\u001b[0m\n",
      "\u001b[0m\u001b[?25h"
     ]
    }
   ],
   "source": [
    "! qiime demux summarize \\\n",
    "    --i-data $data_dir/sequences-demux-paired.qza \\\n",
    "    --o-visualization $data_dir/sequences-demux-paired.qzv"
   ]
  },
  {
   "cell_type": "code",
   "execution_count": 8,
   "id": "ae31dc11-5c6e-40db-81ff-4fef50b1d302",
   "metadata": {
    "tags": []
   },
   "outputs": [
    {
     "data": {
      "text/html": [
       "<div><img onload=\"(function(div, url){\n",
       "if (typeof require !== 'undefined') {\n",
       "    var baseURL = require.toUrl('').split('/').slice(0, -2).join('/');\n",
       "} else {\n",
       "    var baseURL = JSON.parse(\n",
       "        document.getElementById('jupyter-config-data').innerHTML\n",
       "    ).baseUrl.slice(0, -1);\n",
       "}\n",
       "url = baseURL + url;\n",
       "fetch(url).then(function(res) {\n",
       "    if (res.status === 404) {\n",
       "        div.innerHTML = 'Install QIIME 2 Jupyter extension with:<br />' +\n",
       "                        '<code>jupyter server extension enable --py qiime2' +\n",
       "                        ' --sys-prefix</code><br />then restart your server.' +\n",
       "                        '<br /><br />(Interactive output not available on ' +\n",
       "                        'static notebook viewer services like nbviewer.)';\n",
       "    } else if (res.status === 409) {\n",
       "        div.innerHTML = 'Visualization no longer in scope. Re-run this cell' +\n",
       "                        ' to see the visualization.';\n",
       "    } else if (res.ok) {\n",
       "        url = res.url;\n",
       "        div.innerHTML = '<iframe src=\\'' + url + '\\' style=\\'' +\n",
       "                        'width: 100%; height: 700px; border: 0;\\'>' +\n",
       "                        '</iframe><hr />Open in a: <a href=\\'' + url + '\\'' +\n",
       "                        ' target=\\'_blank\\'>new window</a>'\n",
       "    } else {\n",
       "        div.innerHTML = 'Something has gone wrong. Check notebook server for' +\n",
       "                        ' errors.';\n",
       "    }\n",
       "});\n",
       "})(this.parentElement, '/qiime2/redirect?location=/tmp/qiime2/jovyan/data/c40357e3-3550-42b1-aeda-e7c93bb42742')\" src=\"data:image/gif;base64,R0lGODlhAQABAIAAAP///wAAACH5BAEAAAAALAAAAAABAAEAAAICRAEAOw==\" /></div>"
      ],
      "text/plain": [
       "<visualization: Visualization uuid: c40357e3-3550-42b1-aeda-e7c93bb42742>"
      ]
     },
     "execution_count": 8,
     "metadata": {},
     "output_type": "execute_result"
    }
   ],
   "source": [
    "Visualization.load(f\"{data_dir}/sequences-demux-paired.qzv\")"
   ]
  },
  {
   "cell_type": "markdown",
   "id": "bb6e845f-7129-461a-8724-d20ab1d13584",
   "metadata": {},
   "source": [
    "## Denoising and merging"
   ]
  },
  {
   "cell_type": "markdown",
   "id": "e59365a8-be7c-49ee-b7c7-f6ed59c44fe5",
   "metadata": {},
   "source": [
    "Parameters\n",
    "- `p-trunc-len` - we will truncate the reads to 130 bp (sequences shorter than this will be removed automatically)\n",
    "- `p-n-threads` - if we have more than 1 CPU available, we can specify the number here to make the processing faster\n",
    "- `o-table` - this will be our ASVs feature table\n",
    "- `o-representative-sequences` - this will be a list of all the denoised features (DNA sequences)\n",
    "- `o-denoising-stats` - this will be some stats from the denoising process"
   ]
  },
  {
   "cell_type": "markdown",
   "id": "fe4470c4-3229-451c-92ca-72337c87b855",
   "metadata": {},
   "source": [
    "Information on parameters and function: https://docs.qiime2.org/2024.10/plugins/available/dada2/denoise-paired/\n",
    "Example tutorial of paired read analysis: https://docs.qiime2.org/2024.10/tutorials/atacama-soils/"
   ]
  },
  {
   "cell_type": "code",
   "execution_count": 15,
   "id": "4ff9a26b-a52f-45e7-b3b2-ef36e6df8e01",
   "metadata": {},
   "outputs": [
    {
     "name": "stdout",
     "output_type": "stream",
     "text": [
      "/opt/conda/lib/python3.10/site-packages/unifrac/__init__.py:9: UserWarning: pkg_resources is deprecated as an API. See https://setuptools.pypa.io/en/latest/pkg_resources.html. The pkg_resources package is slated for removal as early as 2025-11-30. Refrain from using this package or pin to Setuptools<81.\n",
      "  import pkg_resources\n",
      "\u001b[32mSaved FeatureTable[Frequency] to: data/processed/dada2_table.qza\u001b[0m\n",
      "\u001b[32mSaved FeatureData[Sequence] to: data/processed/dada2_rep_set.qza\u001b[0m\n",
      "\u001b[32mSaved SampleData[DADA2Stats] to: data/processed/dada2_stats.qza\u001b[0m\n",
      "\u001b[0m\u001b[?25h"
     ]
    }
   ],
   "source": [
    "# this cell takes a loooong time to run. Time for coffee? \n",
    "# Or a cool video? https://www.youtube.com/watch?v=-z4gNr7mN3U\n",
    "# Or a pull-up!\n",
    "# Nvm that last one, too difficult\n",
    "\n",
    "! qiime dada2 denoise-paired \\\n",
    "    --i-demultiplexed-seqs $data_dir/sequences-demux-paired.qza \\\n",
    "    --p-trunc-len-f 175 \\\n",
    "    --p-trunc-len-r 155 \\\n",
    "    --p-n-threads 3 \\\n",
    "    --o-table $processed_data_dir/dada2_table.qza \\\n",
    "    --o-representative-sequences $processed_data_dir/dada2_rep_set.qza \\\n",
    "    --o-denoising-stats $processed_data_dir/dada2_stats.qza\n",
    "    --verbose"
   ]
  },
  {
   "cell_type": "code",
   "execution_count": 16,
   "id": "f7528eed-bc3f-4694-8ca1-e7e3f46bd93c",
   "metadata": {
    "tags": []
   },
   "outputs": [
    {
     "name": "stdout",
     "output_type": "stream",
     "text": [
      "/opt/conda/lib/python3.10/site-packages/unifrac/__init__.py:9: UserWarning: pkg_resources is deprecated as an API. See https://setuptools.pypa.io/en/latest/pkg_resources.html. The pkg_resources package is slated for removal as early as 2025-11-30. Refrain from using this package or pin to Setuptools<81.\n",
      "  import pkg_resources\n",
      "\u001b[32mSaved Visualization to: data/processed/dada2_stats.qzv\u001b[0m\n",
      "\u001b[0m\u001b[?25h"
     ]
    }
   ],
   "source": [
    "! qiime metadata tabulate \\\n",
    "    --m-input-file $processed_data_dir/dada2_stats.qza \\\n",
    "    --o-visualization $processed_data_dir/dada2_stats.qzv"
   ]
  },
  {
   "cell_type": "code",
   "execution_count": 17,
   "id": "1b48d0b7-6da6-4ad0-ad70-361f86071587",
   "metadata": {
    "tags": []
   },
   "outputs": [
    {
     "data": {
      "text/html": [
       "<div><img onload=\"(function(div, url){\n",
       "if (typeof require !== 'undefined') {\n",
       "    var baseURL = require.toUrl('').split('/').slice(0, -2).join('/');\n",
       "} else {\n",
       "    var baseURL = JSON.parse(\n",
       "        document.getElementById('jupyter-config-data').innerHTML\n",
       "    ).baseUrl.slice(0, -1);\n",
       "}\n",
       "url = baseURL + url;\n",
       "fetch(url).then(function(res) {\n",
       "    if (res.status === 404) {\n",
       "        div.innerHTML = 'Install QIIME 2 Jupyter extension with:<br />' +\n",
       "                        '<code>jupyter server extension enable --py qiime2' +\n",
       "                        ' --sys-prefix</code><br />then restart your server.' +\n",
       "                        '<br /><br />(Interactive output not available on ' +\n",
       "                        'static notebook viewer services like nbviewer.)';\n",
       "    } else if (res.status === 409) {\n",
       "        div.innerHTML = 'Visualization no longer in scope. Re-run this cell' +\n",
       "                        ' to see the visualization.';\n",
       "    } else if (res.ok) {\n",
       "        url = res.url;\n",
       "        div.innerHTML = '<iframe src=\\'' + url + '\\' style=\\'' +\n",
       "                        'width: 100%; height: 700px; border: 0;\\'>' +\n",
       "                        '</iframe><hr />Open in a: <a href=\\'' + url + '\\'' +\n",
       "                        ' target=\\'_blank\\'>new window</a>'\n",
       "    } else {\n",
       "        div.innerHTML = 'Something has gone wrong. Check notebook server for' +\n",
       "                        ' errors.';\n",
       "    }\n",
       "});\n",
       "})(this.parentElement, '/qiime2/redirect?location=/tmp/qiime2/jovyan/data/5375c082-8c7b-4ddd-aef5-3f645b390465')\" src=\"data:image/gif;base64,R0lGODlhAQABAIAAAP///wAAACH5BAEAAAAALAAAAAABAAEAAAICRAEAOw==\" /></div>"
      ],
      "text/plain": [
       "<visualization: Visualization uuid: 5375c082-8c7b-4ddd-aef5-3f645b390465>"
      ]
     },
     "execution_count": 17,
     "metadata": {},
     "output_type": "execute_result"
    }
   ],
   "source": [
    "Visualization.load(f\"{processed_data_dir}/dada2_stats.qzv\")"
   ]
  },
  {
   "cell_type": "code",
   "execution_count": 18,
   "id": "e39584d2-336e-4474-a3ef-393e388f8101",
   "metadata": {
    "tags": []
   },
   "outputs": [
    {
     "name": "stdout",
     "output_type": "stream",
     "text": [
      "/opt/conda/lib/python3.10/site-packages/unifrac/__init__.py:9: UserWarning: pkg_resources is deprecated as an API. See https://setuptools.pypa.io/en/latest/pkg_resources.html. The pkg_resources package is slated for removal as early as 2025-11-30. Refrain from using this package or pin to Setuptools<81.\n",
      "  import pkg_resources\n",
      "\u001b[32mSaved Visualization to: data/processed/dada2_table.qzv\u001b[0m\n",
      "\u001b[0m\u001b[?25h"
     ]
    }
   ],
   "source": [
    "! qiime feature-table summarize \\\n",
    "    --i-table $processed_data_dir/dada2_table.qza \\\n",
    "    --m-sample-metadata-file $data_dir/metadata.tsv \\\n",
    "    --o-visualization $processed_data_dir/dada2_table.qzv"
   ]
  },
  {
   "cell_type": "code",
   "execution_count": 19,
   "id": "6f48ffa1-9020-4763-9c8f-b591e8b6dd3a",
   "metadata": {
    "tags": []
   },
   "outputs": [
    {
     "data": {
      "text/html": [
       "<div><img onload=\"(function(div, url){\n",
       "if (typeof require !== 'undefined') {\n",
       "    var baseURL = require.toUrl('').split('/').slice(0, -2).join('/');\n",
       "} else {\n",
       "    var baseURL = JSON.parse(\n",
       "        document.getElementById('jupyter-config-data').innerHTML\n",
       "    ).baseUrl.slice(0, -1);\n",
       "}\n",
       "url = baseURL + url;\n",
       "fetch(url).then(function(res) {\n",
       "    if (res.status === 404) {\n",
       "        div.innerHTML = 'Install QIIME 2 Jupyter extension with:<br />' +\n",
       "                        '<code>jupyter server extension enable --py qiime2' +\n",
       "                        ' --sys-prefix</code><br />then restart your server.' +\n",
       "                        '<br /><br />(Interactive output not available on ' +\n",
       "                        'static notebook viewer services like nbviewer.)';\n",
       "    } else if (res.status === 409) {\n",
       "        div.innerHTML = 'Visualization no longer in scope. Re-run this cell' +\n",
       "                        ' to see the visualization.';\n",
       "    } else if (res.ok) {\n",
       "        url = res.url;\n",
       "        div.innerHTML = '<iframe src=\\'' + url + '\\' style=\\'' +\n",
       "                        'width: 100%; height: 700px; border: 0;\\'>' +\n",
       "                        '</iframe><hr />Open in a: <a href=\\'' + url + '\\'' +\n",
       "                        ' target=\\'_blank\\'>new window</a>'\n",
       "    } else {\n",
       "        div.innerHTML = 'Something has gone wrong. Check notebook server for' +\n",
       "                        ' errors.';\n",
       "    }\n",
       "});\n",
       "})(this.parentElement, '/qiime2/redirect?location=/tmp/qiime2/jovyan/data/54fc3fe4-e632-4142-97d3-9313d0ce58a0')\" src=\"data:image/gif;base64,R0lGODlhAQABAIAAAP///wAAACH5BAEAAAAALAAAAAABAAEAAAICRAEAOw==\" /></div>"
      ],
      "text/plain": [
       "<visualization: Visualization uuid: 54fc3fe4-e632-4142-97d3-9313d0ce58a0>"
      ]
     },
     "execution_count": 19,
     "metadata": {},
     "output_type": "execute_result"
    }
   ],
   "source": [
    "Visualization.load(f\"{processed_data_dir}/dada2_table.qzv\")"
   ]
  }
 ],
 "metadata": {
  "kernelspec": {
   "display_name": "QIIME 2",
   "language": "python",
   "name": "python3"
  },
  "language_info": {
   "codemirror_mode": {
    "name": "ipython",
    "version": 3
   },
   "file_extension": ".py",
   "mimetype": "text/x-python",
   "name": "python",
   "nbconvert_exporter": "python",
   "pygments_lexer": "ipython3",
   "version": "3.10.14"
  }
 },
 "nbformat": 4,
 "nbformat_minor": 5
}
