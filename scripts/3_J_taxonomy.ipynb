{
 "cells": [
  {
   "cell_type": "markdown",
   "id": "0779e8b2-f623-4913-81d2-0cb0a39dbd75",
   "metadata": {},
   "source": [
    "# 3. Taxonomy Classification\n",
    "## Import Data & Packages"
   ]
  },
  {
   "cell_type": "code",
   "execution_count": 1,
   "id": "69d175d6-4ce6-4b5a-9e8c-5f85d67c69d1",
   "metadata": {
    "tags": []
   },
   "outputs": [],
   "source": [
    "# 1- Import packages\n",
    "import os\n",
    "import pandas as pd\n",
    "from qiime2 import Visualization\n",
    "import matplotlib.pyplot as plt\n",
    "import numpy as np\n",
    "import qiime2 as q2\n",
    "%matplotlib inline"
   ]
  },
  {
   "cell_type": "code",
   "execution_count": 2,
   "id": "e3312a66-cd2e-409f-bf73-79729b931dab",
   "metadata": {
    "tags": []
   },
   "outputs": [
    {
     "name": "stdout",
     "output_type": "stream",
     "text": [
      "Current working directory: /home/jovyan/MicrobiomeAnalysis_TummyTribe/scripts\n"
     ]
    }
   ],
   "source": [
    "# 2 - Set working directory \n",
    "# os.chdir(\"/home/jovyan/MicrobiomeAnalysis_TummyTribe/\")\n",
    "\n",
    "# Verify that your wroking directory is the overall project folder (.../MicrobiomeAnalysis_TummyTribe/scripts)\n",
    "print(\"Current working directory:\", os.getcwd())"
   ]
  },
  {
   "cell_type": "code",
   "execution_count": 3,
   "id": "04a911d6-841b-44ba-99e5-8a12f103d915",
   "metadata": {
    "tags": []
   },
   "outputs": [],
   "source": [
    "# 3 - Data directories\n",
    "data_raw = \"../data/raw\"\n",
    "data_dir = \"../data/preprocessing\"\n",
    "data_out = \"../data/taxonomy\"\n",
    "results_dir = \"../results/taxonomy\""
   ]
  },
  {
   "cell_type": "markdown",
   "id": "ccf50086-1aab-4687-beaf-6a8f5f9e6a29",
   "metadata": {},
   "source": [
    "# Compare the results for different data bases\n",
    "## Custom Silva classifier on the V4 region\n",
    "based on these two QIIME tutorials:\n",
    "- [Processing, filtering, and evaluating the SILVA database (and other reference sequence data) with RESCRIPt](https://forum.qiime2.org/t/processing-filtering-and-evaluating-the-silva-database-and-other-reference-sequence-data-with-rescript/15494)\n",
    "- [Using RESCRIPt's 'extract-seq-segments' to extract reference sequences without PCR primer pairs](https://forum.qiime2.org/t/using-rescripts-extract-seq-segments-to-extract-reference-sequences-without-pcr-primer-pairs/23618)\n",
    "### Preparing the SILVA reference database & train an amplicon-region specific classifier\n",
    "To reduce computation time and avoid memory errors on a jupyterhub, this step was executed on Euler."
   ]
  },
  {
   "cell_type": "code",
   "execution_count": 9,
   "id": "5e10ae17-bfab-4349-ab1c-cfc671d0b57d",
   "metadata": {},
   "outputs": [
    {
     "name": "stdout",
     "output_type": "stream",
     "text": [
      "/opt/conda/lib/python3.10/site-packages/unifrac/__init__.py:9: UserWarning: pkg_resources is deprecated as an API. See https://setuptools.pypa.io/en/latest/pkg_resources.html. The pkg_resources package is slated for removal as early as 2025-11-30. Refrain from using this package or pin to Setuptools<81.\n",
      "  import pkg_resources\n",
      "\u001b[32mSaved FeatureData[RNASequence] to: ../data/taxonomy/silva-138.2-ssu-nr99-rna-seqs.qza\u001b[0m\n",
      "\u001b[32mSaved FeatureData[Taxonomy] to: ../data/taxonomy/silva-138.2-ssu-nr99-tax.qza\u001b[0m\n",
      "\u001b[0m\u001b[?25h"
     ]
    }
   ],
   "source": [
    "# 1. Download Silva reference (RNA) --> missing permission on euler to download the data directly like this\n",
    "! qiime rescript get-silva-data \\\n",
    "    --p-version '138.2' \\\n",
    "    --p-target 'SSURef_NR99' \\\n",
    "    --o-silva-sequences  $data_out/silva-138.2-ssu-nr99-rna-seqs.qza \\\n",
    "    --o-silva-taxonomy $data_out/silva-138.2-ssu-nr99-tax.qza"
   ]
  },
  {
   "cell_type": "code",
   "execution_count": 10,
   "id": "72908e85-7b2c-4923-8511-e38dcf960e4a",
   "metadata": {
    "tags": []
   },
   "outputs": [
    {
     "name": "stdout",
     "output_type": "stream",
     "text": [
      "/opt/conda/lib/python3.10/site-packages/unifrac/__init__.py:9: UserWarning: pkg_resources is deprecated as an API. See https://setuptools.pypa.io/en/latest/pkg_resources.html. The pkg_resources package is slated for removal as early as 2025-11-30. Refrain from using this package or pin to Setuptools<81.\n",
      "  import pkg_resources\n",
      "\u001b[32mSaved FeatureData[Sequence] to: ../data/taxonomy/silva-138.2-ssu-nr99-seqs.qza\u001b[0m\n",
      "\u001b[0m\u001b[?25h"
     ]
    }
   ],
   "source": [
    "# 2. Reverse transcribe the RNA into DNA\n",
    "! qiime rescript reverse-transcribe \\\n",
    "    --i-rna-sequences $data_out/silva-138.2-ssu-nr99-rna-seqs.qza \\\n",
    "    --o-dna-sequences $data_out/silva-138.2-ssu-nr99-seqs.qza"
   ]
  },
  {
   "cell_type": "code",
   "execution_count": 14,
   "id": "5a84f208-d189-473a-8f20-437d212951e1",
   "metadata": {
    "tags": []
   },
   "outputs": [
    {
     "name": "stdout",
     "output_type": "stream",
     "text": [
      "/opt/conda/lib/python3.10/site-packages/unifrac/__init__.py:9: UserWarning: pkg_resources is deprecated as an API. See https://setuptools.pypa.io/en/latest/pkg_resources.html. The pkg_resources package is slated for removal as early as 2025-11-30. Refrain from using this package or pin to Setuptools<81.\n",
      "  import pkg_resources\n",
      "\u001b[32mSaved FeatureData[Sequence] to: ../data/taxonomy/silva-138.2-ssu-nr99-seqs-cleaned.qza\u001b[0m\n",
      "\u001b[0m\u001b[?25h"
     ]
    }
   ],
   "source": [
    "# 3. Filter out poor quality (e.g. > 4 ambiguous bases or homopolymers of length > 7)\n",
    "! qiime rescript cull-seqs \\\n",
    "    --i-sequences $data_out/silva-138.2-ssu-nr99-seqs.qza \\\n",
    "    --o-clean-sequences $data_out/silva-138.2-ssu-nr99-seqs-cleaned.qza"
   ]
  },
  {
   "cell_type": "code",
   "execution_count": null,
   "id": "d31d0a85-a8c1-4dc2-b019-28ecfba36c2b",
   "metadata": {},
   "outputs": [],
   "source": [
    "# 4. Filtering sequences by length and taxonomy\n",
    "! qiime rescript filter-seqs-length-by-taxon \\\n",
    "    --i-sequences $data_out/silva-138.2-ssu-nr99-seqs-cleaned.qza \\\n",
    "    --i-taxonomy $data_out/silva-138.2-ssu-nr99-tax.qza \\\n",
    "    --p-labels Archaea Bacteria Eukaryota \\\n",
    "    --p-min-lens 900 1200 1400 \\\n",
    "    --o-filtered-seqs $data_out/silva-138.2-ssu-nr99-seqs-filt.qza \\\n",
    "    --o-discarded-seqs $data_out/silva-138.2-ssu-nr99-seqs-discard.qza"
   ]
  },
  {
   "cell_type": "code",
   "execution_count": null,
   "id": "a2f624c5-1538-4552-b1d4-63e0ddb2a137",
   "metadata": {},
   "outputs": [],
   "source": [
    "# 5. Dereplicate\n",
    "! qiime rescript dereplicate \\\n",
    "    --i-sequences $data_out/silva-138.2-ssu-nr99-seqs-filt.qza  \\\n",
    "    --i-taxa $data_out/silva-138.2-ssu-nr99-tax.qza \\\n",
    "    --p-mode 'uniq' \\\n",
    "    --o-dereplicated-sequences $data_out/silva-138.2-ssu-nr99-seqs-derep-uniq.qza \\\n",
    "    --o-dereplicated-taxa $data_out/silva-138.2-ssu-nr99-tax-derep-uniq.qza"
   ]
  },
  {
   "cell_type": "code",
   "execution_count": null,
   "id": "8cbeb531-2ab0-4198-a891-2a191f79a7ff",
   "metadata": {},
   "outputs": [],
   "source": [
    "# 6. Make amplicon-region specific classifier\n",
    "! qiime feature-classifier extract-reads \\\n",
    "    --i-sequences $data_out/silva-138.2-ssu-nr99-seqs-derep-uniq.qza \\\n",
    "    --p-f-primer GTGYCAGCMGCCGCGGTAA \\\n",
    "    --p-r-primer GGACTACNVGGGTWTCTAAT \\\n",
    "    --p-n-jobs 2 \\\n",
    "    --p-read-orientation 'forward' \\\n",
    "    --o-reads $data_out/silva-138.2-ssu-nr99-seqs-515f-806r.qza"
   ]
  },
  {
   "cell_type": "code",
   "execution_count": null,
   "id": "31b546bd-7765-47d3-a66b-182fe232c6d2",
   "metadata": {},
   "outputs": [],
   "source": [
    "# 7. Dereplicate again (could have new replicates in the shorter regions)\n",
    "! qiime rescript dereplicate \\\n",
    "    --i-sequences $data_out/silva-138.2-ssu-nr99-seqs-515f-806r.qza \\\n",
    "    --i-taxa $data_out/silva-138.2-ssu-nr99-tax-derep-uniq.qza \\\n",
    "    --p-mode 'uniq' \\\n",
    "    --o-dereplicated-sequences $data_out/silva-138.2-ssu-nr99-seqs-515f-806r-uniq.qza \\\n",
    "    --o-dereplicated-taxa $data_out/silva-138.2-ssu-nr99-tax-515f-806r-derep-uniq.qza"
   ]
  },
  {
   "cell_type": "code",
   "execution_count": null,
   "id": "6faee6d0-58cd-4757-a429-5f00264683e0",
   "metadata": {},
   "outputs": [],
   "source": [
    "# 8. Train amplicon-region specific classifier\n",
    "! qiime feature-classifier fit-classifier-naive-bayes \\\n",
    "    --i-reference-reads $data_out/silva-138.2-ssu-nr99-seqs-515f-806r-uniq.qza \\\n",
    "    --i-reference-taxonomy $data_out/silva-138.2-ssu-nr99-tax-515f-806r-derep-uniq.qza \\\n",
    "    --o-classifier $data_out/silva-138.2-ssu-nr99-515f-806r-classifier.qza"
   ]
  },
  {
   "cell_type": "markdown",
   "id": "cb255f58-c1f5-4ae7-847d-aeb37ca4f98f",
   "metadata": {},
   "source": [
    "## Taxonomy assignment"
   ]
  },
  {
   "cell_type": "code",
   "execution_count": 16,
   "id": "c8ab3df6-43d7-4f86-8a02-32801239de79",
   "metadata": {
    "tags": []
   },
   "outputs": [
    {
     "name": "stdout",
     "output_type": "stream",
     "text": [
      "/opt/conda/lib/python3.10/site-packages/unifrac/__init__.py:9: UserWarning: pkg_resources is deprecated as an API. See https://setuptools.pypa.io/en/latest/pkg_resources.html. The pkg_resources package is slated for removal as early as 2025-11-30. Refrain from using this package or pin to Setuptools<81.\n",
      "  import pkg_resources\n",
      "\u001b[32mSaved FeatureData[Taxonomy] to: ../data/taxonomy/taxonomy.qza\u001b[0m\n",
      "\u001b[0m\u001b[?25h"
     ]
    }
   ],
   "source": [
    "# 9 - assign taxonomy labels to our ASVs \n",
    "! qiime feature-classifier classify-sklearn \\\n",
    "    --i-classifier $data_out/silva-138.2-ssu-nr99-515f-806r-classifier.qza \\\n",
    "    --i-reads $data_dir/dada2_rep_seq.qza \\\n",
    "    --o-classification $data_out/taxonomy.qza"
   ]
  },
  {
   "cell_type": "code",
   "execution_count": 17,
   "id": "5517832c-293e-4538-a74d-bc0a78461b95",
   "metadata": {
    "tags": []
   },
   "outputs": [
    {
     "name": "stdout",
     "output_type": "stream",
     "text": [
      "\u001b[32mUUID\u001b[0m:        419da88f-f3d0-4c29-9ed6-e09054c80317\n",
      "\u001b[32mType\u001b[0m:        FeatureData[Taxonomy]\n",
      "\u001b[32mData format\u001b[0m: TSVTaxonomyDirectoryFormat\n"
     ]
    }
   ],
   "source": [
    "# 10 - check if it created the taxonomy artefact\n",
    "! qiime tools peek $data_out/taxonomy.qza"
   ]
  },
  {
   "cell_type": "code",
   "execution_count": 18,
   "id": "b512ef4f-98ac-444f-bd1c-76e76ec88aa8",
   "metadata": {
    "tags": []
   },
   "outputs": [
    {
     "name": "stdout",
     "output_type": "stream",
     "text": [
      "/opt/conda/lib/python3.10/site-packages/unifrac/__init__.py:9: UserWarning: pkg_resources is deprecated as an API. See https://setuptools.pypa.io/en/latest/pkg_resources.html. The pkg_resources package is slated for removal as early as 2025-11-30. Refrain from using this package or pin to Setuptools<81.\n",
      "  import pkg_resources\n",
      "\u001b[32mSaved Visualization to: ../data/taxonomy/taxonomy.qzv\u001b[0m\n",
      "\u001b[0m\u001b[?25h"
     ]
    }
   ],
   "source": [
    "# 11 - create the visualization\n",
    "! qiime metadata tabulate \\\n",
    "    --m-input-file $data_out/taxonomy.qza \\\n",
    "    --o-visualization $data_out/taxonomy.qzv"
   ]
  },
  {
   "cell_type": "code",
   "execution_count": 4,
   "id": "313c373b-254e-4660-80a7-97331a0fc942",
   "metadata": {
    "tags": []
   },
   "outputs": [
    {
     "data": {
      "text/html": [
       "<div><img onload=\"(function(div, url){\n",
       "if (typeof require !== 'undefined') {\n",
       "    var baseURL = require.toUrl('').split('/').slice(0, -2).join('/');\n",
       "} else {\n",
       "    var baseURL = JSON.parse(\n",
       "        document.getElementById('jupyter-config-data').innerHTML\n",
       "    ).baseUrl.slice(0, -1);\n",
       "}\n",
       "url = baseURL + url;\n",
       "fetch(url).then(function(res) {\n",
       "    if (res.status === 404) {\n",
       "        div.innerHTML = 'Install QIIME 2 Jupyter extension with:<br />' +\n",
       "                        '<code>jupyter server extension enable --py qiime2' +\n",
       "                        ' --sys-prefix</code><br />then restart your server.' +\n",
       "                        '<br /><br />(Interactive output not available on ' +\n",
       "                        'static notebook viewer services like nbviewer.)';\n",
       "    } else if (res.status === 409) {\n",
       "        div.innerHTML = 'Visualization no longer in scope. Re-run this cell' +\n",
       "                        ' to see the visualization.';\n",
       "    } else if (res.ok) {\n",
       "        url = res.url;\n",
       "        div.innerHTML = '<iframe src=\\'' + url + '\\' style=\\'' +\n",
       "                        'width: 100%; height: 700px; border: 0;\\'>' +\n",
       "                        '</iframe><hr />Open in a: <a href=\\'' + url + '\\'' +\n",
       "                        ' target=\\'_blank\\'>new window</a>'\n",
       "    } else {\n",
       "        div.innerHTML = 'Something has gone wrong. Check notebook server for' +\n",
       "                        ' errors.';\n",
       "    }\n",
       "});\n",
       "})(this.parentElement, '/qiime2/redirect?location=/tmp/qiime2/jovyan/data/e7e3aa92-4120-4982-8863-411d854e8c16')\" src=\"data:image/gif;base64,R0lGODlhAQABAIAAAP///wAAACH5BAEAAAAALAAAAAABAAEAAAICRAEAOw==\" /></div>"
      ],
      "text/plain": [
       "<visualization: Visualization uuid: e7e3aa92-4120-4982-8863-411d854e8c16>"
      ]
     },
     "execution_count": 4,
     "metadata": {},
     "output_type": "execute_result"
    }
   ],
   "source": [
    "Visualization.load(f\"{data_out}/taxonomy.qzv\")"
   ]
  },
  {
   "cell_type": "code",
   "execution_count": 24,
   "id": "682cafdf-964e-4ff3-ab85-c0e5788ce950",
   "metadata": {
    "tags": []
   },
   "outputs": [
    {
     "name": "stdout",
     "output_type": "stream",
     "text": [
      "/opt/conda/lib/python3.10/site-packages/unifrac/__init__.py:9: UserWarning: pkg_resources is deprecated as an API. See https://setuptools.pypa.io/en/latest/pkg_resources.html. The pkg_resources package is slated for removal as early as 2025-11-30. Refrain from using this package or pin to Setuptools<81.\n",
      "  import pkg_resources\n",
      "\u001b[32mSaved Visualization to: ../data/taxonomy/taxa-bar-plots.qzv\u001b[0m\n",
      "\u001b[0m\u001b[?25h"
     ]
    }
   ],
   "source": [
    "# 12 - Create interactive taxonomy bar plot\n",
    "! qiime taxa barplot \\\n",
    "    --i-table $data_dir/dada2_table.qza \\\n",
    "    --i-taxonomy $data_out/taxonomy.qza \\\n",
    "    --m-metadata-file $data_raw/metadata.tsv \\\n",
    "    --o-visualization $data_out/taxa-bar-plots.qzv"
   ]
  },
  {
   "cell_type": "code",
   "execution_count": 5,
   "id": "86b2f1ea-087d-437c-9be7-dea96a7ea3b9",
   "metadata": {
    "tags": []
   },
   "outputs": [
    {
     "data": {
      "text/html": [
       "<div><img onload=\"(function(div, url){\n",
       "if (typeof require !== 'undefined') {\n",
       "    var baseURL = require.toUrl('').split('/').slice(0, -2).join('/');\n",
       "} else {\n",
       "    var baseURL = JSON.parse(\n",
       "        document.getElementById('jupyter-config-data').innerHTML\n",
       "    ).baseUrl.slice(0, -1);\n",
       "}\n",
       "url = baseURL + url;\n",
       "fetch(url).then(function(res) {\n",
       "    if (res.status === 404) {\n",
       "        div.innerHTML = 'Install QIIME 2 Jupyter extension with:<br />' +\n",
       "                        '<code>jupyter server extension enable --py qiime2' +\n",
       "                        ' --sys-prefix</code><br />then restart your server.' +\n",
       "                        '<br /><br />(Interactive output not available on ' +\n",
       "                        'static notebook viewer services like nbviewer.)';\n",
       "    } else if (res.status === 409) {\n",
       "        div.innerHTML = 'Visualization no longer in scope. Re-run this cell' +\n",
       "                        ' to see the visualization.';\n",
       "    } else if (res.ok) {\n",
       "        url = res.url;\n",
       "        div.innerHTML = '<iframe src=\\'' + url + '\\' style=\\'' +\n",
       "                        'width: 100%; height: 700px; border: 0;\\'>' +\n",
       "                        '</iframe><hr />Open in a: <a href=\\'' + url + '\\'' +\n",
       "                        ' target=\\'_blank\\'>new window</a>'\n",
       "    } else {\n",
       "        div.innerHTML = 'Something has gone wrong. Check notebook server for' +\n",
       "                        ' errors.';\n",
       "    }\n",
       "});\n",
       "})(this.parentElement, '/qiime2/redirect?location=/tmp/qiime2/jovyan/data/60942b38-48af-432f-9604-71292ab03de0')\" src=\"data:image/gif;base64,R0lGODlhAQABAIAAAP///wAAACH5BAEAAAAALAAAAAABAAEAAAICRAEAOw==\" /></div>"
      ],
      "text/plain": [
       "<visualization: Visualization uuid: 60942b38-48af-432f-9604-71292ab03de0>"
      ]
     },
     "execution_count": 5,
     "metadata": {},
     "output_type": "execute_result"
    }
   ],
   "source": [
    "Visualization.load(f\"{data_out}/taxa-bar-plots.qzv\")"
   ]
  },
  {
   "cell_type": "code",
   "execution_count": 6,
   "id": "92b9ed21-a802-49a7-9367-8d2144185f2c",
   "metadata": {
    "tags": []
   },
   "outputs": [
    {
     "name": "stderr",
     "output_type": "stream",
     "text": [
      "/opt/conda/lib/python3.10/site-packages/unifrac/__init__.py:9: UserWarning: pkg_resources is deprecated as an API. See https://setuptools.pypa.io/en/latest/pkg_resources.html. The pkg_resources package is slated for removal as early as 2025-11-30. Refrain from using this package or pin to Setuptools<81.\n",
      "  import pkg_resources\n"
     ]
    }
   ],
   "source": [
    "# 13 - load QIIME 2 artifact files as python objects\n",
    "taxa = q2.Artifact.load(f'{data_out}/taxonomy.qza')\n",
    "# view as a `pandas.DataFrame`. Note: Only some Artifact types can be transformed to DataFrames\n",
    "taxa = taxa.view(pd.DataFrame)"
   ]
  },
  {
   "cell_type": "code",
   "execution_count": 7,
   "id": "7ba0d2be-685e-4e16-975a-5f71049fd358",
   "metadata": {
    "tags": []
   },
   "outputs": [
    {
     "name": "stdout",
     "output_type": "stream",
     "text": [
      "1. Domain: 3358 (100.0%)\n",
      "2. Phylum: 3354 (99.9%)\n",
      "3. Class: 3353 (99.9%)\n",
      "4. Order: 3345 (99.6%)\n",
      "5. Family: 3300 (98.3%)\n",
      "6. Genus: 2940 (87.6%)\n",
      "7. Species: 2940 (87.6%)\n"
     ]
    }
   ],
   "source": [
    "# 14 - Count for each taxonomic level how many ASVs were still identified\n",
    "ranks = [(\"d__\", \"Domain\"), (\"p__\", \"Phylum\"), (\"c__\", \"Class\"), (\"o__\", \"Order\"), (\"f__\", \"Family\"), (\"g__\", \"Genus\"), (\"s__\", \"Species\")]\n",
    "total = len(taxa)\n",
    "for i, (prefix, name) in enumerate(ranks, start=1):\n",
    "    count = taxa[\"Taxon\"].str.contains(prefix).sum()\n",
    "    percent = count / total * 100\n",
    "    print(f\"{i}. {name}: {count} ({percent:.1f}%)\")"
   ]
  },
  {
   "cell_type": "code",
   "execution_count": 8,
   "id": "25da3fe4-4a09-4462-b393-15e1406fd789",
   "metadata": {
    "tags": []
   },
   "outputs": [
    {
     "name": "stdout",
     "output_type": "stream",
     "text": [
      "1. Kingdom: 0 (0.0%)\n",
      "2. Phylum: 3354 (99.9%)\n",
      "3. Class: 3353 (99.9%)\n",
      "4. Order: 3345 (99.6%)\n",
      "5. Family: 3300 (98.3%)\n",
      "6. Genus: 2940 (87.6%)\n",
      "7. Species: 0 (0.0%)\n"
     ]
    }
   ],
   "source": [
    "# Ignore this currently\n",
    "ranks = [\n",
    "    (\"k__\", \"Kingdom\"),\n",
    "    (\"p__\", \"Phylum\"),\n",
    "    (\"c__\", \"Class\"),\n",
    "    (\"o__\", \"Order\"),\n",
    "    (\"f__\", \"Family\"),\n",
    "    (\"g__\", \"Genus\"),\n",
    "    (\"s__\", \"Species\")\n",
    "]\n",
    "\n",
    "total = len(taxa)\n",
    "\n",
    "# Function to check if a rank is assigned (not empty)\n",
    "def is_assigned(taxon_string, prefix):\n",
    "    for part in taxon_string.split(\";\"):\n",
    "        if part.startswith(prefix) and len(part) > len(prefix):\n",
    "            return True\n",
    "    return False\n",
    "\n",
    "# Print nicely\n",
    "for i, (prefix, name) in enumerate(ranks, start=1):\n",
    "    count = taxa[\"Taxon\"].apply(lambda x: is_assigned(x, prefix)).sum()\n",
    "    percent = count / total * 100\n",
    "    print(f\"{i}. {name}: {count} ({percent:.1f}%)\")"
   ]
  },
  {
   "cell_type": "markdown",
   "id": "398af771-73c8-457f-9eb9-cb342b08af33",
   "metadata": {},
   "source": [
    "### Evaluate taxonomic classifier"
   ]
  },
  {
   "cell_type": "markdown",
   "id": "0baccd34-bdaf-4f22-a3d1-97d69ae51371",
   "metadata": {},
   "source": [
    "Masjas classifier (not V4 region specific)"
   ]
  },
  {
   "cell_type": "code",
   "execution_count": 40,
   "id": "7333b7d9-e916-491c-8d27-d83d7f0ac54a",
   "metadata": {
    "tags": []
   },
   "outputs": [
    {
     "name": "stdout",
     "output_type": "stream",
     "text": [
      "/opt/conda/lib/python3.10/site-packages/unifrac/__init__.py:9: UserWarning: pkg_resources is deprecated as an API. See https://setuptools.pypa.io/en/latest/pkg_resources.html. The pkg_resources package is slated for removal as early as 2025-11-30. Refrain from using this package or pin to Setuptools<81.\n",
      "  import pkg_resources\n",
      "\u001b[32mSaved FeatureData[Taxonomy] to: ../data/taxonomy/taxonomy_masja.qza\u001b[0m\n",
      "\u001b[0m\u001b[?25h"
     ]
    }
   ],
   "source": [
    "! qiime feature-classifier classify-sklearn \\\n",
    "    --i-classifier $data_out/silva-138.2-ssu-nr99-classifier-masja.qza \\\n",
    "    --i-reads $data_dir/dada2_rep_seq.qza \\\n",
    "    --o-classification $data_out/taxonomy_masja.qza"
   ]
  },
  {
   "cell_type": "code",
   "execution_count": null,
   "id": "9fff853d-9266-4916-9db9-5481941ed47d",
   "metadata": {},
   "outputs": [],
   "source": [
    "# It denies permission for me :/\n",
    "! wget -O $raw_data/silva-138-99-nb-human-stool-weighted-classifier.qza \\\n",
    "https://data.qiime2.org/classifiers/sklearn-1.4.2/silva/silva-138-99-nb-human-stool-weighted-classifier.qza"
   ]
  },
  {
   "cell_type": "code",
   "execution_count": 46,
   "id": "347462d7-32ce-4c7b-b26a-109d570ec19b",
   "metadata": {
    "tags": []
   },
   "outputs": [
    {
     "name": "stdout",
     "output_type": "stream",
     "text": [
      "/opt/conda/lib/python3.10/site-packages/unifrac/__init__.py:9: UserWarning: pkg_resources is deprecated as an API. See https://setuptools.pypa.io/en/latest/pkg_resources.html. The pkg_resources package is slated for removal as early as 2025-11-30. Refrain from using this package or pin to Setuptools<81.\n",
      "  import pkg_resources\n",
      "\u001b[31m\u001b[1mPlugin error from rescript:\n",
      "\n",
      "  Expected and Observed Taxonomies do not match. Expected taxonomy must be a superset of observed taxonomies. Indices of pair 1 do not match.\n",
      "\n",
      "Debug info has been saved to /tmp/qiime2-q2cli-err-m0i8e8i2.log\u001b[0m\n",
      "\u001b[0m\u001b[?25h"
     ]
    }
   ],
   "source": [
    "! qiime rescript evaluate-classifications \\\n",
    "    --i-expected-taxonomies $data_out/silva-138.2-ssu-nr99-tax-515f-806r-derep-uniq.qza\\\n",
    "    --i-observed-taxonomies $data_out/taxonomy.qza \\\n",
    "    --p-labels Julia \\\n",
    "    --o-evaluation $data_out/taxonomy-classifier-evaluation.qzv"
   ]
  },
  {
   "cell_type": "code",
   "execution_count": 45,
   "id": "bbe1bc5b-28fc-4e60-ac1e-5dc99f885f6b",
   "metadata": {
    "tags": []
   },
   "outputs": [
    {
     "name": "stdout",
     "output_type": "stream",
     "text": [
      "/opt/conda/lib/python3.10/site-packages/unifrac/__init__.py:9: UserWarning: pkg_resources is deprecated as an API. See https://setuptools.pypa.io/en/latest/pkg_resources.html. The pkg_resources package is slated for removal as early as 2025-11-30. Refrain from using this package or pin to Setuptools<81.\n",
      "  import pkg_resources\n",
      "\u001b[31m\u001b[1mPlugin error from rescript:\n",
      "\n",
      "  Expected and Observed Taxonomies do not match. Expected taxonomy must be a superset of observed taxonomies. Indices of pair 1 do not match.\n",
      "\n",
      "Debug info has been saved to /tmp/qiime2-q2cli-err-p72zizw6.log\u001b[0m\n",
      "\u001b[0m\u001b[?25h"
     ]
    }
   ],
   "source": [
    "! qiime rescript evaluate-classifications \\\n",
    "    --i-expected-taxonomies $data_out/silva-138.2-ssu-nr99-tax-515f-806r-derep-uniq.qza $data_out/silva-138.2-ssu-nr99-tax-515f-806r-derep-uniq.qza\\\n",
    "    --i-observed-taxonomies $data_out/taxonomy.qza $data_out/taxonomy_masja.qza \\\n",
    "    --p-labels Julia Masja \\\n",
    "    --o-evaluation $data_out/taxonomy-classifier-evaluation.qzv"
   ]
  },
  {
   "cell_type": "code",
   "execution_count": 14,
   "id": "5f657c64-638c-4671-9cc0-a27952002896",
   "metadata": {},
   "outputs": [
    {
     "data": {
      "text/html": [
       "<div><img onload=\"(function(div, url){\n",
       "if (typeof require !== 'undefined') {\n",
       "    var baseURL = require.toUrl('').split('/').slice(0, -2).join('/');\n",
       "} else {\n",
       "    var baseURL = JSON.parse(\n",
       "        document.getElementById('jupyter-config-data').innerHTML\n",
       "    ).baseUrl.slice(0, -1);\n",
       "}\n",
       "url = baseURL + url;\n",
       "fetch(url).then(function(res) {\n",
       "    if (res.status === 404) {\n",
       "        div.innerHTML = 'Install QIIME 2 Jupyter extension with:<br />' +\n",
       "                        '<code>jupyter server extension enable --py qiime2' +\n",
       "                        ' --sys-prefix</code><br />then restart your server.' +\n",
       "                        '<br /><br />(Interactive output not available on ' +\n",
       "                        'static notebook viewer services like nbviewer.)';\n",
       "    } else if (res.status === 409) {\n",
       "        div.innerHTML = 'Visualization no longer in scope. Re-run this cell' +\n",
       "                        ' to see the visualization.';\n",
       "    } else if (res.ok) {\n",
       "        url = res.url;\n",
       "        div.innerHTML = '<iframe src=\\'' + url + '\\' style=\\'' +\n",
       "                        'width: 100%; height: 700px; border: 0;\\'>' +\n",
       "                        '</iframe><hr />Open in a: <a href=\\'' + url + '\\'' +\n",
       "                        ' target=\\'_blank\\'>new window</a>'\n",
       "    } else {\n",
       "        div.innerHTML = 'Something has gone wrong. Check notebook server for' +\n",
       "                        ' errors.';\n",
       "    }\n",
       "});\n",
       "})(this.parentElement, '/qiime2/redirect?location=/tmp/qiime2/jovyan/data/025010c9-eafc-45fd-8b4a-6703ac68ff0b')\" src=\"data:image/gif;base64,R0lGODlhAQABAIAAAP///wAAACH5BAEAAAAALAAAAAABAAEAAAICRAEAOw==\" /></div>"
      ],
      "text/plain": [
       "<visualization: Visualization uuid: 025010c9-eafc-45fd-8b4a-6703ac68ff0b>"
      ]
     },
     "execution_count": 14,
     "metadata": {},
     "output_type": "execute_result"
    }
   ],
   "source": [
    "Visualization.load(f\"{data_out}/silva-138.2-ssu-nr99-515f-806r-fit-classifier-evaluation.qzv\")"
   ]
  },
  {
   "cell_type": "code",
   "execution_count": 11,
   "id": "e8356910-3a27-4fe0-b6e9-c567efca2acf",
   "metadata": {
    "tags": []
   },
   "outputs": [],
   "source": [
    "data_pretrained = \"../data/processed-pre_trained\""
   ]
  },
  {
   "cell_type": "code",
   "execution_count": 12,
   "id": "e4f2a247-04d7-4704-9de0-bf6618c2717f",
   "metadata": {
    "tags": []
   },
   "outputs": [
    {
     "name": "stdout",
     "output_type": "stream",
     "text": [
      "/opt/conda/lib/python3.10/site-packages/unifrac/__init__.py:9: UserWarning: pkg_resources is deprecated as an API. See https://setuptools.pypa.io/en/latest/pkg_resources.html. The pkg_resources package is slated for removal as early as 2025-11-30. Refrain from using this package or pin to Setuptools<81.\n",
      "  import pkg_resources\n",
      "\u001b[32mSaved Visualization to: ../data/taxonomy/taxonomy-evaluation.qzv\u001b[0m\n",
      "\u001b[0m\u001b[?25h"
     ]
    }
   ],
   "source": [
    "! qiime rescript evaluate-taxonomy \\\n",
    "  --i-taxonomies $data_out/taxonomy.qza $data_out/taxonomy_masja.qza $data_pretrained/taxonomy_140.qza\\\n",
    "  --p-labels Julia Masja pretrained\\\n",
    "  --o-taxonomy-stats $data_out/taxonomy-evaluation.qzv"
   ]
  },
  {
   "cell_type": "code",
   "execution_count": 13,
   "id": "99873893-7ff8-4817-a3d3-bdaafe5fb7f1",
   "metadata": {
    "tags": []
   },
   "outputs": [
    {
     "data": {
      "text/html": [
       "<div><img onload=\"(function(div, url){\n",
       "if (typeof require !== 'undefined') {\n",
       "    var baseURL = require.toUrl('').split('/').slice(0, -2).join('/');\n",
       "} else {\n",
       "    var baseURL = JSON.parse(\n",
       "        document.getElementById('jupyter-config-data').innerHTML\n",
       "    ).baseUrl.slice(0, -1);\n",
       "}\n",
       "url = baseURL + url;\n",
       "fetch(url).then(function(res) {\n",
       "    if (res.status === 404) {\n",
       "        div.innerHTML = 'Install QIIME 2 Jupyter extension with:<br />' +\n",
       "                        '<code>jupyter server extension enable --py qiime2' +\n",
       "                        ' --sys-prefix</code><br />then restart your server.' +\n",
       "                        '<br /><br />(Interactive output not available on ' +\n",
       "                        'static notebook viewer services like nbviewer.)';\n",
       "    } else if (res.status === 409) {\n",
       "        div.innerHTML = 'Visualization no longer in scope. Re-run this cell' +\n",
       "                        ' to see the visualization.';\n",
       "    } else if (res.ok) {\n",
       "        url = res.url;\n",
       "        div.innerHTML = '<iframe src=\\'' + url + '\\' style=\\'' +\n",
       "                        'width: 100%; height: 700px; border: 0;\\'>' +\n",
       "                        '</iframe><hr />Open in a: <a href=\\'' + url + '\\'' +\n",
       "                        ' target=\\'_blank\\'>new window</a>'\n",
       "    } else {\n",
       "        div.innerHTML = 'Something has gone wrong. Check notebook server for' +\n",
       "                        ' errors.';\n",
       "    }\n",
       "});\n",
       "})(this.parentElement, '/qiime2/redirect?location=/tmp/qiime2/jovyan/data/08092df4-0c5c-40ab-be66-60ace1a82d9f')\" src=\"data:image/gif;base64,R0lGODlhAQABAIAAAP///wAAACH5BAEAAAAALAAAAAABAAEAAAICRAEAOw==\" /></div>"
      ],
      "text/plain": [
       "<visualization: Visualization uuid: 08092df4-0c5c-40ab-be66-60ace1a82d9f>"
      ]
     },
     "execution_count": 13,
     "metadata": {},
     "output_type": "execute_result"
    }
   ],
   "source": [
    "Visualization.load(f\"{data_out}/taxonomy-evaluation.qzv\")"
   ]
  },
  {
   "cell_type": "code",
   "execution_count": null,
   "id": "c33564dc-a128-4672-bd35-75d3ca7bc562",
   "metadata": {},
   "outputs": [],
   "source": []
  }
 ],
 "metadata": {
  "kernelspec": {
   "display_name": "QIIME 2",
   "language": "python",
   "name": "python3"
  },
  "language_info": {
   "codemirror_mode": {
    "name": "ipython",
    "version": 3
   },
   "file_extension": ".py",
   "mimetype": "text/x-python",
   "name": "python",
   "nbconvert_exporter": "python",
   "pygments_lexer": "ipython3",
   "version": "3.10.14"
  }
 },
 "nbformat": 4,
 "nbformat_minor": 5
}
