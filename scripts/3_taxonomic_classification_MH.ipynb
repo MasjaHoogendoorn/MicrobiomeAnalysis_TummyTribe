{
 "cells": [
  {
   "cell_type": "markdown",
   "id": "6949469d-5b36-47eb-bef2-efbd22d372cc",
   "metadata": {},
   "source": [
    "# 3. Taxonomic Classification\n",
    "## Import data & packages"
   ]
  },
  {
   "cell_type": "code",
   "execution_count": 2,
   "id": "dc2c92bd-e623-49a8-b6ec-323a211492f5",
   "metadata": {
    "tags": []
   },
   "outputs": [],
   "source": [
    "# 1 - Import all packages\n",
    "import IPython\n",
    "import pandas as pd\n",
    "import matplotlib.pyplot as plt\n",
    "import os\n",
    "import qiime2 as q2\n",
    "from qiime2 import Visualization\n",
    "\n",
    "%matplotlib inline"
   ]
  },
  {
   "cell_type": "code",
   "execution_count": 4,
   "id": "4278f4e7-15ed-4c02-b135-da1f6109b86b",
   "metadata": {
    "tags": []
   },
   "outputs": [
    {
     "name": "stdout",
     "output_type": "stream",
     "text": [
      "Current working directory: /home/jovyan/MicrobiomeAnalysis_TummyTribe\n"
     ]
    }
   ],
   "source": [
    "# 2 - Set working directory\n",
    "os.chdir(\"/home/jovyan/MicrobiomeAnalysis_TummyTribe/\")\n",
    "\n",
    "# Verify that your wroking directory is the overall project folder (.../MicrobiomeAnalysis_TummyTribe)\n",
    "print(\"Current working directory:\", os.getcwd())"
   ]
  },
  {
   "cell_type": "code",
   "execution_count": 14,
   "id": "7594be8c-2a1a-4d13-95c9-abb799f52059",
   "metadata": {
    "tags": []
   },
   "outputs": [],
   "source": [
    "# 3 - Data directory for the raw data\n",
    "data_dir = \"data/raw\"\n",
    "processed_data_dir = \"data/processed\""
   ]
  },
  {
   "cell_type": "markdown",
   "id": "af007bbd-a3a7-4cfa-a08f-e2909beb3289",
   "metadata": {},
   "source": [
    "##  Set-up SILVA (not tried to run yet)"
   ]
  },
  {
   "cell_type": "markdown",
   "id": "4169df5d-0da9-4bf3-b5bb-7d7cd42e3fa1",
   "metadata": {},
   "source": [
    "Assign taxonomy using a SILVA v4 pre-trained classifier (as said in project description)\n",
    "- https://forum.qiime2.org/t/processing-filtering-and-evaluating-the-silva-database-and-other-reference-sequence-data-with-rescript/15494## Import data & packages"
   ]
  },
  {
   "cell_type": "code",
   "execution_count": null,
   "id": "8127b31c-09dc-4a3a-8011-462e7cbe6923",
   "metadata": {},
   "outputs": [],
   "source": [
    "qiime rescript get-silva-data \\\n",
    "    --p-version '138.2' \\\n",
    "    --p-target 'SSURef_NR99' \\\n",
    "    --o-silva-sequences silva-138.2-ssu-nr99-rna-seqs.qza \\\n",
    "    --o-silva-taxonomy silva-138.2-ssu-nr99-tax.qza"
   ]
  },
  {
   "cell_type": "code",
   "execution_count": null,
   "id": "e1a67cbc-2e29-4f79-8396-0c04dd2145ec",
   "metadata": {},
   "outputs": [],
   "source": [
    "qiime rescript reverse-transcribe \\\n",
    "    --i-rna-sequences silva-138.2-ssu-nr99-rna-seqs.qza \n",
    "    --o-dna-sequences silva-138.2-ssu-nr99-seqs.qza"
   ]
  },
  {
   "cell_type": "code",
   "execution_count": null,
   "id": "b6d15c6b-79c7-47c5-aca4-f388e8f38503",
   "metadata": {},
   "outputs": [],
   "source": [
    "qiime rescript filter-seqs-length-by-taxon \\\n",
    "    --i-sequences silva-138.2-ssu-nr99-seqs-cleaned.qza \\\n",
    "    --i-taxonomy silva-138.2-ssu-nr99-tax.qza \\\n",
    "    --p-labels Archaea Bacteria Eukaryota \\\n",
    "    --p-min-lens 900 1200 1400 \\\n",
    "    --o-filtered-seqs silva-138.2-ssu-nr99-seqs-filt.qza \\\n",
    "    --o-discarded-seqs silva-138.2-ssu-nr99-seqs-discard.qza "
   ]
  },
  {
   "cell_type": "code",
   "execution_count": null,
   "id": "bb58b8ca-6fe2-440d-a099-ea9062ebd9d9",
   "metadata": {},
   "outputs": [],
   "source": [
    "qiime rescript dereplicate \\\n",
    "    --i-sequences silva-138.2-ssu-nr99-seqs-filt.qza  \\\n",
    "    --i-taxa silva-138.2-ssu-nr99-tax.qza \\\n",
    "    --p-mode 'uniq' \\\n",
    "    --o-dereplicated-sequences silva-138.2-ssu-nr99-seqs-derep-uniq.qza \\\n",
    "    --o-dereplicated-taxa silva-138.2-ssu-nr99-tax-derep-uniq.qza"
   ]
  },
  {
   "cell_type": "code",
   "execution_count": null,
   "id": "23813e8f-f788-4fff-b500-5cbe43798300",
   "metadata": {},
   "outputs": [],
   "source": [
    "qiime feature-classifier fit-classifier-naive-bayes \\\n",
    "  --i-reference-reads  silva-138.2-ssu-nr99-seqs-derep-uniq.qza \\\n",
    "  --i-reference-taxonomy silva-138.2-ssu-nr99-tax-derep-uniq.qza \\\n",
    "  --o-classifier silva-138.2-ssu-nr99-classifier.qza"
   ]
  },
  {
   "cell_type": "markdown",
   "id": "cda33324-6ea1-49e3-9387-0839a60d5ead",
   "metadata": {},
   "source": [
    "##  Assign Taxonomy"
   ]
  }
 ],
 "metadata": {
  "kernelspec": {
   "display_name": "QIIME 2",
   "language": "python",
   "name": "python3"
  },
  "language_info": {
   "codemirror_mode": {
    "name": "ipython",
    "version": 3
   },
   "file_extension": ".py",
   "mimetype": "text/x-python",
   "name": "python",
   "nbconvert_exporter": "python",
   "pygments_lexer": "ipython3",
   "version": "3.10.14"
  }
 },
 "nbformat": 4,
 "nbformat_minor": 5
}
