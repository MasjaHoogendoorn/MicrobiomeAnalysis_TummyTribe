{
 "cells": [
  {
   "cell_type": "markdown",
   "id": "6949469d-5b36-47eb-bef2-efbd22d372cc",
   "metadata": {},
   "source": [
    "# 3. Taxonomic Classification\n",
    "## Import data & packages"
   ]
  },
  {
   "cell_type": "code",
   "execution_count": 1,
   "id": "dc2c92bd-e623-49a8-b6ec-323a211492f5",
   "metadata": {
    "tags": []
   },
   "outputs": [],
   "source": [
    "# 1 - Import all packages\n",
    "import IPython\n",
    "import pandas as pd\n",
    "import matplotlib.pyplot as plt\n",
    "import os\n",
    "import qiime2 as q2\n",
    "from qiime2 import Visualization\n",
    "\n",
    "%matplotlib inline"
   ]
  },
  {
   "cell_type": "code",
   "execution_count": 2,
   "id": "4278f4e7-15ed-4c02-b135-da1f6109b86b",
   "metadata": {
    "tags": []
   },
   "outputs": [
    {
     "name": "stdout",
     "output_type": "stream",
     "text": [
      "Current working directory: /home/jovyan/MicrobiomeAnalysis_TummyTribe\n"
     ]
    }
   ],
   "source": [
    "# 2 - Set working directory\n",
    "os.chdir(\"/home/jovyan/MicrobiomeAnalysis_TummyTribe/\")\n",
    "\n",
    "# Verify that your wroking directory is the overall project folder (.../MicrobiomeAnalysis_TummyTribe)\n",
    "print(\"Current working directory:\", os.getcwd())"
   ]
  },
  {
   "cell_type": "code",
   "execution_count": 3,
   "id": "7594be8c-2a1a-4d13-95c9-abb799f52059",
   "metadata": {
    "tags": []
   },
   "outputs": [],
   "source": [
    "# 3 - Data directory for the raw data\n",
    "data_dir = \"data/raw\"\n",
    "processed_data_dir = \"data/processed\""
   ]
  },
  {
   "cell_type": "markdown",
   "id": "af007bbd-a3a7-4cfa-a08f-e2909beb3289",
   "metadata": {},
   "source": [
    "##  Set-up SILVA (ran, but not looked into it in detail yet if the generic approach fits for us)"
   ]
  },
  {
   "cell_type": "markdown",
   "id": "4169df5d-0da9-4bf3-b5bb-7d7cd42e3fa1",
   "metadata": {},
   "source": [
    "Assign taxonomy using a SILVA v4 pre-trained classifier (as said in project description)\n",
    "- https://forum.qiime2.org/t/processing-filtering-and-evaluating-the-silva-database-and-other-reference-sequence-data-with-rescript/15494## Import data & packages"
   ]
  },
  {
   "cell_type": "code",
   "execution_count": 4,
   "id": "8127b31c-09dc-4a3a-8011-462e7cbe6923",
   "metadata": {
    "tags": []
   },
   "outputs": [
    {
     "name": "stdout",
     "output_type": "stream",
     "text": [
      "/opt/conda/lib/python3.10/site-packages/unifrac/__init__.py:9: UserWarning: pkg_resources is deprecated as an API. See https://setuptools.pypa.io/en/latest/pkg_resources.html. The pkg_resources package is slated for removal as early as 2025-11-30. Refrain from using this package or pin to Setuptools<81.\n",
      "  import pkg_resources\n",
      "\u001b[32mSaved FeatureData[RNASequence] to: data/processed/silva-138.2-ssu-nr99-rna-seqs.qza\u001b[0m\n",
      "\u001b[32mSaved FeatureData[Taxonomy] to: data/processed/silva-138.2-ssu-nr99-tax.qza\u001b[0m\n",
      "\u001b[0m\u001b[?25h"
     ]
    }
   ],
   "source": [
    "# also takes a long time to run all these cells! Maybe \n",
    "\n",
    "! qiime rescript get-silva-data \\\n",
    "    --p-version '138.2' \\\n",
    "    --p-target 'SSURef_NR99' \\\n",
    "    --o-silva-sequences  $processed_data_dir/silva-138.2-ssu-nr99-rna-seqs.qza \\\n",
    "    --o-silva-taxonomy $processed_data_dir/silva-138.2-ssu-nr99-tax.qza"
   ]
  },
  {
   "cell_type": "code",
   "execution_count": 7,
   "id": "e1a67cbc-2e29-4f79-8396-0c04dd2145ec",
   "metadata": {
    "tags": []
   },
   "outputs": [
    {
     "name": "stdout",
     "output_type": "stream",
     "text": [
      "/opt/conda/lib/python3.10/site-packages/unifrac/__init__.py:9: UserWarning: pkg_resources is deprecated as an API. See https://setuptools.pypa.io/en/latest/pkg_resources.html. The pkg_resources package is slated for removal as early as 2025-11-30. Refrain from using this package or pin to Setuptools<81.\n",
      "  import pkg_resources\n",
      "\u001b[32mSaved FeatureData[Sequence] to: data/processed/silva-138.2-ssu-nr99-seqs.qza\u001b[0m\n",
      "\u001b[0m\u001b[?25h"
     ]
    }
   ],
   "source": [
    "! qiime rescript reverse-transcribe \\\n",
    "    --i-rna-sequences $processed_data_dir/silva-138.2-ssu-nr99-rna-seqs.qza \\\n",
    "    --o-dna-sequences $processed_data_dir/silva-138.2-ssu-nr99-seqs.qza"
   ]
  },
  {
   "cell_type": "code",
   "execution_count": 14,
   "id": "c5a0d5d5-758f-4698-a875-b236a403801a",
   "metadata": {
    "tags": []
   },
   "outputs": [
    {
     "name": "stdout",
     "output_type": "stream",
     "text": [
      "/opt/conda/lib/python3.10/site-packages/unifrac/__init__.py:9: UserWarning: pkg_resources is deprecated as an API. See https://setuptools.pypa.io/en/latest/pkg_resources.html. The pkg_resources package is slated for removal as early as 2025-11-30. Refrain from using this package or pin to Setuptools<81.\n",
      "  import pkg_resources\n",
      "\u001b[32mSaved FeatureData[Sequence] to: data/processed/silva-138.2-ssu-nr99-seqs-cleaned.qza\u001b[0m\n",
      "\u001b[0m\u001b[?25h"
     ]
    }
   ],
   "source": [
    "! qiime rescript cull-seqs \\\n",
    "    --i-sequences $processed_data_dir/silva-138.2-ssu-nr99-seqs.qza \\\n",
    "    --o-clean-sequences $processed_data_dir/silva-138.2-ssu-nr99-seqs-cleaned.qza"
   ]
  },
  {
   "cell_type": "code",
   "execution_count": 15,
   "id": "b6d15c6b-79c7-47c5-aca4-f388e8f38503",
   "metadata": {
    "tags": []
   },
   "outputs": [
    {
     "name": "stdout",
     "output_type": "stream",
     "text": [
      "/opt/conda/lib/python3.10/site-packages/unifrac/__init__.py:9: UserWarning: pkg_resources is deprecated as an API. See https://setuptools.pypa.io/en/latest/pkg_resources.html. The pkg_resources package is slated for removal as early as 2025-11-30. Refrain from using this package or pin to Setuptools<81.\n",
      "  import pkg_resources\n",
      "\u001b[32mSaved FeatureData[Sequence] to: data/processed/silva-138.2-ssu-nr99-seqs-filt.qza\u001b[0m\n",
      "\u001b[32mSaved FeatureData[Sequence] to: data/processed/silva-138.2-ssu-nr99-seqs-discard.qza\u001b[0m\n",
      "\u001b[0m\u001b[?25h"
     ]
    }
   ],
   "source": [
    "! qiime rescript filter-seqs-length-by-taxon \\\n",
    "    --i-sequences $processed_data_dir/silva-138.2-ssu-nr99-seqs-cleaned.qza \\\n",
    "    --i-taxonomy $processed_data_dir/silva-138.2-ssu-nr99-tax.qza \\\n",
    "    --p-labels Archaea Bacteria Eukaryota \\\n",
    "    --p-min-lens 900 1200 1400 \\\n",
    "    --o-filtered-seqs $processed_data_dir/silva-138.2-ssu-nr99-seqs-filt.qza \\\n",
    "    --o-discarded-seqs $processed_data_dir/silva-138.2-ssu-nr99-seqs-discard.qza "
   ]
  },
  {
   "cell_type": "code",
   "execution_count": 16,
   "id": "bb58b8ca-6fe2-440d-a099-ea9062ebd9d9",
   "metadata": {
    "tags": []
   },
   "outputs": [
    {
     "name": "stdout",
     "output_type": "stream",
     "text": [
      "/opt/conda/lib/python3.10/site-packages/unifrac/__init__.py:9: UserWarning: pkg_resources is deprecated as an API. See https://setuptools.pypa.io/en/latest/pkg_resources.html. The pkg_resources package is slated for removal as early as 2025-11-30. Refrain from using this package or pin to Setuptools<81.\n",
      "  import pkg_resources\n",
      "\u001b[32mSaved FeatureData[Sequence] to: data/processed/silva-138.2-ssu-nr99-seqs-derep-uniq.qza\u001b[0m\n",
      "\u001b[32mSaved FeatureData[Taxonomy] to: data/processed/silva-138.2-ssu-nr99-tax-derep-uniq.qza\u001b[0m\n",
      "\u001b[0m\u001b[?25h"
     ]
    }
   ],
   "source": [
    "! qiime rescript dereplicate \\\n",
    "    --i-sequences $processed_data_dir/silva-138.2-ssu-nr99-seqs-filt.qza  \\\n",
    "    --i-taxa $processed_data_dir/silva-138.2-ssu-nr99-tax.qza \\\n",
    "    --p-mode 'uniq' \\\n",
    "    --o-dereplicated-sequences $processed_data_dir/silva-138.2-ssu-nr99-seqs-derep-uniq.qza \\\n",
    "    --o-dereplicated-taxa $processed_data_dir/silva-138.2-ssu-nr99-tax-derep-uniq.qza"
   ]
  },
  {
   "cell_type": "code",
   "execution_count": 20,
   "id": "23813e8f-f788-4fff-b500-5cbe43798300",
   "metadata": {
    "tags": []
   },
   "outputs": [
    {
     "name": "stdout",
     "output_type": "stream",
     "text": [
      "/usr/bin/sh: -c: line 1: syntax error near unexpected token `then'\n",
      "/usr/bin/sh: -c: line 1: ` qiime feature-classifier fit-classifier-naive-bayes    --i-reference-reads  data/processed/silva-138.2-ssu-nr99-seqs-derep-uniq.qza    --i-reference-taxonomy data/processed/silva-138.2-ssu-nr99-tax-derep-uniq.qza    --p-classify--chunk-size 10    --o-classifier data/processed/silva-138.2-ssu-nr99-classifier.qza    if [ ! $? -eq 0 ]; then echo \"Command failed - most likely reason is not enough memory.\"; fi'\n"
     ]
    }
   ],
   "source": [
    "! qiime feature-classifier fit-classifier-naive-bayes \\\n",
    "  --i-reference-reads  $processed_data_dir/silva-138.2-ssu-nr99-seqs-derep-uniq.qza \\\n",
    "  --i-reference-taxonomy $processed_data_dir/silva-138.2-ssu-nr99-tax-derep-uniq.qza \\\n",
    "  --p-classify--chunk-size 10 \\\n",
    "  --o-classifier $processed_data_dir/silva-138.2-ssu-nr99-classifier.qza \\\n",
    "  if [ ! $? -eq 0 ]; then echo \"Command failed - most likely reason is not enough memory.\"; fi"
   ]
  },
  {
   "cell_type": "markdown",
   "id": "cda33324-6ea1-49e3-9387-0839a60d5ead",
   "metadata": {},
   "source": [
    "##  Assign Taxonomy"
   ]
  },
  {
   "cell_type": "code",
   "execution_count": null,
   "id": "13c15a2c-f9df-4f61-9b8c-8e5e9cda0004",
   "metadata": {
    "tags": []
   },
   "outputs": [],
   "source": [
    "! qiime feature-classifier classify-sklearn \\\n",
    "    --i-classifier $processed_data_dir/silva-138.2-ssu-nr99-classifier.qza \\\n",
    "    --i-reads $processed_data_dir/dada2_rep_set.qza \\\n",
    "    --o-classification $processed_data_dir/taxonomy.qza"
   ]
  },
  {
   "cell_type": "code",
   "execution_count": null,
   "id": "7271fdce-83da-4bba-b197-3fe8c201e497",
   "metadata": {
    "tags": []
   },
   "outputs": [],
   "source": [
    "! qiime tools peek $processed_data_dir/taxonomy.qza"
   ]
  },
  {
   "cell_type": "code",
   "execution_count": null,
   "id": "52b8e45f-9fa1-43c3-872c-c39c1096f7ee",
   "metadata": {
    "tags": []
   },
   "outputs": [],
   "source": [
    "! qiime metadata tabulate \\\n",
    "    --m-input-file $processed_data_dir/taxonomy.qza \\\n",
    "    --o-visualization $processed_data_dir/taxonomy.qzv"
   ]
  },
  {
   "cell_type": "code",
   "execution_count": null,
   "id": "15bf30a2-cb1b-4046-9310-a18d72db2b5a",
   "metadata": {
    "tags": []
   },
   "outputs": [],
   "source": [
    "Visualization.load(f\"{processed_data_dir}/taxonomy.qzv\")"
   ]
  },
  {
   "cell_type": "code",
   "execution_count": null,
   "id": "07802bed-4fa7-46cc-9855-067aafe184c5",
   "metadata": {
    "tags": []
   },
   "outputs": [],
   "source": [
    "#Left at this step in the notebook\n",
    "\n",
    "# ! qiime taxa barplot \\\n",
    "#     --i-table $data_dir/table.qza \\\n",
    "#     --i-taxonomy $data_dir/taxonomy.qza \\\n",
    "#     --m-metadata-file $data_dir/sample-metadata.tsv \\\n",
    "#     --o-visualization $data_dir/taxa-bar-plots.qzv"
   ]
  }
 ],
 "metadata": {
  "kernelspec": {
   "display_name": "QIIME 2",
   "language": "python",
   "name": "python3"
  },
  "language_info": {
   "codemirror_mode": {
    "name": "ipython",
    "version": 3
   },
   "file_extension": ".py",
   "mimetype": "text/x-python",
   "name": "python",
   "nbconvert_exporter": "python",
   "pygments_lexer": "ipython3",
   "version": "3.10.14"
  }
 },
 "nbformat": 4,
 "nbformat_minor": 5
}
