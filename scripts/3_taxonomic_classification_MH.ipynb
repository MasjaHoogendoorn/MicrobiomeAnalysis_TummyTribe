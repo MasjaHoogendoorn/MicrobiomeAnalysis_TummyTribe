{
 "cells": [
  {
   "cell_type": "markdown",
   "id": "6949469d-5b36-47eb-bef2-efbd22d372cc",
   "metadata": {},
   "source": [
    "# 3. Taxonomic Classification\n",
    "## Import data & packages"
   ]
  },
  {
   "cell_type": "code",
   "execution_count": 12,
   "id": "dc2c92bd-e623-49a8-b6ec-323a211492f5",
   "metadata": {
    "tags": []
   },
   "outputs": [],
   "source": [
    "# 1 - Import all packages\n",
    "import IPython\n",
    "import pandas as pd\n",
    "import matplotlib.pyplot as plt\n",
    "import os\n",
    "import qiime2 as q2\n",
    "from qiime2 import Visualization\n",
    "\n",
    "%matplotlib inline"
   ]
  },
  {
   "cell_type": "code",
   "execution_count": 13,
   "id": "4278f4e7-15ed-4c02-b135-da1f6109b86b",
   "metadata": {
    "tags": []
   },
   "outputs": [
    {
     "name": "stdout",
     "output_type": "stream",
     "text": [
      "Current working directory: /home/jovyan/Project/MicrobiomeAnalysis_TummyTribe\n"
     ]
    }
   ],
   "source": [
    "# 2 - Set working directory\n",
    "os.chdir(\"/home/jovyan/Project/MicrobiomeAnalysis_TummyTribe/\")\n",
    "\n",
    "# Verify that your wroking directory is the overall project folder (.../MicrobiomeAnalysis_TummyTribe)\n",
    "print(\"Current working directory:\", os.getcwd())"
   ]
  },
  {
   "cell_type": "code",
   "execution_count": 14,
   "id": "7594be8c-2a1a-4d13-95c9-abb799f52059",
   "metadata": {
    "tags": []
   },
   "outputs": [],
   "source": [
    "# 3 - Data directory for the raw data\n",
    "data_dir = \"data/raw\"\n",
    "processed_data_dir = \"data/processed\""
   ]
  },
  {
   "cell_type": "markdown",
   "id": "af007bbd-a3a7-4cfa-a08f-e2909beb3289",
   "metadata": {},
   "source": [
    "##  Set-up SILVA (ran, but not looked into it in detail yet if the generic approach fits for us)"
   ]
  },
  {
   "cell_type": "markdown",
   "id": "4169df5d-0da9-4bf3-b5bb-7d7cd42e3fa1",
   "metadata": {},
   "source": [
    "Assign taxonomy using a SILVA v4 pre-trained classifier (as said in project description)\n",
    "- https://forum.qiime2.org/t/processing-filtering-and-evaluating-the-silva-database-and-other-reference-sequence-data-with-rescript/15494## Import data & packages"
   ]
  },
  {
   "cell_type": "code",
   "execution_count": 4,
   "id": "8127b31c-09dc-4a3a-8011-462e7cbe6923",
   "metadata": {
    "tags": []
   },
   "outputs": [
    {
     "name": "stdout",
     "output_type": "stream",
     "text": [
      "/opt/conda/lib/python3.10/site-packages/unifrac/__init__.py:9: UserWarning: pkg_resources is deprecated as an API. See https://setuptools.pypa.io/en/latest/pkg_resources.html. The pkg_resources package is slated for removal as early as 2025-11-30. Refrain from using this package or pin to Setuptools<81.\n",
      "  import pkg_resources\n",
      "\u001b[32mSaved FeatureData[RNASequence] to: data/processed/silva-138.2-ssu-nr99-rna-seqs.qza\u001b[0m\n",
      "\u001b[32mSaved FeatureData[Taxonomy] to: data/processed/silva-138.2-ssu-nr99-tax.qza\u001b[0m\n",
      "\u001b[0m\u001b[?25h"
     ]
    }
   ],
   "source": [
    "# also takes a long time to run all these cells! \n",
    "\n",
    "# ! qiime rescript get-silva-data \\\n",
    "#     --p-version '138.2' \\\n",
    "#     --p-target 'SSURef_NR99' \\\n",
    "#     --o-silva-sequences  $processed_data_dir/silva-138.2-ssu-nr99-rna-seqs.qza \\\n",
    "#     --o-silva-taxonomy $processed_data_dir/silva-138.2-ssu-nr99-tax.qza"
   ]
  },
  {
   "cell_type": "code",
   "execution_count": 7,
   "id": "e1a67cbc-2e29-4f79-8396-0c04dd2145ec",
   "metadata": {
    "tags": []
   },
   "outputs": [
    {
     "name": "stdout",
     "output_type": "stream",
     "text": [
      "/opt/conda/lib/python3.10/site-packages/unifrac/__init__.py:9: UserWarning: pkg_resources is deprecated as an API. See https://setuptools.pypa.io/en/latest/pkg_resources.html. The pkg_resources package is slated for removal as early as 2025-11-30. Refrain from using this package or pin to Setuptools<81.\n",
      "  import pkg_resources\n",
      "\u001b[32mSaved FeatureData[Sequence] to: data/processed/silva-138.2-ssu-nr99-seqs.qza\u001b[0m\n",
      "\u001b[0m\u001b[?25h"
     ]
    }
   ],
   "source": [
    "# ! qiime rescript reverse-transcribe \\\n",
    "#     --i-rna-sequences $processed_data_dir/silva-138.2-ssu-nr99-rna-seqs.qza \\\n",
    "#     --o-dna-sequences $processed_data_dir/silva-138.2-ssu-nr99-seqs.qza"
   ]
  },
  {
   "cell_type": "code",
   "execution_count": 14,
   "id": "c5a0d5d5-758f-4698-a875-b236a403801a",
   "metadata": {
    "tags": []
   },
   "outputs": [
    {
     "name": "stdout",
     "output_type": "stream",
     "text": [
      "/opt/conda/lib/python3.10/site-packages/unifrac/__init__.py:9: UserWarning: pkg_resources is deprecated as an API. See https://setuptools.pypa.io/en/latest/pkg_resources.html. The pkg_resources package is slated for removal as early as 2025-11-30. Refrain from using this package or pin to Setuptools<81.\n",
      "  import pkg_resources\n",
      "\u001b[32mSaved FeatureData[Sequence] to: data/processed/silva-138.2-ssu-nr99-seqs-cleaned.qza\u001b[0m\n",
      "\u001b[0m\u001b[?25h"
     ]
    }
   ],
   "source": [
    "# ! qiime rescript cull-seqs \\\n",
    "#     --i-sequences $processed_data_dir/silva-138.2-ssu-nr99-seqs.qza \\\n",
    "#     --o-clean-sequences $processed_data_dir/silva-138.2-ssu-nr99-seqs-cleaned.qza"
   ]
  },
  {
   "cell_type": "code",
   "execution_count": 15,
   "id": "b6d15c6b-79c7-47c5-aca4-f388e8f38503",
   "metadata": {
    "tags": []
   },
   "outputs": [
    {
     "name": "stdout",
     "output_type": "stream",
     "text": [
      "/opt/conda/lib/python3.10/site-packages/unifrac/__init__.py:9: UserWarning: pkg_resources is deprecated as an API. See https://setuptools.pypa.io/en/latest/pkg_resources.html. The pkg_resources package is slated for removal as early as 2025-11-30. Refrain from using this package or pin to Setuptools<81.\n",
      "  import pkg_resources\n",
      "\u001b[32mSaved FeatureData[Sequence] to: data/processed/silva-138.2-ssu-nr99-seqs-filt.qza\u001b[0m\n",
      "\u001b[32mSaved FeatureData[Sequence] to: data/processed/silva-138.2-ssu-nr99-seqs-discard.qza\u001b[0m\n",
      "\u001b[0m\u001b[?25h"
     ]
    }
   ],
   "source": [
    "# ! qiime rescript filter-seqs-length-by-taxon \\\n",
    "#     --i-sequences $processed_data_dir/silva-138.2-ssu-nr99-seqs-cleaned.qza \\\n",
    "#     --i-taxonomy $processed_data_dir/silva-138.2-ssu-nr99-tax.qza \\\n",
    "#     --p-labels Archaea Bacteria Eukaryota \\\n",
    "#     --p-min-lens 900 1200 1400 \\\n",
    "#     --o-filtered-seqs $processed_data_dir/silva-138.2-ssu-nr99-seqs-filt.qza \\\n",
    "#     --o-discarded-seqs $processed_data_dir/silva-138.2-ssu-nr99-seqs-discard.qza "
   ]
  },
  {
   "cell_type": "code",
   "execution_count": 16,
   "id": "bb58b8ca-6fe2-440d-a099-ea9062ebd9d9",
   "metadata": {
    "tags": []
   },
   "outputs": [
    {
     "name": "stdout",
     "output_type": "stream",
     "text": [
      "/opt/conda/lib/python3.10/site-packages/unifrac/__init__.py:9: UserWarning: pkg_resources is deprecated as an API. See https://setuptools.pypa.io/en/latest/pkg_resources.html. The pkg_resources package is slated for removal as early as 2025-11-30. Refrain from using this package or pin to Setuptools<81.\n",
      "  import pkg_resources\n",
      "\u001b[32mSaved FeatureData[Sequence] to: data/processed/silva-138.2-ssu-nr99-seqs-derep-uniq.qza\u001b[0m\n",
      "\u001b[32mSaved FeatureData[Taxonomy] to: data/processed/silva-138.2-ssu-nr99-tax-derep-uniq.qza\u001b[0m\n",
      "\u001b[0m\u001b[?25h"
     ]
    }
   ],
   "source": [
    "# ! qiime rescript dereplicate \\\n",
    "#     --i-sequences $processed_data_dir/silva-138.2-ssu-nr99-seqs-filt.qza  \\\n",
    "#     --i-taxa $processed_data_dir/silva-138.2-ssu-nr99-tax.qza \\\n",
    "#     --p-mode 'uniq' \\\n",
    "#     --o-dereplicated-sequences $processed_data_dir/silva-138.2-ssu-nr99-seqs-derep-uniq.qza \\\n",
    "#     --o-dereplicated-taxa $processed_data_dir/silva-138.2-ssu-nr99-tax-derep-uniq.qza"
   ]
  },
  {
   "cell_type": "code",
   "execution_count": 20,
   "id": "23813e8f-f788-4fff-b500-5cbe43798300",
   "metadata": {
    "tags": []
   },
   "outputs": [
    {
     "name": "stdout",
     "output_type": "stream",
     "text": [
      "/usr/bin/sh: -c: line 1: syntax error near unexpected token `then'\n",
      "/usr/bin/sh: -c: line 1: ` qiime feature-classifier fit-classifier-naive-bayes    --i-reference-reads  data/processed/silva-138.2-ssu-nr99-seqs-derep-uniq.qza    --i-reference-taxonomy data/processed/silva-138.2-ssu-nr99-tax-derep-uniq.qza    --p-classify--chunk-size 10    --o-classifier data/processed/silva-138.2-ssu-nr99-classifier.qza    if [ ! $? -eq 0 ]; then echo \"Command failed - most likely reason is not enough memory.\"; fi'\n"
     ]
    }
   ],
   "source": [
    "# ! qiime feature-classifier fit-classifier-naive-bayes \\\n",
    "#   --i-reference-reads  $processed_data_dir/silva-138.2-ssu-nr99-seqs-derep-uniq.qza \\\n",
    "#   --i-reference-taxonomy $processed_data_dir/silva-138.2-ssu-nr99-tax-derep-uniq.qza \\\n",
    "#   --p-classify--chunk-size 10 \\\n",
    "#   --o-classifier $processed_data_dir/silva-138.2-ssu-nr99-classifier.qza \\\n",
    "#   if [ ! $? -eq 0 ]; then echo \"Command failed - most likely reason is not enough memory.\"; fi"
   ]
  },
  {
   "cell_type": "markdown",
   "id": "cda33324-6ea1-49e3-9387-0839a60d5ead",
   "metadata": {},
   "source": [
    "##  Assign Taxonomy"
   ]
  },
  {
   "cell_type": "markdown",
   "id": "cc41a481-a291-405f-b6db-3f6c5801f137",
   "metadata": {},
   "source": [
    "pre-trained classifier from https://library.qiime2.org/data-resources, EXPERIMENTAL: human stool weighted Silva 138 99% OTUs full-length sequences\n",
    "\n"
   ]
  },
  {
   "cell_type": "code",
   "execution_count": 20,
   "id": "985106e9-0705-4e42-b9e5-229bc50f7028",
   "metadata": {
    "tags": []
   },
   "outputs": [
    {
     "name": "stdout",
     "output_type": "stream",
     "text": [
      "--2025-10-21 11:05:44--  https://data.qiime2.org/classifiers/sklearn-1.4.2/silva/silva-138-99-nb-human-stool-weighted-classifier.qza\n",
      "Resolving data.qiime2.org (data.qiime2.org)... 54.200.1.12\n",
      "Connecting to data.qiime2.org (data.qiime2.org)|54.200.1.12|:443... connected.\n",
      "HTTP request sent, awaiting response... 302 FOUND\n",
      "Location: https://s3-us-west-2.amazonaws.com/qiime2-data/classifiers/sklearn-1.4.2/silva/silva-138-99-nb-human-stool-weighted-classifier.qza [following]\n",
      "--2025-10-21 11:05:45--  https://s3-us-west-2.amazonaws.com/qiime2-data/classifiers/sklearn-1.4.2/silva/silva-138-99-nb-human-stool-weighted-classifier.qza\n",
      "Resolving s3-us-west-2.amazonaws.com (s3-us-west-2.amazonaws.com)... 3.5.86.24, 52.92.236.144, 52.218.234.80, ...\n",
      "Connecting to s3-us-west-2.amazonaws.com (s3-us-west-2.amazonaws.com)|3.5.86.24|:443... connected.\n",
      "HTTP request sent, awaiting response... 200 OK\n",
      "Length: 218311668 (208M) [binary/octet-stream]\n",
      "Saving to: ‘data/raw/silva-138-99-nb-human-stool-weighted-classifier.qza’\n",
      "\n",
      "data/raw/silva-138- 100%[===================>] 208.20M  17.0MB/s    in 13s     \n",
      "\n",
      "2025-10-21 11:05:59 (15.5 MB/s) - ‘data/raw/silva-138-99-nb-human-stool-weighted-classifier.qza’ saved [218311668/218311668]\n",
      "\n"
     ]
    }
   ],
   "source": [
    "# It denies permission for me :/\n",
    "! wget -O $data_dir/silva-138-99-nb-human-stool-weighted-classifier.qza \\\n",
    "https://data.qiime2.org/classifiers/sklearn-1.4.2/silva/silva-138-99-nb-human-stool-weighted-classifier.qza"
   ]
  },
  {
   "cell_type": "code",
   "execution_count": 21,
   "id": "13c15a2c-f9df-4f61-9b8c-8e5e9cda0004",
   "metadata": {
    "tags": []
   },
   "outputs": [
    {
     "name": "stdout",
     "output_type": "stream",
     "text": [
      "/opt/conda/lib/python3.10/site-packages/unifrac/__init__.py:9: UserWarning: pkg_resources is deprecated as an API. See https://setuptools.pypa.io/en/latest/pkg_resources.html. The pkg_resources package is slated for removal as early as 2025-11-30. Refrain from using this package or pin to Setuptools<81.\n",
      "  import pkg_resources\n",
      "\u001b[32mSaved FeatureData[Taxonomy] to: data/processed/taxonomy_140.qza\u001b[0m\n",
      "\u001b[0m\u001b[?25h"
     ]
    }
   ],
   "source": [
    "! qiime feature-classifier classify-sklearn \\\n",
    "    --i-classifier $data_dir/silva-138-99-nb-human-stool-weighted-classifier.qza \\\n",
    "    --i-reads $processed_data_dir/dada2_rep_set_140.qza \\\n",
    "    --o-classification $processed_data_dir/taxonomy_140.qza"
   ]
  },
  {
   "cell_type": "code",
   "execution_count": 22,
   "id": "7271fdce-83da-4bba-b197-3fe8c201e497",
   "metadata": {
    "tags": []
   },
   "outputs": [
    {
     "name": "stdout",
     "output_type": "stream",
     "text": [
      "\u001b[32mUUID\u001b[0m:        5fae7627-7901-48e3-8b7a-22db477b8a22\n",
      "\u001b[32mType\u001b[0m:        FeatureData[Taxonomy]\n",
      "\u001b[32mData format\u001b[0m: TSVTaxonomyDirectoryFormat\n"
     ]
    }
   ],
   "source": [
    "! qiime tools peek $processed_data_dir/taxonomy_140.qza"
   ]
  },
  {
   "cell_type": "code",
   "execution_count": 23,
   "id": "52b8e45f-9fa1-43c3-872c-c39c1096f7ee",
   "metadata": {
    "tags": []
   },
   "outputs": [
    {
     "name": "stdout",
     "output_type": "stream",
     "text": [
      "/opt/conda/lib/python3.10/site-packages/unifrac/__init__.py:9: UserWarning: pkg_resources is deprecated as an API. See https://setuptools.pypa.io/en/latest/pkg_resources.html. The pkg_resources package is slated for removal as early as 2025-11-30. Refrain from using this package or pin to Setuptools<81.\n",
      "  import pkg_resources\n",
      "\u001b[32mSaved Visualization to: data/processed/taxonomy_140.qzv\u001b[0m\n",
      "\u001b[0m\u001b[?25h"
     ]
    }
   ],
   "source": [
    "! qiime metadata tabulate \\\n",
    "    --m-input-file $processed_data_dir/taxonomy_140.qza \\\n",
    "    --o-visualization $processed_data_dir/taxonomy_140.qzv"
   ]
  },
  {
   "cell_type": "code",
   "execution_count": 24,
   "id": "15bf30a2-cb1b-4046-9310-a18d72db2b5a",
   "metadata": {
    "tags": []
   },
   "outputs": [
    {
     "data": {
      "text/html": [
       "<div><img onload=\"(function(div, url){\n",
       "if (typeof require !== 'undefined') {\n",
       "    var baseURL = require.toUrl('').split('/').slice(0, -2).join('/');\n",
       "} else {\n",
       "    var baseURL = JSON.parse(\n",
       "        document.getElementById('jupyter-config-data').innerHTML\n",
       "    ).baseUrl.slice(0, -1);\n",
       "}\n",
       "url = baseURL + url;\n",
       "fetch(url).then(function(res) {\n",
       "    if (res.status === 404) {\n",
       "        div.innerHTML = 'Install QIIME 2 Jupyter extension with:<br />' +\n",
       "                        '<code>jupyter server extension enable --py qiime2' +\n",
       "                        ' --sys-prefix</code><br />then restart your server.' +\n",
       "                        '<br /><br />(Interactive output not available on ' +\n",
       "                        'static notebook viewer services like nbviewer.)';\n",
       "    } else if (res.status === 409) {\n",
       "        div.innerHTML = 'Visualization no longer in scope. Re-run this cell' +\n",
       "                        ' to see the visualization.';\n",
       "    } else if (res.ok) {\n",
       "        url = res.url;\n",
       "        div.innerHTML = '<iframe src=\\'' + url + '\\' style=\\'' +\n",
       "                        'width: 100%; height: 700px; border: 0;\\'>' +\n",
       "                        '</iframe><hr />Open in a: <a href=\\'' + url + '\\'' +\n",
       "                        ' target=\\'_blank\\'>new window</a>'\n",
       "    } else {\n",
       "        div.innerHTML = 'Something has gone wrong. Check notebook server for' +\n",
       "                        ' errors.';\n",
       "    }\n",
       "});\n",
       "})(this.parentElement, '/qiime2/redirect?location=/tmp/qiime2/jovyan/data/dbdc7a19-b20c-486b-8afe-0346138b9a75')\" src=\"data:image/gif;base64,R0lGODlhAQABAIAAAP///wAAACH5BAEAAAAALAAAAAABAAEAAAICRAEAOw==\" /></div>"
      ],
      "text/plain": [
       "<visualization: Visualization uuid: dbdc7a19-b20c-486b-8afe-0346138b9a75>"
      ]
     },
     "execution_count": 24,
     "metadata": {},
     "output_type": "execute_result"
    }
   ],
   "source": [
    "Visualization.load(f\"{processed_data_dir}/taxonomy_140.qzv\")"
   ]
  },
  {
   "cell_type": "code",
   "execution_count": 28,
   "id": "07802bed-4fa7-46cc-9855-067aafe184c5",
   "metadata": {
    "tags": []
   },
   "outputs": [
    {
     "name": "stdout",
     "output_type": "stream",
     "text": [
      "/opt/conda/lib/python3.10/site-packages/unifrac/__init__.py:9: UserWarning: pkg_resources is deprecated as an API. See https://setuptools.pypa.io/en/latest/pkg_resources.html. The pkg_resources package is slated for removal as early as 2025-11-30. Refrain from using this package or pin to Setuptools<81.\n",
      "  import pkg_resources\n",
      "\u001b[32mSaved Visualization to: data/processed/taxa-bar-plots.qzv\u001b[0m\n",
      "\u001b[0m\u001b[?25h"
     ]
    }
   ],
   "source": [
    "! qiime taxa barplot \\\n",
    "    --i-table $processed_data_dir/dada2_table_140.qza \\\n",
    "    --i-taxonomy $processed_data_dir/taxonomy_140.qza \\\n",
    "    --m-metadata-file $data_dir/metadata.tsv \\\n",
    "    --o-visualization $processed_data_dir/taxa-bar-plots.qzv"
   ]
  },
  {
   "cell_type": "code",
   "execution_count": 29,
   "id": "7731f86e-42b5-410c-a46c-0e58369cb54b",
   "metadata": {
    "tags": []
   },
   "outputs": [
    {
     "data": {
      "text/html": [
       "<div><img onload=\"(function(div, url){\n",
       "if (typeof require !== 'undefined') {\n",
       "    var baseURL = require.toUrl('').split('/').slice(0, -2).join('/');\n",
       "} else {\n",
       "    var baseURL = JSON.parse(\n",
       "        document.getElementById('jupyter-config-data').innerHTML\n",
       "    ).baseUrl.slice(0, -1);\n",
       "}\n",
       "url = baseURL + url;\n",
       "fetch(url).then(function(res) {\n",
       "    if (res.status === 404) {\n",
       "        div.innerHTML = 'Install QIIME 2 Jupyter extension with:<br />' +\n",
       "                        '<code>jupyter server extension enable --py qiime2' +\n",
       "                        ' --sys-prefix</code><br />then restart your server.' +\n",
       "                        '<br /><br />(Interactive output not available on ' +\n",
       "                        'static notebook viewer services like nbviewer.)';\n",
       "    } else if (res.status === 409) {\n",
       "        div.innerHTML = 'Visualization no longer in scope. Re-run this cell' +\n",
       "                        ' to see the visualization.';\n",
       "    } else if (res.ok) {\n",
       "        url = res.url;\n",
       "        div.innerHTML = '<iframe src=\\'' + url + '\\' style=\\'' +\n",
       "                        'width: 100%; height: 700px; border: 0;\\'>' +\n",
       "                        '</iframe><hr />Open in a: <a href=\\'' + url + '\\'' +\n",
       "                        ' target=\\'_blank\\'>new window</a>'\n",
       "    } else {\n",
       "        div.innerHTML = 'Something has gone wrong. Check notebook server for' +\n",
       "                        ' errors.';\n",
       "    }\n",
       "});\n",
       "})(this.parentElement, '/qiime2/redirect?location=/tmp/qiime2/jovyan/data/f37dcebf-8bc4-40f3-8aa4-b936f3907b7d')\" src=\"data:image/gif;base64,R0lGODlhAQABAIAAAP///wAAACH5BAEAAAAALAAAAAABAAEAAAICRAEAOw==\" /></div>"
      ],
      "text/plain": [
       "<visualization: Visualization uuid: f37dcebf-8bc4-40f3-8aa4-b936f3907b7d>"
      ]
     },
     "execution_count": 29,
     "metadata": {},
     "output_type": "execute_result"
    }
   ],
   "source": [
    "Visualization.load(f\"{processed_data_dir}/taxa-bar-plots.qzv\")"
   ]
  },
  {
   "cell_type": "markdown",
   "id": "68b7976d-a1a9-4b8d-9d50-a706ca2c03d2",
   "metadata": {},
   "source": [
    "## Filtering feature tables and sequences based on taxonomy annotations"
   ]
  },
  {
   "cell_type": "code",
   "execution_count": null,
   "id": "7c204545-bb62-4ea0-a28a-15c460dc465d",
   "metadata": {
    "tags": []
   },
   "outputs": [],
   "source": [
    "! qiime taxa filter-table \\\n",
    "    --i-table $processed_data_dir/dada2_table_140.qza \\\n",
    "    --i-taxonomy $processed_data_dir/taxonomy_140.qza \\\n",
    "    --p-exclude mitochondria,chloroplast \\\n",
    "    --p-include c__ \\\n",
    "    --o-filtered-table $processed_data_dir/table-filtered_140.qza\n",
    "\n",
    "! qiime taxa filter-seqs \\\n",
    "    --i-sequences $processed_data_dir/dada2_rep_set_140.qza \\\n",
    "    --i-taxonomy $processed_data_dir/taxonomy_140.qza \\\n",
    "    --p-exclude mitochondria,chloroplast \\\n",
    "    --p-include c__ \\\n",
    "    --o-filtered-sequences $processed_data_dir/rep-seqs-filtered_140.qza"
   ]
  },
  {
   "cell_type": "code",
   "execution_count": null,
   "id": "810977b2-84ef-468a-859e-94c0734711a9",
   "metadata": {
    "tags": []
   },
   "outputs": [],
   "source": [
    "! qiime taxa barplot \\\n",
    "  --i-table $processed_data_dir/table-filtered_140.qza \\\n",
    "  --i-taxonomy $processed_data_dir/taxonomy_140.qza \\\n",
    "  --m-metadata-file $data_dir/metadata.tsv \\\n",
    "  --o-visualization $processed_data_dir/taxa-bar-plots_filtered.qzv"
   ]
  },
  {
   "cell_type": "code",
   "execution_count": null,
   "id": "275d36a1-f0b7-457a-837f-926aad2275e9",
   "metadata": {
    "tags": []
   },
   "outputs": [],
   "source": [
    "Visualization.load(f\"{processed_data_dir}/taxa-bar-plots_filtered.qzv\")"
   ]
  },
  {
   "cell_type": "code",
   "execution_count": null,
   "id": "d71ca63c-73de-4b76-a90f-c12b3bce86b2",
   "metadata": {},
   "outputs": [],
   "source": []
  }
 ],
 "metadata": {
  "kernelspec": {
   "display_name": "QIIME 2",
   "language": "python",
   "name": "python3"
  },
  "language_info": {
   "codemirror_mode": {
    "name": "ipython",
    "version": 3
   },
   "file_extension": ".py",
   "mimetype": "text/x-python",
   "name": "python",
   "nbconvert_exporter": "python",
   "pygments_lexer": "ipython3",
   "version": "3.10.14"
  }
 },
 "nbformat": 4,
 "nbformat_minor": 5
}
