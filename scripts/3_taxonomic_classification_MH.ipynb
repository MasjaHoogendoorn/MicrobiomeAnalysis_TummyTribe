{
 "cells": [
  {
   "cell_type": "markdown",
   "id": "fdde43dc",
   "metadata": {},
   "source": [
    "# 3. Taxonomic Classification\n",
    "## Import data & packages"
   ]
  },
  {
   "cell_type": "code",
   "execution_count": 12,
   "id": "f6f245d1",
   "metadata": {
    "tags": []
   },
   "outputs": [],
   "source": [
    "# 1 - Import all packages\n",
    "import IPython\n",
    "import pandas as pd\n",
    "import matplotlib.pyplot as plt\n",
    "import os\n",
    "import qiime2 as q2\n",
    "from qiime2 import Visualization\n",
    "\n",
    "%matplotlib inline"
   ]
  },
  {
   "cell_type": "code",
   "execution_count": 13,
   "id": "a6026f06",
   "metadata": {
    "tags": []
   },
   "outputs": [
    {
     "name": "stdout",
     "output_type": "stream",
     "text": [
      "Current working directory: /home/jovyan/Project/MicrobiomeAnalysis_TummyTribe\n"
     ]
    }
   ],
   "source": [
    "# 2 - Set working directory\n",
    "os.chdir(\"/home/jovyan/Project/MicrobiomeAnalysis_TummyTribe/\")\n",
    "\n",
    "# Verify that your wroking directory is the overall project folder (.../MicrobiomeAnalysis_TummyTribe)\n",
    "print(\"Current working directory:\", os.getcwd())"
   ]
  },
  {
   "cell_type": "code",
   "execution_count": 14,
   "id": "a71a03c9",
   "metadata": {
    "tags": []
   },
   "outputs": [],
   "source": [
    "# 3 - Data directory for the raw data\n",
    "data_dir = \"data/raw\"\n",
    "processed_data_dir = \"data/processed-pre_trained\""
   ]
  },
  {
   "cell_type": "markdown",
   "id": "667878bb",
   "metadata": {},
   "source": [
    "##  Set-up SILVA (ran!)"
   ]
  },
  {
   "cell_type": "markdown",
   "id": "c66cf728",
   "metadata": {},
   "source": [
    "Assign taxonomy using a SILVA v4 pre-trained classifier (as said in project description)\n",
    "- https://forum.qiime2.org/t/processing-filtering-and-evaluating-the-silva-database-and-other-reference-sequence-data-with-rescript/15494## Import data & packages"
   ]
  },
  {
   "cell_type": "code",
   "execution_count": 4,
   "id": "89a8fa61",
   "metadata": {
    "tags": []
   },
   "outputs": [],
   "source": [
    "# also takes a long time to run all these cells! \n",
    "\n",
    "# ! qiime rescript get-silva-data \\\n",
    "#     --p-version '138.2' \\\n",
    "#     --p-target 'SSURef_NR99' \\\n",
    "#     --o-silva-sequences  $processed_data_dir/silva-138.2-ssu-nr99-rna-seqs.qza \\\n",
    "#     --o-silva-taxonomy $processed_data_dir/silva-138.2-ssu-nr99-tax.qza"
   ]
  },
  {
   "cell_type": "code",
   "execution_count": 5,
   "id": "f6a6a1ac",
   "metadata": {
    "tags": []
   },
   "outputs": [],
   "source": [
    "# ! qiime rescript reverse-transcribe \\\n",
    "#     --i-rna-sequences $processed_data_dir/silva-138.2-ssu-nr99-rna-seqs.qza \\\n",
    "#     --o-dna-sequences $processed_data_dir/silva-138.2-ssu-nr99-seqs.qza"
   ]
  },
  {
   "cell_type": "code",
   "execution_count": 6,
   "id": "f0b93deb",
   "metadata": {
    "tags": []
   },
   "outputs": [],
   "source": [
    "# ! qiime rescript cull-seqs \\\n",
    "#     --i-sequences $processed_data_dir/silva-138.2-ssu-nr99-seqs.qza \\\n",
    "#     --o-clean-sequences $processed_data_dir/silva-138.2-ssu-nr99-seqs-cleaned.qza"
   ]
  },
  {
   "cell_type": "code",
   "execution_count": 7,
   "id": "0cf95545",
   "metadata": {
    "tags": []
   },
   "outputs": [],
   "source": [
    "# ! qiime rescript filter-seqs-length-by-taxon \\\n",
    "#     --i-sequences $processed_data_dir/silva-138.2-ssu-nr99-seqs-cleaned.qza \\\n",
    "#     --i-taxonomy $processed_data_dir/silva-138.2-ssu-nr99-tax.qza \\\n",
    "#     --p-labels Archaea Bacteria Eukaryota \\\n",
    "#     --p-min-lens 900 1200 1400 \\\n",
    "#     --o-filtered-seqs $processed_data_dir/silva-138.2-ssu-nr99-seqs-filt.qza \\\n",
    "#     --o-discarded-seqs $processed_data_dir/silva-138.2-ssu-nr99-seqs-discard.qza "
   ]
  },
  {
   "cell_type": "code",
   "execution_count": 8,
   "id": "204330d1",
   "metadata": {
    "tags": []
   },
   "outputs": [],
   "source": [
    "# ! qiime rescript dereplicate \\\n",
    "#     --i-sequences $processed_data_dir/silva-138.2-ssu-nr99-seqs-filt.qza  \\\n",
    "#     --i-taxa $processed_data_dir/silva-138.2-ssu-nr99-tax.qza \\\n",
    "#     --p-mode 'uniq' \\\n",
    "#     --o-dereplicated-sequences $processed_data_dir/silva-138.2-ssu-nr99-seqs-derep-uniq.qza \\\n",
    "#     --o-dereplicated-taxa $processed_data_dir/silva-138.2-ssu-nr99-tax-derep-uniq.qza"
   ]
  },
  {
   "cell_type": "code",
   "execution_count": 9,
   "id": "46b5d632",
   "metadata": {
    "tags": []
   },
   "outputs": [],
   "source": [
    "# ! qiime feature-classifier fit-classifier-naive-bayes \\\n",
    "#   --i-reference-reads  $processed_data_dir/silva-138.2-ssu-nr99-seqs-derep-uniq.qza \\\n",
    "#   --i-reference-taxonomy $processed_data_dir/silva-138.2-ssu-nr99-tax-derep-uniq.qza \\\n",
    "#   --p-classify--chunk-size 10 \\\n",
    "#   --o-classifier $processed_data_dir/silva-138.2-ssu-nr99-classifier.qza \\\n",
    "#   if [ ! $? -eq 0 ]; then echo \"Command failed - most likely reason is not enough memory.\"; fi"
   ]
  },
  {
   "cell_type": "markdown",
   "id": "7e1fc1ec",
   "metadata": {},
   "source": [
    "##  Assign Taxonomy"
   ]
  },
  {
   "cell_type": "markdown",
   "id": "836daf14",
   "metadata": {},
   "source": [
    "pre-trained classifier from https://library.qiime2.org/data-resources, EXPERIMENTAL: human stool weighted Silva 138 99% OTUs full-length sequences\n",
    "\n"
   ]
  },
  {
   "cell_type": "code",
   "execution_count": null,
   "id": "1f30d71c",
   "metadata": {
    "tags": []
   },
   "outputs": [
    {
     "name": "stdout",
     "output_type": "stream",
     "text": [
      "--2025-10-21 11:05:44--  https://data.qiime2.org/classifiers/sklearn-1.4.2/silva/silva-138-99-nb-human-stool-weighted-classifier.qza\n",
      "Resolving data.qiime2.org (data.qiime2.org)... 54.200.1.12\n",
      "Connecting to data.qiime2.org (data.qiime2.org)|54.200.1.12|:443... connected.\n",
      "HTTP request sent, awaiting response... 302 FOUND\n",
      "Location: https://s3-us-west-2.amazonaws.com/qiime2-data/classifiers/sklearn-1.4.2/silva/silva-138-99-nb-human-stool-weighted-classifier.qza [following]\n",
      "--2025-10-21 11:05:45--  https://s3-us-west-2.amazonaws.com/qiime2-data/classifiers/sklearn-1.4.2/silva/silva-138-99-nb-human-stool-weighted-classifier.qza\n",
      "Resolving s3-us-west-2.amazonaws.com (s3-us-west-2.amazonaws.com)... 3.5.86.24, 52.92.236.144, 52.218.234.80, ...\n",
      "Connecting to s3-us-west-2.amazonaws.com (s3-us-west-2.amazonaws.com)|3.5.86.24|:443... connected.\n",
      "HTTP request sent, awaiting response... 200 OK\n",
      "Length: 218311668 (208M) [binary/octet-stream]\n",
      "Saving to: ‘data/raw/silva-138-99-nb-human-stool-weighted-classifier.qza’\n",
      "\n",
      "data/raw/silva-138- 100%[===================>] 208.20M  17.0MB/s    in 13s     \n",
      "\n",
      "2025-10-21 11:05:59 (15.5 MB/s) - ‘data/raw/silva-138-99-nb-human-stool-weighted-classifier.qza’ saved [218311668/218311668]\n",
      "\n"
     ]
    }
   ],
   "source": [
    "# It denies permission for me :/\n",
    "! wget -O $raw_data/silva-138-99-nb-human-stool-weighted-classifier.qza \\\n",
    "https://data.qiime2.org/classifiers/sklearn-1.4.2/silva/silva-138-99-nb-human-stool-weighted-classifier.qza"
   ]
  },
  {
   "cell_type": "code",
   "execution_count": null,
   "id": "f5f0cb36",
   "metadata": {
    "tags": []
   },
   "outputs": [
    {
     "name": "stdout",
     "output_type": "stream",
     "text": [
      "/opt/conda/lib/python3.10/site-packages/unifrac/__init__.py:9: UserWarning: pkg_resources is deprecated as an API. See https://setuptools.pypa.io/en/latest/pkg_resources.html. The pkg_resources package is slated for removal as early as 2025-11-30. Refrain from using this package or pin to Setuptools<81.\n",
      "  import pkg_resources\n",
      "\u001b[32mSaved FeatureData[Taxonomy] to: data/processed-pre_trained/taxonomy_140.qza\u001b[0m\n",
      "\u001b[0m\u001b[?25h"
     ]
    }
   ],
   "source": [
    "! qiime feature-classifier classify-sklearn \\\n",
    "    --i-classifier $data_dir/silva-138-99-nb-human-stool-weighted-classifier.qza \\\n",
    "    --i-reads $processed_data_dir/dada2_rep_set_140.qza \\\n",
    "    --o-classification $processed_data_dir/taxonomy_140.qza"
   ]
  },
  {
   "cell_type": "code",
   "execution_count": null,
   "id": "5cf162af",
   "metadata": {
    "tags": []
   },
   "outputs": [
    {
     "name": "stderr",
     "output_type": "stream",
     "text": [
      "<<<<<<< local <modified: >\n"
     ]
    },
    {
     "name": "stdout",
     "output_type": "stream",
     "text": [
      "\u001b[32mUUID\u001b[0m:        5fae7627-7901-48e3-8b7a-22db477b8a22\n",
      "\u001b[32mType\u001b[0m:        FeatureData[Taxonomy]\n",
      "\u001b[32mData format\u001b[0m: TSVTaxonomyDirectoryFormat\n"
     ]
    },
    {
     "name": "stderr",
     "output_type": "stream",
     "text": [
      "=======\n"
     ]
    },
    {
     "name": "stdout",
     "output_type": "stream",
     "text": [
      "\u001b[32mUUID\u001b[0m:        b2e2ff48-8578-496e-89d2-44d637e73c98\n",
      "\u001b[32mType\u001b[0m:        FeatureData[Taxonomy]\n",
      "\u001b[32mData format\u001b[0m: TSVTaxonomyDirectoryFormat\n"
     ]
    },
    {
     "name": "stderr",
     "output_type": "stream",
     "text": [
      ">>>>>>> remote <modified: >\n"
     ]
    }
   ],
   "source": [
    "! qiime tools peek $processed_data_dir/taxonomy_140.qza"
   ]
  },
  {
   "cell_type": "code",
   "execution_count": null,
   "id": "dd3a5529",
   "metadata": {
    "tags": []
   },
   "outputs": [
    {
     "name": "stdout",
     "output_type": "stream",
     "text": [
      "/opt/conda/lib/python3.10/site-packages/unifrac/__init__.py:9: UserWarning: pkg_resources is deprecated as an API. See https://setuptools.pypa.io/en/latest/pkg_resources.html. The pkg_resources package is slated for removal as early as 2025-11-30. Refrain from using this package or pin to Setuptools<81.\n",
      "  import pkg_resources\n",
      "\u001b[32mSaved Visualization to: data/processed-pre_trained/taxonomy_140.qzv\u001b[0m\n",
      "\u001b[0m\u001b[?25h"
     ]
    }
   ],
   "source": [
    "! qiime metadata tabulate \\\n",
    "    --m-input-file $processed_data_dir/taxonomy_140.qza \\\n",
    "    --o-visualization $processed_data_dir/taxonomy_140.qzv"
   ]
  },
  {
   "cell_type": "code",
   "execution_count": null,
   "id": "2604967b",
   "metadata": {
    "tags": []
   },
   "outputs": [
    {
     "name": "stderr",
     "output_type": "stream",
     "text": [
      "<<<<<<< local\n"
     ]
    },
    {
     "data": {
      "text/html": [
       "<div><img onload=\"(function(div, url){\n",
       "if (typeof require !== 'undefined') {\n",
       "    var baseURL = require.toUrl('').split('/').slice(0, -2).join('/');\n",
       "} else {\n",
       "    var baseURL = JSON.parse(\n",
       "        document.getElementById('jupyter-config-data').innerHTML\n",
       "    ).baseUrl.slice(0, -1);\n",
       "}\n",
       "url = baseURL + url;\n",
       "fetch(url).then(function(res) {\n",
       "    if (res.status === 404) {\n",
       "        div.innerHTML = 'Install QIIME 2 Jupyter extension with:<br />' +\n",
       "                        '<code>jupyter server extension enable --py qiime2' +\n",
       "                        ' --sys-prefix</code><br />then restart your server.' +\n",
       "                        '<br /><br />(Interactive output not available on ' +\n",
       "                        'static notebook viewer services like nbviewer.)';\n",
       "    } else if (res.status === 409) {\n",
       "        div.innerHTML = 'Visualization no longer in scope. Re-run this cell' +\n",
       "                        ' to see the visualization.';\n",
       "    } else if (res.ok) {\n",
       "        url = res.url;\n",
       "        div.innerHTML = '<iframe src=\\'' + url + '\\' style=\\'' +\n",
       "                        'width: 100%; height: 700px; border: 0;\\'>' +\n",
       "                        '</iframe><hr />Open in a: <a href=\\'' + url + '\\'' +\n",
       "                        ' target=\\'_blank\\'>new window</a>'\n",
       "    } else {\n",
       "        div.innerHTML = 'Something has gone wrong. Check notebook server for' +\n",
       "                        ' errors.';\n",
       "    }\n",
       "});\n",
       "})(this.parentElement, '/qiime2/redirect?location=/tmp/qiime2/jovyan/data/dbdc7a19-b20c-486b-8afe-0346138b9a75')\" src=\"data:image/gif;base64,R0lGODlhAQABAIAAAP///wAAACH5BAEAAAAALAAAAAABAAEAAAICRAEAOw==\" /></div>"
      ],
      "text/plain": [
       "<visualization: Visualization uuid: dbdc7a19-b20c-486b-8afe-0346138b9a75>"
      ]
     },
     "execution_count": 24,
     "metadata": {},
     "output_type": "execute_result"
    },
    {
     "name": "stderr",
     "output_type": "stream",
     "text": [
      "=======\n",
      ">>>>>>> remote\n",
      "<<<<<<< local <removed>\n",
      "=======\n"
     ]
    },
    {
     "data": {
      "text/html": [
       "<div><img onload=\"(function(div, url){\n",
       "if (typeof require !== 'undefined') {\n",
       "    var baseURL = require.toUrl('').split('/').slice(0, -2).join('/');\n",
       "} else {\n",
       "    var baseURL = JSON.parse(\n",
       "        document.getElementById('jupyter-config-data').innerHTML\n",
       "    ).baseUrl.slice(0, -1);\n",
       "}\n",
       "url = baseURL + url;\n",
       "fetch(url).then(function(res) {\n",
       "    if (res.status === 404) {\n",
       "        div.innerHTML = 'Install QIIME 2 Jupyter extension with:<br />' +\n",
       "                        '<code>jupyter server extension enable --py qiime2' +\n",
       "                        ' --sys-prefix</code><br />then restart your server.' +\n",
       "                        '<br /><br />(Interactive output not available on ' +\n",
       "                        'static notebook viewer services like nbviewer.)';\n",
       "    } else if (res.status === 409) {\n",
       "        div.innerHTML = 'Visualization no longer in scope. Re-run this cell' +\n",
       "                        ' to see the visualization.';\n",
       "    } else if (res.ok) {\n",
       "        url = res.url;\n",
       "        div.innerHTML = '<iframe src=\\'' + url + '\\' style=\\'' +\n",
       "                        'width: 100%; height: 700px; border: 0;\\'>' +\n",
       "                        '</iframe><hr />Open in a: <a href=\\'' + url + '\\'' +\n",
       "                        ' target=\\'_blank\\'>new window</a>'\n",
       "    } else {\n",
       "        div.innerHTML = 'Something has gone wrong. Check notebook server for' +\n",
       "                        ' errors.';\n",
       "    }\n",
       "});\n",
       "})(this.parentElement, '/qiime2/redirect?location=/tmp/qiime2/jovyan/data/d7e0b24a-57dd-43d2-a218-79f145ffe998')\" src=\"data:image/gif;base64,R0lGODlhAQABAIAAAP///wAAACH5BAEAAAAALAAAAAABAAEAAAICRAEAOw==\" /></div>"
      ],
      "text/plain": [
       "<visualization: Visualization uuid: d7e0b24a-57dd-43d2-a218-79f145ffe998>"
      ]
     },
     "execution_count": 14,
     "metadata": {},
     "output_type": "execute_result"
    },
    {
     "name": "stderr",
     "output_type": "stream",
     "text": [
      ">>>>>>> remote <modified: text/html, text/plain>\n"
     ]
    }
   ],
   "source": [
    "Visualization.load(f\"{processed_data_dir}/taxonomy_140.qzv\")"
   ]
  },
  {
   "cell_type": "code",
   "execution_count": null,
   "id": "1d732f63",
   "metadata": {
    "tags": []
   },
   "outputs": [
    {
     "name": "stdout",
     "output_type": "stream",
     "text": [
      "/opt/conda/lib/python3.10/site-packages/unifrac/__init__.py:9: UserWarning: pkg_resources is deprecated as an API. See https://setuptools.pypa.io/en/latest/pkg_resources.html. The pkg_resources package is slated for removal as early as 2025-11-30. Refrain from using this package or pin to Setuptools<81.\n",
      "  import pkg_resources\n",
      "\u001b[32mSaved Visualization to: data/processed-pre_trained/taxa-bar-plots.qzv\u001b[0m\n",
      "\u001b[0m\u001b[?25h"
     ]
    }
   ],
   "source": [
    "! qiime taxa barplot \\\n",
    "    --i-table $processed_data_dir/dada2_table_140.qza \\\n",
    "    --i-taxonomy $processed_data_dir/taxonomy_140.qza \\\n",
    "    --m-metadata-file $data_dir/metadata.tsv \\\n",
    "    --o-visualization $processed_data_dir/taxa-bar-plots.qzv"
   ]
  },
  {
   "cell_type": "code",
   "execution_count": null,
   "id": "67feba9b",
   "metadata": {
    "tags": []
   },
   "outputs": [
    {
     "name": "stderr",
     "output_type": "stream",
     "text": [
      "<<<<<<< local\n"
     ]
    },
    {
     "data": {
      "text/html": [
       "<div><img onload=\"(function(div, url){\n",
       "if (typeof require !== 'undefined') {\n",
       "    var baseURL = require.toUrl('').split('/').slice(0, -2).join('/');\n",
       "} else {\n",
       "    var baseURL = JSON.parse(\n",
       "        document.getElementById('jupyter-config-data').innerHTML\n",
       "    ).baseUrl.slice(0, -1);\n",
       "}\n",
       "url = baseURL + url;\n",
       "fetch(url).then(function(res) {\n",
       "    if (res.status === 404) {\n",
       "        div.innerHTML = 'Install QIIME 2 Jupyter extension with:<br />' +\n",
       "                        '<code>jupyter server extension enable --py qiime2' +\n",
       "                        ' --sys-prefix</code><br />then restart your server.' +\n",
       "                        '<br /><br />(Interactive output not available on ' +\n",
       "                        'static notebook viewer services like nbviewer.)';\n",
       "    } else if (res.status === 409) {\n",
       "        div.innerHTML = 'Visualization no longer in scope. Re-run this cell' +\n",
       "                        ' to see the visualization.';\n",
       "    } else if (res.ok) {\n",
       "        url = res.url;\n",
       "        div.innerHTML = '<iframe src=\\'' + url + '\\' style=\\'' +\n",
       "                        'width: 100%; height: 700px; border: 0;\\'>' +\n",
       "                        '</iframe><hr />Open in a: <a href=\\'' + url + '\\'' +\n",
       "                        ' target=\\'_blank\\'>new window</a>'\n",
       "    } else {\n",
       "        div.innerHTML = 'Something has gone wrong. Check notebook server for' +\n",
       "                        ' errors.';\n",
       "    }\n",
       "});\n",
       "})(this.parentElement, '/qiime2/redirect?location=/tmp/qiime2/jovyan/data/f37dcebf-8bc4-40f3-8aa4-b936f3907b7d')\" src=\"data:image/gif;base64,R0lGODlhAQABAIAAAP///wAAACH5BAEAAAAALAAAAAABAAEAAAICRAEAOw==\" /></div>"
      ],
      "text/plain": [
       "<visualization: Visualization uuid: f37dcebf-8bc4-40f3-8aa4-b936f3907b7d>"
      ]
     },
     "execution_count": 29,
     "metadata": {},
     "output_type": "execute_result"
    },
    {
     "name": "stderr",
     "output_type": "stream",
     "text": [
      "=======\n"
     ]
    },
    {
     "data": {
      "text/html": [
       "<div><img onload=\"(function(div, url){\n",
       "if (typeof require !== 'undefined') {\n",
       "    var baseURL = require.toUrl('').split('/').slice(0, -2).join('/');\n",
       "} else {\n",
       "    var baseURL = JSON.parse(\n",
       "        document.getElementById('jupyter-config-data').innerHTML\n",
       "    ).baseUrl.slice(0, -1);\n",
       "}\n",
       "url = baseURL + url;\n",
       "fetch(url).then(function(res) {\n",
       "    if (res.status === 404) {\n",
       "        div.innerHTML = 'Install QIIME 2 Jupyter extension with:<br />' +\n",
       "                        '<code>jupyter server extension enable --py qiime2' +\n",
       "                        ' --sys-prefix</code><br />then restart your server.' +\n",
       "                        '<br /><br />(Interactive output not available on ' +\n",
       "                        'static notebook viewer services like nbviewer.)';\n",
       "    } else if (res.status === 409) {\n",
       "        div.innerHTML = 'Visualization no longer in scope. Re-run this cell' +\n",
       "                        ' to see the visualization.';\n",
       "    } else if (res.ok) {\n",
       "        url = res.url;\n",
       "        div.innerHTML = '<iframe src=\\'' + url + '\\' style=\\'' +\n",
       "                        'width: 100%; height: 700px; border: 0;\\'>' +\n",
       "                        '</iframe><hr />Open in a: <a href=\\'' + url + '\\'' +\n",
       "                        ' target=\\'_blank\\'>new window</a>'\n",
       "    } else {\n",
       "        div.innerHTML = 'Something has gone wrong. Check notebook server for' +\n",
       "                        ' errors.';\n",
       "    }\n",
       "});\n",
       "})(this.parentElement, '/qiime2/redirect?location=/tmp/qiime2/jovyan/data/cf02aea4-1899-4ca0-9c2b-63333c05a092')\" src=\"data:image/gif;base64,R0lGODlhAQABAIAAAP///wAAACH5BAEAAAAALAAAAAABAAEAAAICRAEAOw==\" /></div>"
      ],
      "text/plain": [
       "<visualization: Visualization uuid: cf02aea4-1899-4ca0-9c2b-63333c05a092>"
      ]
     },
     "execution_count": 16,
     "metadata": {},
     "output_type": "execute_result"
    },
    {
     "name": "stderr",
     "output_type": "stream",
     "text": [
      ">>>>>>> remote\n"
     ]
    }
   ],
   "source": [
    "Visualization.load(f\"{processed_data_dir}/taxa-bar-plots.qzv\")"
   ]
  },
  {
   "cell_type": "markdown",
   "id": "9f1d0ab8",
   "metadata": {},
   "source": [
    "## Filtering feature tables and sequences based on taxonomy annotations"
   ]
  },
  {
   "cell_type": "code",
   "execution_count": null,
   "id": "e40ae5c5",
   "metadata": {
    "tags": []
   },
   "outputs": [
    {
     "name": "stderr",
     "output_type": "stream",
     "text": [
      "<<<<<<< local <removed>\n",
      "=======\n"
     ]
    },
    {
     "name": "stdout",
     "output_type": "stream",
     "text": [
      "/opt/conda/lib/python3.10/site-packages/unifrac/__init__.py:9: UserWarning: pkg_resources is deprecated as an API. See https://setuptools.pypa.io/en/latest/pkg_resources.html. The pkg_resources package is slated for removal as early as 2025-11-30. Refrain from using this package or pin to Setuptools<81.\n",
      "  import pkg_resources\n",
      "\u001b[32mSaved FeatureTable[Frequency] to: data/processed-pre_trained/table-filtered_140.qza\u001b[0m\n",
      "\u001b[0m\u001b[?25h/opt/conda/lib/python3.10/site-packages/unifrac/__init__.py:9: UserWarning: pkg_resources is deprecated as an API. See https://setuptools.pypa.io/en/latest/pkg_resources.html. The pkg_resources package is slated for removal as early as 2025-11-30. Refrain from using this package or pin to Setuptools<81.\n",
      "  import pkg_resources\n",
      "\u001b[32mSaved FeatureData[Sequence] to: data/processed-pre_trained/rep-seqs-filtered_140.qza\u001b[0m\n",
      "\u001b[0m\u001b[?25h"
     ]
    },
    {
     "name": "stderr",
     "output_type": "stream",
     "text": [
      ">>>>>>> remote <modified: >\n"
     ]
    }
   ],
   "source": [
    "! qiime taxa filter-table \\\n",
    "    --i-table $processed_data_dir/dada2_table_140.qza \\\n",
    "    --i-taxonomy $processed_data_dir/taxonomy_140.qza \\\n",
    "    --p-exclude mitochondria,chloroplast \\\n",
    "    --p-include c__ \\\n",
    "    --o-filtered-table $processed_data_dir/table-filtered_140.qza\n",
    "\n",
    "! qiime taxa filter-seqs \\\n",
    "    --i-sequences $processed_data_dir/dada2_rep_set_140.qza \\\n",
    "    --i-taxonomy $processed_data_dir/taxonomy_140.qza \\\n",
    "    --p-exclude mitochondria,chloroplast \\\n",
    "    --p-include c__ \\\n",
    "    --o-filtered-sequences $processed_data_dir/rep-seqs-filtered_140.qza"
   ]
  },
  {
   "cell_type": "code",
   "execution_count": null,
   "id": "a595b1e3",
   "metadata": {
    "tags": []
   },
   "outputs": [
    {
     "name": "stderr",
     "output_type": "stream",
     "text": [
      "<<<<<<< local <removed>\n",
      "=======\n"
     ]
    },
    {
     "name": "stdout",
     "output_type": "stream",
     "text": [
      "/opt/conda/lib/python3.10/site-packages/unifrac/__init__.py:9: UserWarning: pkg_resources is deprecated as an API. See https://setuptools.pypa.io/en/latest/pkg_resources.html. The pkg_resources package is slated for removal as early as 2025-11-30. Refrain from using this package or pin to Setuptools<81.\n",
      "  import pkg_resources\n",
      "\u001b[32mSaved Visualization to: data/processed-pre_trained/taxa-bar-plots_filtered.qzv\u001b[0m\n",
      "\u001b[0m\u001b[?25h"
     ]
    },
    {
     "name": "stderr",
     "output_type": "stream",
     "text": [
      ">>>>>>> remote <modified: >\n"
     ]
    }
   ],
   "source": [
    "! qiime taxa barplot \\\n",
    "  --i-table $processed_data_dir/table-filtered_140.qza \\\n",
    "  --i-taxonomy $processed_data_dir/taxonomy_140.qza \\\n",
    "  --m-metadata-file $data_dir/metadata.tsv \\\n",
    "  --o-visualization $processed_data_dir/taxa-bar-plots_filtered.qzv"
   ]
  },
  {
   "cell_type": "code",
   "execution_count": null,
   "id": "8ba08790",
   "metadata": {
    "tags": []
   },
   "outputs": [
    {
     "data": {
      "text/html": [
       "<div><img onload=\"(function(div, url){\n",
       "if (typeof require !== 'undefined') {\n",
       "    var baseURL = require.toUrl('').split('/').slice(0, -2).join('/');\n",
       "} else {\n",
       "    var baseURL = JSON.parse(\n",
       "        document.getElementById('jupyter-config-data').innerHTML\n",
       "    ).baseUrl.slice(0, -1);\n",
       "}\n",
       "url = baseURL + url;\n",
       "fetch(url).then(function(res) {\n",
       "    if (res.status === 404) {\n",
       "        div.innerHTML = 'Install QIIME 2 Jupyter extension with:<br />' +\n",
       "                        '<code>jupyter server extension enable --py qiime2' +\n",
       "                        ' --sys-prefix</code><br />then restart your server.' +\n",
       "                        '<br /><br />(Interactive output not available on ' +\n",
       "                        'static notebook viewer services like nbviewer.)';\n",
       "    } else if (res.status === 409) {\n",
       "        div.innerHTML = 'Visualization no longer in scope. Re-run this cell' +\n",
       "                        ' to see the visualization.';\n",
       "    } else if (res.ok) {\n",
       "        url = res.url;\n",
       "        div.innerHTML = '<iframe src=\\'' + url + '\\' style=\\'' +\n",
       "                        'width: 100%; height: 700px; border: 0;\\'>' +\n",
       "                        '</iframe><hr />Open in a: <a href=\\'' + url + '\\'' +\n",
       "                        ' target=\\'_blank\\'>new window</a>'\n",
       "    } else {\n",
       "        div.innerHTML = 'Something has gone wrong. Check notebook server for' +\n",
       "                        ' errors.';\n",
       "    }\n",
       "});\n",
       "})(this.parentElement, '/qiime2/redirect?location=/tmp/qiime2/jovyan/data/b74a5446-915c-473a-8448-4cecfb2378fb')\" src=\"data:image/gif;base64,R0lGODlhAQABAIAAAP///wAAACH5BAEAAAAALAAAAAABAAEAAAICRAEAOw==\" /></div>"
      ],
      "text/plain": [
       "<visualization: Visualization uuid: b74a5446-915c-473a-8448-4cecfb2378fb>"
      ]
     },
     "execution_count": 19,
     "metadata": {},
     "output_type": "execute_result"
    }
   ],
   "source": [
    "Visualization.load(f\"{processed_data_dir}/taxa-bar-plots_filtered.qzv\")"
   ]
  },
  {
   "cell_type": "code",
   "execution_count": null,
   "id": "5693cedf",
   "metadata": {},
   "outputs": [],
   "source": []
  }
 ],
 "metadata": {
  "kernelspec": {
   "display_name": "QIIME 2",
   "language": "python",
   "name": "python3"
  },
  "language_info": {
   "codemirror_mode": {
    "name": "ipython",
    "version": 3
   },
   "file_extension": ".py",
   "mimetype": "text/x-python",
   "name": "python",
   "nbconvert_exporter": "python",
   "pygments_lexer": "ipython3",
   "version": "3.10.14"
  }
 },
 "nbformat": 4,
 "nbformat_minor": 5
}
