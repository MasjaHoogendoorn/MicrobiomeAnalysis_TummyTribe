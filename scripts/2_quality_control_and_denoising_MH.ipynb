{
 "cells": [
  {
   "cell_type": "markdown",
   "id": "10f7a4f1-7bfe-4c1d-938f-02c520a471b9",
   "metadata": {},
   "source": [
    "# 2. Quality Control and Denoising\n",
    "## Import data & packages"
   ]
  },
  {
   "cell_type": "code",
   "execution_count": 2,
   "id": "69762c81-6132-418c-a788-4e24284a7c19",
   "metadata": {
    "tags": []
   },
   "outputs": [],
   "source": [
    "#Import all necessary packages\n",
    "import IPython\n",
    "import pandas as pd\n",
    "import matplotlib.pyplot as plt\n",
    "import os\n",
    "import qiime2 as q2\n",
    "from qiime2 import Visualization\n",
    "\n",
    "%matplotlib inline"
   ]
  },
  {
   "cell_type": "code",
   "execution_count": 7,
   "id": "ee7b2b65-2453-41ad-b6fc-1c40fb90f7bb",
   "metadata": {
    "tags": []
   },
   "outputs": [
    {
     "name": "stdout",
     "output_type": "stream",
     "text": [
      "Current working directory: /home/jovyan/MicrobiomeAnalysis_TummyTribe\n"
     ]
    }
   ],
   "source": [
    "#Set working directory\n",
    "os.chdir(\"/home/jovyan/MicrobiomeAnalysis_TummyTribe/\")\n",
    "\n",
    "# Verify that your wroking directory is the overall project folder (.../MicrobiomeAnalysis_TummyTribe)\n",
    "print(\"Current working directory:\", os.getcwd())"
   ]
  },
  {
   "cell_type": "code",
   "execution_count": 4,
   "id": "20f7eadf-99d1-40e9-aa37-fd3197f11658",
   "metadata": {
    "tags": []
   },
   "outputs": [],
   "source": [
    "#Data directory for the raw data\n",
    "data_dir = \"data/raw\"\n",
    "processed_data_dir = \"data/processed\""
   ]
  },
  {
   "cell_type": "markdown",
   "id": "360f1b28-4497-4557-a1f1-6a58882a00d2",
   "metadata": {},
   "source": [
    "## Quality Control"
   ]
  },
  {
   "cell_type": "code",
   "execution_count": 20,
   "id": "88cd8a35-3ad8-4109-ab2a-12143ab533ee",
   "metadata": {
    "tags": []
   },
   "outputs": [
    {
     "name": "stdout",
     "output_type": "stream",
     "text": [
      "\u001b[32mUUID\u001b[0m:        b4782ab7-550b-41f5-b906-ca2cda29ca9b\n",
      "\u001b[32mType\u001b[0m:        SampleData[PairedEndSequencesWithQuality]\n",
      "\u001b[32mData format\u001b[0m: SingleLanePerSamplePairedEndFastqDirFmt\n"
     ]
    }
   ],
   "source": [
    "! qiime tools peek $data_dir/sequences-demux-paired.qza"
   ]
  },
  {
   "cell_type": "code",
   "execution_count": 21,
   "id": "a3b13fcd-ab49-416b-af2f-12b189876b58",
   "metadata": {
    "tags": []
   },
   "outputs": [
    {
     "name": "stdout",
     "output_type": "stream",
     "text": [
      "/opt/conda/lib/python3.10/site-packages/unifrac/__init__.py:9: UserWarning: pkg_resources is deprecated as an API. See https://setuptools.pypa.io/en/latest/pkg_resources.html. The pkg_resources package is slated for removal as early as 2025-11-30. Refrain from using this package or pin to Setuptools<81.\n",
      "  import pkg_resources\n",
      "\u001b[32mSaved Visualization to: data/raw/sequences-demux-paired.qzv\u001b[0m\n",
      "\u001b[0m\u001b[?25h"
     ]
    }
   ],
   "source": [
    "! qiime demux summarize \\\n",
    "    --i-data $data_dir/sequences-demux-paired.qza \\\n",
    "    --o-visualization $data_dir/sequences-demux-paired.qzv"
   ]
  },
  {
   "cell_type": "code",
   "execution_count": 9,
   "id": "ae31dc11-5c6e-40db-81ff-4fef50b1d302",
   "metadata": {
    "tags": []
   },
   "outputs": [
    {
     "data": {
      "text/html": [
       "<div><img onload=\"(function(div, url){\n",
       "if (typeof require !== 'undefined') {\n",
       "    var baseURL = require.toUrl('').split('/').slice(0, -2).join('/');\n",
       "} else {\n",
       "    var baseURL = JSON.parse(\n",
       "        document.getElementById('jupyter-config-data').innerHTML\n",
       "    ).baseUrl.slice(0, -1);\n",
       "}\n",
       "url = baseURL + url;\n",
       "fetch(url).then(function(res) {\n",
       "    if (res.status === 404) {\n",
       "        div.innerHTML = 'Install QIIME 2 Jupyter extension with:<br />' +\n",
       "                        '<code>jupyter server extension enable --py qiime2' +\n",
       "                        ' --sys-prefix</code><br />then restart your server.' +\n",
       "                        '<br /><br />(Interactive output not available on ' +\n",
       "                        'static notebook viewer services like nbviewer.)';\n",
       "    } else if (res.status === 409) {\n",
       "        div.innerHTML = 'Visualization no longer in scope. Re-run this cell' +\n",
       "                        ' to see the visualization.';\n",
       "    } else if (res.ok) {\n",
       "        url = res.url;\n",
       "        div.innerHTML = '<iframe src=\\'' + url + '\\' style=\\'' +\n",
       "                        'width: 100%; height: 700px; border: 0;\\'>' +\n",
       "                        '</iframe><hr />Open in a: <a href=\\'' + url + '\\'' +\n",
       "                        ' target=\\'_blank\\'>new window</a>'\n",
       "    } else {\n",
       "        div.innerHTML = 'Something has gone wrong. Check notebook server for' +\n",
       "                        ' errors.';\n",
       "    }\n",
       "});\n",
       "})(this.parentElement, '/qiime2/redirect?location=/tmp/qiime2/jovyan/data/c40357e3-3550-42b1-aeda-e7c93bb42742')\" src=\"data:image/gif;base64,R0lGODlhAQABAIAAAP///wAAACH5BAEAAAAALAAAAAABAAEAAAICRAEAOw==\" /></div>"
      ],
      "text/plain": [
       "<visualization: Visualization uuid: c40357e3-3550-42b1-aeda-e7c93bb42742>"
      ]
     },
     "execution_count": 9,
     "metadata": {},
     "output_type": "execute_result"
    }
   ],
   "source": [
    "Visualization.load(f\"{data_dir}/sequences-demux-paired.qzv\")"
   ]
  },
  {
   "cell_type": "markdown",
   "id": "bb6e845f-7129-461a-8724-d20ab1d13584",
   "metadata": {},
   "source": [
    "## Denoising and merging"
   ]
  },
  {
   "cell_type": "markdown",
   "id": "e59365a8-be7c-49ee-b7c7-f6ed59c44fe5",
   "metadata": {},
   "source": [
    "Parameters\n",
    "- `p-trunc-len` - we will truncate the reads to 130 bp (sequences shorter than this will be removed automatically)\n",
    "- `p-n-threads` - if we have more than 1 CPU available, we can specify the number here to make the processing faster\n",
    "- `o-table` - this will be our ASVs feature table\n",
    "- `o-representative-sequences` - this will be a list of all the denoised features (DNA sequences)\n",
    "- `o-denoising-stats` - this will be some stats from the denoising process"
   ]
  },
  {
   "cell_type": "markdown",
   "id": "fe4470c4-3229-451c-92ca-72337c87b855",
   "metadata": {},
   "source": [
    "Information on parameters and function: https://docs.qiime2.org/2024.10/plugins/available/dada2/denoise-paired/\n",
    "Example tutorial of paired read analysis: https://docs.qiime2.org/2024.10/tutorials/atacama-soils/"
   ]
  },
  {
   "cell_type": "markdown",
   "id": "17562de6-496c-4401-8344-c7c1d1061475",
   "metadata": {},
   "source": [
    "Even though the forward reads look good, we still need sufficient overlap for merging the paired reads into one continuous sequence. Using a truncation length of 140 for both the forward and reverse reads allows us to get less chimeras and lose less reads in the denoising than if we keep a longer part of the forward read. "
   ]
  },
  {
   "cell_type": "markdown",
   "id": "00f9dc70-f972-4484-a95f-a1c435e6250e",
   "metadata": {},
   "source": [
    "So we shorten both reads to balance:\n",
    "- High-quality bases (for denoising)\n",
    "- Enough overlap (for merging)"
   ]
  },
  {
   "cell_type": "code",
   "execution_count": 8,
   "id": "4ff9a26b-a52f-45e7-b3b2-ef36e6df8e01",
   "metadata": {},
   "outputs": [
    {
     "name": "stdout",
     "output_type": "stream",
     "text": [
      "/opt/conda/lib/python3.10/site-packages/unifrac/__init__.py:9: UserWarning: pkg_resources is deprecated as an API. See https://setuptools.pypa.io/en/latest/pkg_resources.html. The pkg_resources package is slated for removal as early as 2025-11-30. Refrain from using this package or pin to Setuptools<81.\n",
      "  import pkg_resources\n",
      "Running external command line application(s). This may print messages to stdout and/or stderr.\n",
      "The command(s) being run are below. These commands cannot be manually re-run as they will depend on temporary files that no longer exist.\n",
      "\n",
      "Command: run_dada.R --input_directory /tmp/tmpodeddc0l/forward --input_directory_reverse /tmp/tmpodeddc0l/reverse --output_path /tmp/tmpodeddc0l/output.tsv.biom --output_track /tmp/tmpodeddc0l/track.tsv --filtered_directory /tmp/tmpodeddc0l/filt_f --filtered_directory_reverse /tmp/tmpodeddc0l/filt_r --truncation_length 140 --truncation_length_reverse 140 --trim_left 0 --trim_left_reverse 0 --max_expected_errors 2.0 --max_expected_errors_reverse 2.0 --truncation_quality_score 2 --min_overlap 12 --max_merge_mismatch 0 --trim_overhang False --pooling_method independent --chimera_method consensus --min_parental_fold 1.0 --allow_one_off False --num_threads 3 --learn_min_reads 1000000\n",
      "\n",
      "R version 4.3.3 (2024-02-29) \n",
      "Loading required package: Rcpp\n",
      "\u001b[?25hDADA2: 1.30.0 / Rcpp: 1.1.0 / RcppParallel: 5.1.9 \n",
      "\u001b[?25h\u001b[?25h2) Filtering \u001b[?25h\u001b[?25h.....................................................................................................................................................................................................................................................................................................................................................................\u001b[?25h\u001b[?25h\u001b[?25h\n",
      "\u001b[?25h\u001b[?25h3) Learning Error Rates\n",
      "\u001b[?25h141931720 total bases in 1013798 reads from 23 samples will be used for learning the error rates.\n",
      "141931720 total bases in 1013798 reads from 23 samples will be used for learning the error rates.\n",
      "\u001b[?25h3) Denoise samples .....................................................................................................................................................................................................................................................................................................................................................................\n",
      ".....................................................................................................................................................................................................................................................................................................................................................................\n",
      "\u001b[?25h5) Remove chimeras (method = consensus)\n",
      "\u001b[?25h\u001b[?25h6) Report read numbers through the pipeline\n",
      "\u001b[?25h\u001b[?25h7) Write output\n",
      "\u001b[?25h\u001b[?25h\u001b[?25h\u001b[?25h\u001b[?25h\u001b[?25h\u001b[?25h\u001b[32mSaved FeatureTable[Frequency] to: data/processed/dada2_table_140.qza\u001b[0m\n",
      "\u001b[32mSaved FeatureData[Sequence] to: data/processed/dada2_rep_set_140.qza\u001b[0m\n",
      "\u001b[32mSaved SampleData[DADA2Stats] to: data/processed/dada2_stats_140.qza\u001b[0m\n",
      "\u001b[0m\u001b[?25h"
     ]
    }
   ],
   "source": [
    "# this cell takes a loooong time to run. Time for coffee? \n",
    "# Or a cool video? https://www.youtube.com/watch?v=-z4gNr7mN3U\n",
    "# Or a pull-up!\n",
    "# Nvm that last one, too difficult\n",
    "# Find Laura's long lost dads\n",
    "\n",
    "! qiime dada2 denoise-paired \\\n",
    "    --i-demultiplexed-seqs $data_dir/sequences-demux-paired.qza \\\n",
    "    --p-trunc-len-f 140 \\\n",
    "    --p-trunc-len-r 140 \\\n",
    "    --p-n-threads 3 \\\n",
    "    --o-table $processed_data_dir/dada2_table_140.qza \\\n",
    "    --o-representative-sequences $processed_data_dir/dada2_rep_set_140.qza \\\n",
    "    --o-denoising-stats $processed_data_dir/dada2_stats_140.qza \\\n",
    "    --verbose"
   ]
  },
  {
   "cell_type": "code",
   "execution_count": 6,
   "id": "f7528eed-bc3f-4694-8ca1-e7e3f46bd93c",
   "metadata": {
    "tags": []
   },
   "outputs": [
    {
     "name": "stdout",
     "output_type": "stream",
     "text": [
      "/opt/conda/lib/python3.10/site-packages/unifrac/__init__.py:9: UserWarning: pkg_resources is deprecated as an API. See https://setuptools.pypa.io/en/latest/pkg_resources.html. The pkg_resources package is slated for removal as early as 2025-11-30. Refrain from using this package or pin to Setuptools<81.\n",
      "  import pkg_resources\n",
      "\u001b[31m\u001b[1mThere was an issue with loading the file data/processed/dada2_stats_140.qza as metadata:\n",
      "\n",
      "  Metadata file path doesn't exist, or the path points to something other than a file. Please check that the path exists, has read permissions, and points to a regular file (not a directory): data/processed/dada2_stats_140.qza\n",
      "\n",
      "  There may be more errors present in the metadata file. To get a full report, sample/feature metadata files can be validated with Keemei: https://keemei.qiime2.org\n",
      "\n",
      "  Find details on QIIME 2 metadata requirements here: https://docs.qiime2.org/2025.7/tutorials/metadata/\u001b[0m\n",
      "\n",
      "\u001b[0m\u001b[?25h"
     ]
    }
   ],
   "source": [
    "! qiime metadata tabulate \\\n",
    "    --m-input-file $processed_data_dir/dada2_stats_140.qza \\\n",
    "    --o-visualization $processed_data_dir/dada2_stats_140.qzv"
   ]
  },
  {
   "cell_type": "code",
   "execution_count": 7,
   "id": "1b48d0b7-6da6-4ad0-ad70-361f86071587",
   "metadata": {
    "tags": []
   },
   "outputs": [
    {
     "ename": "ValueError",
     "evalue": "data/processed/dada2_stats_140.qzv does not exist.",
     "output_type": "error",
     "traceback": [
      "\u001b[0;31m---------------------------------------------------------------------------\u001b[0m",
      "\u001b[0;31mValueError\u001b[0m                                Traceback (most recent call last)",
      "Cell \u001b[0;32mIn[7], line 1\u001b[0m\n\u001b[0;32m----> 1\u001b[0m \u001b[43mVisualization\u001b[49m\u001b[38;5;241;43m.\u001b[39;49m\u001b[43mload\u001b[49m\u001b[43m(\u001b[49m\u001b[38;5;124;43mf\u001b[39;49m\u001b[38;5;124;43m\"\u001b[39;49m\u001b[38;5;132;43;01m{\u001b[39;49;00m\u001b[43mprocessed_data_dir\u001b[49m\u001b[38;5;132;43;01m}\u001b[39;49;00m\u001b[38;5;124;43m/dada2_stats_140.qzv\u001b[39;49m\u001b[38;5;124;43m\"\u001b[39;49m\u001b[43m)\u001b[49m\n",
      "File \u001b[0;32m/opt/conda/lib/python3.10/site-packages/qiime2/sdk/result.py:78\u001b[0m, in \u001b[0;36mResult.load\u001b[0;34m(cls, filepath)\u001b[0m\n\u001b[1;32m     74\u001b[0m \u001b[38;5;66;03m# Check if the data is already in the cache (if the uuid is in\u001b[39;00m\n\u001b[1;32m     75\u001b[0m \u001b[38;5;66;03m# cache.data) and load it from the cache if it is. Avoids unzipping the\u001b[39;00m\n\u001b[1;32m     76\u001b[0m \u001b[38;5;66;03m# qza again if we already have it.\u001b[39;00m\n\u001b[1;32m     77\u001b[0m cache \u001b[38;5;241m=\u001b[39m get_cache()\n\u001b[0;32m---> 78\u001b[0m peek \u001b[38;5;241m=\u001b[39m \u001b[38;5;28;43mcls\u001b[39;49m\u001b[38;5;241;43m.\u001b[39;49m\u001b[43mpeek\u001b[49m\u001b[43m(\u001b[49m\u001b[43mfilepath\u001b[49m\u001b[43m)\u001b[49m\n\u001b[1;32m     79\u001b[0m archiver \u001b[38;5;241m=\u001b[39m cache\u001b[38;5;241m.\u001b[39m_load_uuid(peek\u001b[38;5;241m.\u001b[39muuid)\n\u001b[1;32m     81\u001b[0m \u001b[38;5;28;01mif\u001b[39;00m \u001b[38;5;129;01mnot\u001b[39;00m archiver:\n",
      "File \u001b[0;32m/opt/conda/lib/python3.10/site-packages/qiime2/sdk/result.py:62\u001b[0m, in \u001b[0;36mResult.peek\u001b[0;34m(cls, filepath)\u001b[0m\n\u001b[1;32m     60\u001b[0m \u001b[38;5;129m@classmethod\u001b[39m\n\u001b[1;32m     61\u001b[0m \u001b[38;5;28;01mdef\u001b[39;00m\u001b[38;5;250m \u001b[39m\u001b[38;5;21mpeek\u001b[39m(\u001b[38;5;28mcls\u001b[39m, filepath):\n\u001b[0;32m---> 62\u001b[0m     \u001b[38;5;28;01mreturn\u001b[39;00m ResultMetadata(\u001b[38;5;241m*\u001b[39m\u001b[43marchive\u001b[49m\u001b[38;5;241;43m.\u001b[39;49m\u001b[43mArchiver\u001b[49m\u001b[38;5;241;43m.\u001b[39;49m\u001b[43mpeek\u001b[49m\u001b[43m(\u001b[49m\u001b[43mfilepath\u001b[49m\u001b[43m)\u001b[49m)\n",
      "File \u001b[0;32m/opt/conda/lib/python3.10/site-packages/qiime2/core/archive/archiver.py:350\u001b[0m, in \u001b[0;36mArchiver.peek\u001b[0;34m(cls, filepath)\u001b[0m\n\u001b[1;32m    348\u001b[0m \u001b[38;5;129m@classmethod\u001b[39m\n\u001b[1;32m    349\u001b[0m \u001b[38;5;28;01mdef\u001b[39;00m\u001b[38;5;250m \u001b[39m\u001b[38;5;21mpeek\u001b[39m(\u001b[38;5;28mcls\u001b[39m, filepath):\n\u001b[0;32m--> 350\u001b[0m     archive \u001b[38;5;241m=\u001b[39m \u001b[38;5;28;43mcls\u001b[39;49m\u001b[38;5;241;43m.\u001b[39;49m\u001b[43mget_archive\u001b[49m\u001b[43m(\u001b[49m\u001b[43mfilepath\u001b[49m\u001b[43m)\u001b[49m\n\u001b[1;32m    351\u001b[0m     Format \u001b[38;5;241m=\u001b[39m \u001b[38;5;28mcls\u001b[39m\u001b[38;5;241m.\u001b[39mget_format_class(archive\u001b[38;5;241m.\u001b[39mversion)\n\u001b[1;32m    352\u001b[0m     \u001b[38;5;28;01mif\u001b[39;00m Format \u001b[38;5;129;01mis\u001b[39;00m \u001b[38;5;28;01mNone\u001b[39;00m:\n",
      "File \u001b[0;32m/opt/conda/lib/python3.10/site-packages/qiime2/core/archive/archiver.py:329\u001b[0m, in \u001b[0;36mArchiver.get_archive\u001b[0;34m(cls, filepath)\u001b[0m\n\u001b[1;32m    327\u001b[0m filepath \u001b[38;5;241m=\u001b[39m pathlib\u001b[38;5;241m.\u001b[39mPath(filepath)\n\u001b[1;32m    328\u001b[0m \u001b[38;5;28;01mif\u001b[39;00m \u001b[38;5;129;01mnot\u001b[39;00m filepath\u001b[38;5;241m.\u001b[39mexists():\n\u001b[0;32m--> 329\u001b[0m     \u001b[38;5;28;01mraise\u001b[39;00m \u001b[38;5;167;01mValueError\u001b[39;00m(\u001b[38;5;124m\"\u001b[39m\u001b[38;5;132;01m%s\u001b[39;00m\u001b[38;5;124m does not exist.\u001b[39m\u001b[38;5;124m\"\u001b[39m \u001b[38;5;241m%\u001b[39m filepath)\n\u001b[1;32m    331\u001b[0m \u001b[38;5;28;01mif\u001b[39;00m _ZipArchive\u001b[38;5;241m.\u001b[39mis_archive_type(filepath):\n\u001b[1;32m    332\u001b[0m     archive \u001b[38;5;241m=\u001b[39m _ZipArchive(filepath)\n",
      "\u001b[0;31mValueError\u001b[0m: data/processed/dada2_stats_140.qzv does not exist."
     ]
    }
   ],
   "source": [
    "Visualization.load(f\"{processed_data_dir}/dada2_stats_140.qzv\")"
   ]
  },
  {
   "cell_type": "code",
   "execution_count": null,
   "id": "e39584d2-336e-4474-a3ef-393e388f8101",
   "metadata": {
    "tags": []
   },
   "outputs": [],
   "source": [
    "! qiime feature-table summarize \\\n",
    "    --i-table $processed_data_dir/dada2_table_140.qza \\\n",
    "    --m-sample-metadata-file $data_dir/metadata.tsv \\\n",
    "    --o-visualization $processed_data_dir/dada2_table_140.qzv"
   ]
  },
  {
   "cell_type": "code",
   "execution_count": null,
   "id": "6f48ffa1-9020-4763-9c8f-b591e8b6dd3a",
   "metadata": {
    "tags": []
   },
   "outputs": [],
   "source": [
    "Visualization.load(f\"{processed_data_dir}/dada2_table_140.qzv\")"
   ]
  },
  {
   "cell_type": "code",
   "execution_count": null,
   "id": "e1f28e25-9537-416c-a86d-e5854bf7e984",
   "metadata": {},
   "outputs": [],
   "source": []
  }
 ],
 "metadata": {
  "kernelspec": {
   "display_name": "QIIME 2",
   "language": "python",
   "name": "python3"
  },
  "language_info": {
   "codemirror_mode": {
    "name": "ipython",
    "version": 3
   },
   "file_extension": ".py",
   "mimetype": "text/x-python",
   "name": "python",
   "nbconvert_exporter": "python",
   "pygments_lexer": "ipython3",
   "version": "3.10.14"
  }
 },
 "nbformat": 4,
 "nbformat_minor": 5
}
